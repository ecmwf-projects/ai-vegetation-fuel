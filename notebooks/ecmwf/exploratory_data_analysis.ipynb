{
 "cells": [
  {
   "cell_type": "code",
   "execution_count": 1,
   "id": "9e55e06e",
   "metadata": {},
   "outputs": [
    {
     "name": "stderr",
     "output_type": "stream",
     "text": [
      "\n",
      "Bad key \"text.kerning_factor\" on line 4 in\n",
      "/home/moc0/miniconda3/envs/ml-fuel/lib/python3.8/site-packages/matplotlib/mpl-data/stylelib/_classic_test_patch.mplstyle.\n",
      "You probably need to get an updated matplotlibrc file from\n",
      "https://github.com/matplotlib/matplotlib/blob/v3.1.3/matplotlibrc.template\n",
      "or from the matplotlib source distribution\n"
     ]
    }
   ],
   "source": [
    "import os\n",
    "import pandas as pd\n",
    "import numpy as np\n",
    "import seaborn as sb\n",
    "import matplotlib.pyplot as plt"
   ]
  },
  {
   "cell_type": "code",
   "execution_count": 2,
   "id": "471afef3",
   "metadata": {},
   "outputs": [],
   "source": [
    "# Define plot size\n",
    "plt.rcParams[\"figure.figsize\"] = (15,5)"
   ]
  },
  {
   "cell_type": "code",
   "execution_count": 3,
   "id": "293df17a",
   "metadata": {},
   "outputs": [],
   "source": [
    "# Define working directory\n",
    "os.chdir('/home/moc0/ai-vegetation-fuel')"
   ]
  },
  {
   "cell_type": "code",
   "execution_count": 4,
   "id": "1425c1d4",
   "metadata": {},
   "outputs": [],
   "source": [
    "# Load raw train data\n",
    "train = pd.read_csv(os.getcwd() + \"/data/inputs/train_interpTrue_raw.csv\",\n",
    "                    dtype={'climatic_region':'category',\n",
    "                           'biome':'category',\n",
    "                           'GFEDregions':'category'})\n",
    "train = train.drop('Unnamed: 0', axis = 1)"
   ]
  },
  {
   "cell_type": "markdown",
   "id": "64e4ad63",
   "metadata": {},
   "source": [
    "# Exploratory Data Analysis"
   ]
  },
  {
   "cell_type": "markdown",
   "id": "37084306",
   "metadata": {},
   "source": [
    "This notebook explores the data assembled in notebook `data_preparation.ipynb`. It looks at the probability distributions of outcome and predictors, possible data transformations as well as correlations and redundandies amongst variables."
   ]
  },
  {
   "cell_type": "code",
   "execution_count": 5,
   "id": "795abaf0",
   "metadata": {},
   "outputs": [
    {
     "data": {
      "text/html": [
       "<div>\n",
       "<style scoped>\n",
       "    .dataframe tbody tr th:only-of-type {\n",
       "        vertical-align: middle;\n",
       "    }\n",
       "\n",
       "    .dataframe tbody tr th {\n",
       "        vertical-align: top;\n",
       "    }\n",
       "\n",
       "    .dataframe thead th {\n",
       "        text-align: right;\n",
       "    }\n",
       "</style>\n",
       "<table border=\"1\" class=\"dataframe\">\n",
       "  <thead>\n",
       "    <tr style=\"text-align: right;\">\n",
       "      <th></th>\n",
       "      <th>latitude</th>\n",
       "      <th>longitude</th>\n",
       "      <th>dry_matter</th>\n",
       "      <th>climatic_region</th>\n",
       "      <th>biome</th>\n",
       "      <th>GFEDregions</th>\n",
       "      <th>slope</th>\n",
       "      <th>vod</th>\n",
       "      <th>lai</th>\n",
       "      <th>spi03</th>\n",
       "      <th>...</th>\n",
       "      <th>ffmcode</th>\n",
       "      <th>dufmcode</th>\n",
       "      <th>drtcode</th>\n",
       "      <th>infsinx</th>\n",
       "      <th>fbupinx</th>\n",
       "      <th>fdsrte</th>\n",
       "      <th>frp</th>\n",
       "      <th>daysElapsed</th>\n",
       "      <th>timeYear</th>\n",
       "      <th>timeMonth</th>\n",
       "    </tr>\n",
       "  </thead>\n",
       "  <tbody>\n",
       "    <tr>\n",
       "      <th>0</th>\n",
       "      <td>-32.375</td>\n",
       "      <td>28.125</td>\n",
       "      <td>1.001038</td>\n",
       "      <td>3.0</td>\n",
       "      <td>1.0</td>\n",
       "      <td>9.0</td>\n",
       "      <td>0.014507</td>\n",
       "      <td>0.228241</td>\n",
       "      <td>0.222220</td>\n",
       "      <td>-0.398828</td>\n",
       "      <td>...</td>\n",
       "      <td>3.302874</td>\n",
       "      <td>13.643188</td>\n",
       "      <td>109.829220</td>\n",
       "      <td>1.191657</td>\n",
       "      <td>22.684143</td>\n",
       "      <td>2.530905</td>\n",
       "      <td>0.000000</td>\n",
       "      <td>212</td>\n",
       "      <td>2010</td>\n",
       "      <td>8</td>\n",
       "    </tr>\n",
       "    <tr>\n",
       "      <th>1</th>\n",
       "      <td>17.875</td>\n",
       "      <td>82.375</td>\n",
       "      <td>27.360060</td>\n",
       "      <td>4.0</td>\n",
       "      <td>5.0</td>\n",
       "      <td>12.0</td>\n",
       "      <td>0.024084</td>\n",
       "      <td>0.385490</td>\n",
       "      <td>0.555550</td>\n",
       "      <td>-0.349998</td>\n",
       "      <td>...</td>\n",
       "      <td>-3.897657</td>\n",
       "      <td>-43.599540</td>\n",
       "      <td>-57.730576</td>\n",
       "      <td>-3.418025</td>\n",
       "      <td>-41.623190</td>\n",
       "      <td>-7.454767</td>\n",
       "      <td>0.000000</td>\n",
       "      <td>1520</td>\n",
       "      <td>2014</td>\n",
       "      <td>3</td>\n",
       "    </tr>\n",
       "    <tr>\n",
       "      <th>2</th>\n",
       "      <td>-31.625</td>\n",
       "      <td>28.375</td>\n",
       "      <td>3.641749</td>\n",
       "      <td>3.0</td>\n",
       "      <td>1.0</td>\n",
       "      <td>9.0</td>\n",
       "      <td>0.020789</td>\n",
       "      <td>0.275492</td>\n",
       "      <td>0.288886</td>\n",
       "      <td>-0.404686</td>\n",
       "      <td>...</td>\n",
       "      <td>-5.759307</td>\n",
       "      <td>-13.695341</td>\n",
       "      <td>-106.551190</td>\n",
       "      <td>-0.762760</td>\n",
       "      <td>-19.835646</td>\n",
       "      <td>-1.497616</td>\n",
       "      <td>0.000000</td>\n",
       "      <td>1277</td>\n",
       "      <td>2013</td>\n",
       "      <td>7</td>\n",
       "    </tr>\n",
       "    <tr>\n",
       "      <th>3</th>\n",
       "      <td>13.375</td>\n",
       "      <td>37.125</td>\n",
       "      <td>17.883150</td>\n",
       "      <td>4.0</td>\n",
       "      <td>1.0</td>\n",
       "      <td>8.0</td>\n",
       "      <td>0.042149</td>\n",
       "      <td>0.256732</td>\n",
       "      <td>0.433329</td>\n",
       "      <td>-0.295313</td>\n",
       "      <td>...</td>\n",
       "      <td>1.007990</td>\n",
       "      <td>-88.729330</td>\n",
       "      <td>26.709599</td>\n",
       "      <td>1.302401</td>\n",
       "      <td>-74.875960</td>\n",
       "      <td>3.221945</td>\n",
       "      <td>0.000000</td>\n",
       "      <td>455</td>\n",
       "      <td>2011</td>\n",
       "      <td>4</td>\n",
       "    </tr>\n",
       "    <tr>\n",
       "      <th>4</th>\n",
       "      <td>8.125</td>\n",
       "      <td>-1.625</td>\n",
       "      <td>1.747495</td>\n",
       "      <td>4.0</td>\n",
       "      <td>1.0</td>\n",
       "      <td>8.0</td>\n",
       "      <td>0.006682</td>\n",
       "      <td>0.199548</td>\n",
       "      <td>0.722215</td>\n",
       "      <td>1.403907</td>\n",
       "      <td>...</td>\n",
       "      <td>-1.280416</td>\n",
       "      <td>-128.986300</td>\n",
       "      <td>-210.755860</td>\n",
       "      <td>-1.751252</td>\n",
       "      <td>-125.311600</td>\n",
       "      <td>-7.706358</td>\n",
       "      <td>0.007889</td>\n",
       "      <td>1492</td>\n",
       "      <td>2014</td>\n",
       "      <td>2</td>\n",
       "    </tr>\n",
       "  </tbody>\n",
       "</table>\n",
       "<p>5 rows × 31 columns</p>\n",
       "</div>"
      ],
      "text/plain": [
       "   latitude  longitude  dry_matter climatic_region biome GFEDregions  \\\n",
       "0   -32.375     28.125    1.001038             3.0   1.0         9.0   \n",
       "1    17.875     82.375   27.360060             4.0   5.0        12.0   \n",
       "2   -31.625     28.375    3.641749             3.0   1.0         9.0   \n",
       "3    13.375     37.125   17.883150             4.0   1.0         8.0   \n",
       "4     8.125     -1.625    1.747495             4.0   1.0         8.0   \n",
       "\n",
       "      slope       vod       lai     spi03  ...   ffmcode    dufmcode  \\\n",
       "0  0.014507  0.228241  0.222220 -0.398828  ...  3.302874   13.643188   \n",
       "1  0.024084  0.385490  0.555550 -0.349998  ... -3.897657  -43.599540   \n",
       "2  0.020789  0.275492  0.288886 -0.404686  ... -5.759307  -13.695341   \n",
       "3  0.042149  0.256732  0.433329 -0.295313  ...  1.007990  -88.729330   \n",
       "4  0.006682  0.199548  0.722215  1.403907  ... -1.280416 -128.986300   \n",
       "\n",
       "      drtcode   infsinx     fbupinx    fdsrte       frp  daysElapsed  \\\n",
       "0  109.829220  1.191657   22.684143  2.530905  0.000000          212   \n",
       "1  -57.730576 -3.418025  -41.623190 -7.454767  0.000000         1520   \n",
       "2 -106.551190 -0.762760  -19.835646 -1.497616  0.000000         1277   \n",
       "3   26.709599  1.302401  -74.875960  3.221945  0.000000          455   \n",
       "4 -210.755860 -1.751252 -125.311600 -7.706358  0.007889         1492   \n",
       "\n",
       "   timeYear  timeMonth  \n",
       "0      2010          8  \n",
       "1      2014          3  \n",
       "2      2013          7  \n",
       "3      2011          4  \n",
       "4      2014          2  \n",
       "\n",
       "[5 rows x 31 columns]"
      ]
     },
     "execution_count": 5,
     "metadata": {},
     "output_type": "execute_result"
    }
   ],
   "source": [
    "train.head()"
   ]
  },
  {
   "cell_type": "code",
   "execution_count": 6,
   "id": "b41e8bee",
   "metadata": {},
   "outputs": [
    {
     "data": {
      "text/html": [
       "<div>\n",
       "<style scoped>\n",
       "    .dataframe tbody tr th:only-of-type {\n",
       "        vertical-align: middle;\n",
       "    }\n",
       "\n",
       "    .dataframe tbody tr th {\n",
       "        vertical-align: top;\n",
       "    }\n",
       "\n",
       "    .dataframe thead th {\n",
       "        text-align: right;\n",
       "    }\n",
       "</style>\n",
       "<table border=\"1\" class=\"dataframe\">\n",
       "  <thead>\n",
       "    <tr style=\"text-align: right;\">\n",
       "      <th></th>\n",
       "      <th>latitude</th>\n",
       "      <th>longitude</th>\n",
       "      <th>dry_matter</th>\n",
       "      <th>slope</th>\n",
       "      <th>vod</th>\n",
       "      <th>lai</th>\n",
       "      <th>spi03</th>\n",
       "      <th>spi06</th>\n",
       "      <th>spi12</th>\n",
       "      <th>d2m</th>\n",
       "      <th>...</th>\n",
       "      <th>ffmcode</th>\n",
       "      <th>dufmcode</th>\n",
       "      <th>drtcode</th>\n",
       "      <th>infsinx</th>\n",
       "      <th>fbupinx</th>\n",
       "      <th>fdsrte</th>\n",
       "      <th>frp</th>\n",
       "      <th>daysElapsed</th>\n",
       "      <th>timeYear</th>\n",
       "      <th>timeMonth</th>\n",
       "    </tr>\n",
       "  </thead>\n",
       "  <tbody>\n",
       "    <tr>\n",
       "      <th>count</th>\n",
       "      <td>530032.000000</td>\n",
       "      <td>530032.000000</td>\n",
       "      <td>530032.000000</td>\n",
       "      <td>530032.000000</td>\n",
       "      <td>530032.000000</td>\n",
       "      <td>530032.000000</td>\n",
       "      <td>530032.000000</td>\n",
       "      <td>530032.000000</td>\n",
       "      <td>530032.000000</td>\n",
       "      <td>530032.000000</td>\n",
       "      <td>...</td>\n",
       "      <td>530032.000000</td>\n",
       "      <td>530032.000000</td>\n",
       "      <td>530032.000000</td>\n",
       "      <td>530032.000000</td>\n",
       "      <td>530032.000000</td>\n",
       "      <td>530032.000000</td>\n",
       "      <td>530032.000000</td>\n",
       "      <td>530032.000000</td>\n",
       "      <td>530032.000000</td>\n",
       "      <td>530032.000000</td>\n",
       "    </tr>\n",
       "    <tr>\n",
       "      <th>mean</th>\n",
       "      <td>3.655381</td>\n",
       "      <td>18.944044</td>\n",
       "      <td>81.688910</td>\n",
       "      <td>0.008974</td>\n",
       "      <td>0.372455</td>\n",
       "      <td>1.198224</td>\n",
       "      <td>-0.150948</td>\n",
       "      <td>-0.150079</td>\n",
       "      <td>-0.104575</td>\n",
       "      <td>0.207567</td>\n",
       "      <td>...</td>\n",
       "      <td>0.992243</td>\n",
       "      <td>9.640836</td>\n",
       "      <td>24.398638</td>\n",
       "      <td>0.486638</td>\n",
       "      <td>10.198012</td>\n",
       "      <td>1.021441</td>\n",
       "      <td>0.016800</td>\n",
       "      <td>1299.705472</td>\n",
       "      <td>2013.057719</td>\n",
       "      <td>7.037356</td>\n",
       "    </tr>\n",
       "    <tr>\n",
       "      <th>std</th>\n",
       "      <td>25.075860</td>\n",
       "      <td>62.861161</td>\n",
       "      <td>231.033890</td>\n",
       "      <td>0.010678</td>\n",
       "      <td>0.174444</td>\n",
       "      <td>1.240191</td>\n",
       "      <td>0.966769</td>\n",
       "      <td>0.990232</td>\n",
       "      <td>1.020436</td>\n",
       "      <td>1.449496</td>\n",
       "      <td>...</td>\n",
       "      <td>3.104970</td>\n",
       "      <td>50.228942</td>\n",
       "      <td>112.639016</td>\n",
       "      <td>1.591400</td>\n",
       "      <td>48.270810</td>\n",
       "      <td>3.765627</td>\n",
       "      <td>0.065342</td>\n",
       "      <td>720.506871</td>\n",
       "      <td>1.975931</td>\n",
       "      <td>3.128706</td>\n",
       "    </tr>\n",
       "    <tr>\n",
       "      <th>min</th>\n",
       "      <td>-53.375000</td>\n",
       "      <td>-178.375000</td>\n",
       "      <td>0.000003</td>\n",
       "      <td>0.000100</td>\n",
       "      <td>0.013333</td>\n",
       "      <td>0.000000</td>\n",
       "      <td>-3.090235</td>\n",
       "      <td>-3.090235</td>\n",
       "      <td>-3.090235</td>\n",
       "      <td>-10.326317</td>\n",
       "      <td>...</td>\n",
       "      <td>-29.217953</td>\n",
       "      <td>-487.233900</td>\n",
       "      <td>-995.420800</td>\n",
       "      <td>-14.604648</td>\n",
       "      <td>-434.393680</td>\n",
       "      <td>-42.597305</td>\n",
       "      <td>0.000000</td>\n",
       "      <td>90.000000</td>\n",
       "      <td>2010.000000</td>\n",
       "      <td>1.000000</td>\n",
       "    </tr>\n",
       "    <tr>\n",
       "      <th>25%</th>\n",
       "      <td>-14.375000</td>\n",
       "      <td>-13.875000</td>\n",
       "      <td>2.865247</td>\n",
       "      <td>0.002679</td>\n",
       "      <td>0.238871</td>\n",
       "      <td>0.444440</td>\n",
       "      <td>-0.787499</td>\n",
       "      <td>-0.814844</td>\n",
       "      <td>-0.787499</td>\n",
       "      <td>-0.582896</td>\n",
       "      <td>...</td>\n",
       "      <td>-0.309050</td>\n",
       "      <td>-9.317945</td>\n",
       "      <td>-33.849669</td>\n",
       "      <td>-0.313922</td>\n",
       "      <td>-10.052906</td>\n",
       "      <td>-0.584911</td>\n",
       "      <td>0.000000</td>\n",
       "      <td>638.000000</td>\n",
       "      <td>2011.000000</td>\n",
       "      <td>5.000000</td>\n",
       "    </tr>\n",
       "    <tr>\n",
       "      <th>50%</th>\n",
       "      <td>-4.875000</td>\n",
       "      <td>24.875000</td>\n",
       "      <td>12.255775</td>\n",
       "      <td>0.005189</td>\n",
       "      <td>0.339245</td>\n",
       "      <td>0.811103</td>\n",
       "      <td>-0.156640</td>\n",
       "      <td>-0.141014</td>\n",
       "      <td>-0.076073</td>\n",
       "      <td>0.090870</td>\n",
       "      <td>...</td>\n",
       "      <td>0.649816</td>\n",
       "      <td>2.638136</td>\n",
       "      <td>14.453959</td>\n",
       "      <td>0.306134</td>\n",
       "      <td>3.965799</td>\n",
       "      <td>0.381645</td>\n",
       "      <td>0.000000</td>\n",
       "      <td>1308.000000</td>\n",
       "      <td>2013.000000</td>\n",
       "      <td>7.000000</td>\n",
       "    </tr>\n",
       "    <tr>\n",
       "      <th>75%</th>\n",
       "      <td>11.875000</td>\n",
       "      <td>39.125000</td>\n",
       "      <td>56.225450</td>\n",
       "      <td>0.010857</td>\n",
       "      <td>0.477850</td>\n",
       "      <td>1.399986</td>\n",
       "      <td>0.472265</td>\n",
       "      <td>0.513283</td>\n",
       "      <td>0.591407</td>\n",
       "      <td>0.900308</td>\n",
       "      <td>...</td>\n",
       "      <td>2.224207</td>\n",
       "      <td>25.823007</td>\n",
       "      <td>78.100291</td>\n",
       "      <td>1.179688</td>\n",
       "      <td>28.332432</td>\n",
       "      <td>2.539695</td>\n",
       "      <td>0.011826</td>\n",
       "      <td>1946.000000</td>\n",
       "      <td>2015.000000</td>\n",
       "      <td>10.000000</td>\n",
       "    </tr>\n",
       "    <tr>\n",
       "      <th>max</th>\n",
       "      <td>72.125000</td>\n",
       "      <td>178.125000</td>\n",
       "      <td>12042.022608</td>\n",
       "      <td>0.148362</td>\n",
       "      <td>1.246869</td>\n",
       "      <td>6.933264</td>\n",
       "      <td>3.089850</td>\n",
       "      <td>3.089455</td>\n",
       "      <td>3.089487</td>\n",
       "      <td>9.319929</td>\n",
       "      <td>...</td>\n",
       "      <td>34.290535</td>\n",
       "      <td>859.559200</td>\n",
       "      <td>1768.237300</td>\n",
       "      <td>17.965261</td>\n",
       "      <td>808.088000</td>\n",
       "      <td>45.783276</td>\n",
       "      <td>6.347862</td>\n",
       "      <td>2526.000000</td>\n",
       "      <td>2016.000000</td>\n",
       "      <td>12.000000</td>\n",
       "    </tr>\n",
       "  </tbody>\n",
       "</table>\n",
       "<p>8 rows × 28 columns</p>\n",
       "</div>"
      ],
      "text/plain": [
       "            latitude      longitude     dry_matter          slope  \\\n",
       "count  530032.000000  530032.000000  530032.000000  530032.000000   \n",
       "mean        3.655381      18.944044      81.688910       0.008974   \n",
       "std        25.075860      62.861161     231.033890       0.010678   \n",
       "min       -53.375000    -178.375000       0.000003       0.000100   \n",
       "25%       -14.375000     -13.875000       2.865247       0.002679   \n",
       "50%        -4.875000      24.875000      12.255775       0.005189   \n",
       "75%        11.875000      39.125000      56.225450       0.010857   \n",
       "max        72.125000     178.125000   12042.022608       0.148362   \n",
       "\n",
       "                 vod            lai          spi03          spi06  \\\n",
       "count  530032.000000  530032.000000  530032.000000  530032.000000   \n",
       "mean        0.372455       1.198224      -0.150948      -0.150079   \n",
       "std         0.174444       1.240191       0.966769       0.990232   \n",
       "min         0.013333       0.000000      -3.090235      -3.090235   \n",
       "25%         0.238871       0.444440      -0.787499      -0.814844   \n",
       "50%         0.339245       0.811103      -0.156640      -0.141014   \n",
       "75%         0.477850       1.399986       0.472265       0.513283   \n",
       "max         1.246869       6.933264       3.089850       3.089455   \n",
       "\n",
       "               spi12            d2m  ...        ffmcode       dufmcode  \\\n",
       "count  530032.000000  530032.000000  ...  530032.000000  530032.000000   \n",
       "mean       -0.104575       0.207567  ...       0.992243       9.640836   \n",
       "std         1.020436       1.449496  ...       3.104970      50.228942   \n",
       "min        -3.090235     -10.326317  ...     -29.217953    -487.233900   \n",
       "25%        -0.787499      -0.582896  ...      -0.309050      -9.317945   \n",
       "50%        -0.076073       0.090870  ...       0.649816       2.638136   \n",
       "75%         0.591407       0.900308  ...       2.224207      25.823007   \n",
       "max         3.089487       9.319929  ...      34.290535     859.559200   \n",
       "\n",
       "             drtcode        infsinx        fbupinx         fdsrte  \\\n",
       "count  530032.000000  530032.000000  530032.000000  530032.000000   \n",
       "mean       24.398638       0.486638      10.198012       1.021441   \n",
       "std       112.639016       1.591400      48.270810       3.765627   \n",
       "min      -995.420800     -14.604648    -434.393680     -42.597305   \n",
       "25%       -33.849669      -0.313922     -10.052906      -0.584911   \n",
       "50%        14.453959       0.306134       3.965799       0.381645   \n",
       "75%        78.100291       1.179688      28.332432       2.539695   \n",
       "max      1768.237300      17.965261     808.088000      45.783276   \n",
       "\n",
       "                 frp    daysElapsed       timeYear      timeMonth  \n",
       "count  530032.000000  530032.000000  530032.000000  530032.000000  \n",
       "mean        0.016800    1299.705472    2013.057719       7.037356  \n",
       "std         0.065342     720.506871       1.975931       3.128706  \n",
       "min         0.000000      90.000000    2010.000000       1.000000  \n",
       "25%         0.000000     638.000000    2011.000000       5.000000  \n",
       "50%         0.000000    1308.000000    2013.000000       7.000000  \n",
       "75%         0.011826    1946.000000    2015.000000      10.000000  \n",
       "max         6.347862    2526.000000    2016.000000      12.000000  \n",
       "\n",
       "[8 rows x 28 columns]"
      ]
     },
     "execution_count": 6,
     "metadata": {},
     "output_type": "execute_result"
    }
   ],
   "source": [
    "train.describe()"
   ]
  },
  {
   "cell_type": "code",
   "execution_count": 7,
   "id": "fe6eb768",
   "metadata": {},
   "outputs": [
    {
     "name": "stdout",
     "output_type": "stream",
     "text": [
      "['latitude', 'longitude', 'slope', 'vod', 'lai', 'spi03', 'spi06', 'spi12', 'd2m', 'erate', 'fg10', 'si10', 'swvl1', 't2m', 'tprate', 'danger_risk', 'fwinx', 'ffmcode', 'dufmcode', 'drtcode', 'infsinx', 'fbupinx', 'fdsrte', 'frp', 'daysElapsed', 'timeYear', 'timeMonth']\n"
     ]
    }
   ],
   "source": [
    "# Define target variable (y) as well as categorical and numerical features\n",
    "y = 'dry_matter'\n",
    "cat = ['climatic_region', 'biome', 'GFEDregions']\n",
    "cont = train.columns.to_list()\n",
    "for i in cat + [y]:\n",
    "    cont.remove(i)\n",
    "print(cont)"
   ]
  },
  {
   "cell_type": "markdown",
   "id": "148dd8e2",
   "metadata": {},
   "source": [
    "## Check distributions of outcome variable and features\n",
    "\n",
    "Are the target and all the continuous features normally distributed?"
   ]
  },
  {
   "cell_type": "code",
   "execution_count": 8,
   "id": "94eefde8",
   "metadata": {},
   "outputs": [
    {
     "data": {
      "text/plain": [
       "<matplotlib.axes._subplots.AxesSubplot at 0x7f7b696354f0>"
      ]
     },
     "execution_count": 8,
     "metadata": {},
     "output_type": "execute_result"
    },
    {
     "data": {
      "image/png": "[encoded data removed]",
      "text/plain": [
       "<Figure size 1080x360 with 1 Axes>"
      ]
     },
     "metadata": {
      "needs_background": "light"
     },
     "output_type": "display_data"
    }
   ],
   "source": [
    "train[y].hist(bins = 50)"
   ]
  },
  {
   "cell_type": "markdown",
   "id": "ffa99281",
   "metadata": {},
   "source": [
    "It looks like the target is highly right skewed. This could be corrected by log-transforming the target variable."
   ]
  },
  {
   "cell_type": "code",
   "execution_count": 9,
   "id": "f7cfa60d",
   "metadata": {},
   "outputs": [
    {
     "data": {
      "text/plain": [
       "<matplotlib.axes._subplots.AxesSubplot at 0x7f7b2b20ef70>"
      ]
     },
     "execution_count": 9,
     "metadata": {},
     "output_type": "execute_result"
    },
    {
     "data": {
      "image/png": "[encoded data removed]",
      "text/plain": [
       "<Figure size 1080x360 with 1 Axes>"
      ]
     },
     "metadata": {
      "needs_background": "light"
     },
     "output_type": "display_data"
    }
   ],
   "source": [
    "np.log(train[y]).hist(bins = 50)"
   ]
  },
  {
   "cell_type": "markdown",
   "id": "e12e2be6",
   "metadata": {},
   "source": [
    "Let's now look at the features."
   ]
  },
  {
   "cell_type": "code",
   "execution_count": 10,
   "id": "636d7f68",
   "metadata": {},
   "outputs": [
    {
     "data": {
      "text/plain": [
       "array([[<matplotlib.axes._subplots.AxesSubplot object at 0x7f7b2b0e3040>,\n",
       "        <matplotlib.axes._subplots.AxesSubplot object at 0x7f7b2b081f10>,\n",
       "        <matplotlib.axes._subplots.AxesSubplot object at 0x7f7b2b0a8a30>,\n",
       "        <matplotlib.axes._subplots.AxesSubplot object at 0x7f7b2b060280>,\n",
       "        <matplotlib.axes._subplots.AxesSubplot object at 0x7f7b2b007af0>],\n",
       "       [<matplotlib.axes._subplots.AxesSubplot object at 0x7f7b2b03f3a0>,\n",
       "        <matplotlib.axes._subplots.AxesSubplot object at 0x7f7b2afcc2b0>,\n",
       "        <matplotlib.axes._subplots.AxesSubplot object at 0x7f7b2aff5b50>,\n",
       "        <matplotlib.axes._subplots.AxesSubplot object at 0x7f7b2af49ca0>,\n",
       "        <matplotlib.axes._subplots.AxesSubplot object at 0x7f7b2af80550>],\n",
       "       [<matplotlib.axes._subplots.AxesSubplot object at 0x7f7b2af2bd90>,\n",
       "        <matplotlib.axes._subplots.AxesSubplot object at 0x7f7b2aee1610>,\n",
       "        <matplotlib.axes._subplots.AxesSubplot object at 0x7f7b2ae8ce50>,\n",
       "        <matplotlib.axes._subplots.AxesSubplot object at 0x7f7b2ae416d0>,\n",
       "        <matplotlib.axes._subplots.AxesSubplot object at 0x7f7b2ae6bf10>],\n",
       "       [<matplotlib.axes._subplots.AxesSubplot object at 0x7f7b2ae20790>,\n",
       "        <matplotlib.axes._subplots.AxesSubplot object at 0x7f7b2adccfd0>,\n",
       "        <matplotlib.axes._subplots.AxesSubplot object at 0x7f7b2ad818b0>,\n",
       "        <matplotlib.axes._subplots.AxesSubplot object at 0x7f7b2adbaee0>,\n",
       "        <matplotlib.axes._subplots.AxesSubplot object at 0x7f7b2ad61970>],\n",
       "       [<matplotlib.axes._subplots.AxesSubplot object at 0x7f7b2ad1cfa0>,\n",
       "        <matplotlib.axes._subplots.AxesSubplot object at 0x7f7b2acc3a30>,\n",
       "        <matplotlib.axes._subplots.AxesSubplot object at 0x7f7b2acfc2b0>,\n",
       "        <matplotlib.axes._subplots.AxesSubplot object at 0x7f7b2aca5af0>,\n",
       "        <matplotlib.axes._subplots.AxesSubplot object at 0x7f7b2ac5a3a0>],\n",
       "       [<matplotlib.axes._subplots.AxesSubplot object at 0x7f7b2ac05be0>,\n",
       "        <matplotlib.axes._subplots.AxesSubplot object at 0x7f7b2ac3c460>,\n",
       "        <matplotlib.axes._subplots.AxesSubplot object at 0x7f7b2abf4a90>,\n",
       "        <matplotlib.axes._subplots.AxesSubplot object at 0x7f7b2abf4e20>,\n",
       "        <matplotlib.axes._subplots.AxesSubplot object at 0x7f7b2aba96d0>]],\n",
       "      dtype=object)"
      ]
     },
     "execution_count": 10,
     "metadata": {},
     "output_type": "execute_result"
    },
    {
     "data": {
      "image/png": "[encoded data removed]",
      "text/plain": [
       "<Figure size 1080x1296 with 30 Axes>"
      ]
     },
     "metadata": {
      "needs_background": "light"
     },
     "output_type": "display_data"
    }
   ],
   "source": [
    "train[cont].hist(figsize = (15,18))"
   ]
  },
  {
   "cell_type": "markdown",
   "id": "6e75dcad",
   "metadata": {},
   "source": [
    "The following variables are also right skewed: slope, vod, lai, frp"
   ]
  },
  {
   "cell_type": "code",
   "execution_count": 11,
   "id": "6d34e324",
   "metadata": {},
   "outputs": [
    {
     "data": {
      "text/plain": [
       "{'whiskers': [<matplotlib.lines.Line2D at 0x7f7b2a5e02b0>,\n",
       "  <matplotlib.lines.Line2D at 0x7f7b2a5e05e0>],\n",
       " 'caps': [<matplotlib.lines.Line2D at 0x7f7b2a5e0910>,\n",
       "  <matplotlib.lines.Line2D at 0x7f7b2a5e0c40>],\n",
       " 'boxes': [<matplotlib.lines.Line2D at 0x7f7b2a620be0>],\n",
       " 'medians': [<matplotlib.lines.Line2D at 0x7f7b2a5e0f70>],\n",
       " 'fliers': [<matplotlib.lines.Line2D at 0x7f7b2a620cd0>],\n",
       " 'means': []}"
      ]
     },
     "execution_count": 11,
     "metadata": {},
     "output_type": "execute_result"
    },
    {
     "data": {
      "image/png": "[encoded data removed]",
      "text/plain": [
       "<Figure size 1080x360 with 1 Axes>"
      ]
     },
     "metadata": {
      "needs_background": "light"
     },
     "output_type": "display_data"
    }
   ],
   "source": [
    "# Are there outliers in the dry matter?\n",
    "plt.boxplot(train.dry_matter)"
   ]
  },
  {
   "cell_type": "code",
   "execution_count": 12,
   "id": "53df7b94",
   "metadata": {},
   "outputs": [
    {
     "data": {
      "text/plain": [
       "{'whiskers': [<matplotlib.lines.Line2D at 0x7f7b28d56220>,\n",
       "  <matplotlib.lines.Line2D at 0x7f7b28d56580>],\n",
       " 'caps': [<matplotlib.lines.Line2D at 0x7f7b28d568b0>,\n",
       "  <matplotlib.lines.Line2D at 0x7f7b28d56be0>],\n",
       " 'boxes': [<matplotlib.lines.Line2D at 0x7f7b28d561f0>],\n",
       " 'medians': [<matplotlib.lines.Line2D at 0x7f7b28d63280>],\n",
       " 'fliers': [<matplotlib.lines.Line2D at 0x7f7b28d56190>],\n",
       " 'means': []}"
      ]
     },
     "execution_count": 12,
     "metadata": {},
     "output_type": "execute_result"
    },
    {
     "data": {
      "image/png": "[encoded data removed]",
      "text/plain": [
       "<Figure size 1080x360 with 1 Axes>"
      ]
     },
     "metadata": {
      "needs_background": "light"
     },
     "output_type": "display_data"
    }
   ],
   "source": [
    "plt.boxplot(np.log(train.dry_matter))"
   ]
  },
  {
   "cell_type": "markdown",
   "id": "2324945f",
   "metadata": {},
   "source": [
    "It is convenient to transform variables that show pronounced skeweness. A comparison of various approaches is presented in model_definition_benchmark.ipynb"
   ]
  },
  {
   "cell_type": "markdown",
   "id": "8732ad24",
   "metadata": {},
   "source": [
    "The variables in the above dataset vary in different ranges. On the one hand, this is not a problem for Decision Trees, Random Forest because these algorithm care about the order of the data, not the scale. AutoML with H2O, implements automatic normalisation for some of the algorithms.\n",
    "For Deep Learning models this is a problem and in the next section I show how to remove skeweness (e.g. using transformations) and normalise the data.\n",
    "\n",
    "At least 4 variables look left skewed: dry_matter, slope, vod and lai. Let's apply a log-transformation.\n",
    "Note that the log-transformation can be applied only to values that are > 0 (log of 0 and negative number is undefined). The minimum of 2 variables (lai and frp) is zero, therefore we will have to filter out these zeros before transforming the data."
   ]
  },
  {
   "cell_type": "markdown",
   "id": "c6cd03d2",
   "metadata": {},
   "source": [
    "## Identify correlations amongst variables"
   ]
  },
  {
   "cell_type": "code",
   "execution_count": 13,
   "id": "2769dad8",
   "metadata": {},
   "outputs": [
    {
     "data": {
      "image/png": "[encoded data removed]",
      "text/plain": [
       "<Figure size 1080x1080 with 2 Axes>"
      ]
     },
     "metadata": {
      "needs_background": "light"
     },
     "output_type": "display_data"
    }
   ],
   "source": [
    "# Correlation matrix\n",
    "C_mat = train[[y] + cont].corr()\n",
    "fig = plt.figure(figsize = (15, 15))\n",
    "\n",
    "sb.heatmap(C_mat, center=0)\n",
    "plt.show()"
   ]
  },
  {
   "cell_type": "markdown",
   "id": "b140364a",
   "metadata": {},
   "source": [
    "From the plot above, the vod and frp seem to be the most correlated features to the dry matter."
   ]
  },
  {
   "cell_type": "markdown",
   "id": "d42c10b3",
   "metadata": {},
   "source": [
    "# Identify possible redundant features"
   ]
  },
  {
   "cell_type": "code",
   "execution_count": 14,
   "id": "d475ff98",
   "metadata": {},
   "outputs": [
    {
     "data": {
      "image/png": "[encoded data removed]",
      "text/plain": [
       "<Figure size 720x432 with 1 Axes>"
      ]
     },
     "metadata": {
      "needs_background": "light"
     },
     "output_type": "display_data"
    }
   ],
   "source": [
    "# Source: https://github.com/fastai/book_nbs/blob/master/utils.py\n",
    "# from fastbook import *\n",
    "# from fastai.tabular.all import *\n",
    "# or load the following function\n",
    "import scipy\n",
    "from scipy.cluster import hierarchy as hc\n",
    "def cluster_columns(df, figsize=(10,6), font_size=12):\n",
    "    corr = np.round(scipy.stats.spearmanr(df).correlation, 4) # 30x30 matrix\n",
    "    corr_condensed = hc.distance.squareform(1-corr)\n",
    "    z = hc.linkage(corr_condensed, method='average')\n",
    "    fig = plt.figure(figsize=figsize)\n",
    "    hc.dendrogram(z, labels=df.columns, orientation='left', leaf_font_size=font_size)\n",
    "    plt.show()\n",
    "    \n",
    "# Identify important vs redundand features\n",
    "cluster_columns(train.drop(y, axis = 1))"
   ]
  },
  {
   "cell_type": "markdown",
   "id": "601a9745",
   "metadata": {},
   "source": [
    "From the plot above, it seems the following features could be redundant:\n",
    "- timeYear -> daysElapsed\n",
    "- fbupinx -> dufmcode\n",
    "- fdsrte -> fwinx\n",
    "\n",
    "The effect of removing potential redundant information is explored in model_definition_benchmark.ipynb\n",
    "\n",
    "However, redundancy/strong correlation between predictors could have an impact on the regression analysis and the subsequent conclusions. When predictor variables are correlated, the estimated regression coefficient of any one variable depends on which other predictor variables are included in the model. Also, the precision of the estimated regression coefficients decreases as more predictor variables are added to the model. These effects are commonly known as 'multicollinearity'.\n",
    "\n",
    "The effect of multicollinearity can be quantify using a 'variance inflation factor'."
   ]
  },
  {
   "cell_type": "code",
   "execution_count": 15,
   "id": "69dbef96",
   "metadata": {},
   "outputs": [],
   "source": [
    "# Calculate variance inflation factors to estimate multicollinearity\n",
    "from sklearn.linear_model import LinearRegression\n",
    "\n",
    "def sklearn_vif(exogs, data):\n",
    "\n",
    "    # initialize dictionaries\n",
    "    vif_dict, tolerance_dict = {}, {}\n",
    "\n",
    "    # form input data for each exogenous variable\n",
    "    for exog in exogs:\n",
    "        not_exog = [i for i in exogs if i != exog]\n",
    "        X, y = data[not_exog], data[exog]\n",
    "\n",
    "        # extract r-squared from the fit\n",
    "        r_squared = LinearRegression().fit(X, y).score(X, y)\n",
    "\n",
    "        # calculate VIF\n",
    "        vif = 1/(1 - r_squared)\n",
    "        vif_dict[exog] = vif\n",
    "\n",
    "        # calculate tolerance\n",
    "        tolerance = 1 - r_squared\n",
    "        tolerance_dict[exog] = tolerance\n",
    "\n",
    "    # return VIF DataFrame\n",
    "    df_vif = pd.DataFrame({'VIF': vif_dict, 'Tolerance': tolerance_dict})\n",
    "\n",
    "    return df_vif"
   ]
  },
  {
   "cell_type": "code",
   "execution_count": 16,
   "id": "bb2bb8fb",
   "metadata": {},
   "outputs": [
    {
     "data": {
      "text/html": [
       "<div>\n",
       "<style scoped>\n",
       "    .dataframe tbody tr th:only-of-type {\n",
       "        vertical-align: middle;\n",
       "    }\n",
       "\n",
       "    .dataframe tbody tr th {\n",
       "        vertical-align: top;\n",
       "    }\n",
       "\n",
       "    .dataframe thead th {\n",
       "        text-align: right;\n",
       "    }\n",
       "</style>\n",
       "<table border=\"1\" class=\"dataframe\">\n",
       "  <thead>\n",
       "    <tr style=\"text-align: right;\">\n",
       "      <th></th>\n",
       "      <th>VIF</th>\n",
       "      <th>Tolerance</th>\n",
       "    </tr>\n",
       "  </thead>\n",
       "  <tbody>\n",
       "    <tr>\n",
       "      <th>latitude</th>\n",
       "      <td>1.165061e+00</td>\n",
       "      <td>8.583242e-01</td>\n",
       "    </tr>\n",
       "    <tr>\n",
       "      <th>longitude</th>\n",
       "      <td>1.076477e+00</td>\n",
       "      <td>9.289560e-01</td>\n",
       "    </tr>\n",
       "    <tr>\n",
       "      <th>slope</th>\n",
       "      <td>1.056147e+00</td>\n",
       "      <td>9.468378e-01</td>\n",
       "    </tr>\n",
       "    <tr>\n",
       "      <th>vod</th>\n",
       "      <td>1.720640e+00</td>\n",
       "      <td>5.811790e-01</td>\n",
       "    </tr>\n",
       "    <tr>\n",
       "      <th>lai</th>\n",
       "      <td>1.652676e+00</td>\n",
       "      <td>6.050794e-01</td>\n",
       "    </tr>\n",
       "    <tr>\n",
       "      <th>spi03</th>\n",
       "      <td>1.744887e+00</td>\n",
       "      <td>5.731029e-01</td>\n",
       "    </tr>\n",
       "    <tr>\n",
       "      <th>spi06</th>\n",
       "      <td>2.498931e+00</td>\n",
       "      <td>4.001711e-01</td>\n",
       "    </tr>\n",
       "    <tr>\n",
       "      <th>spi12</th>\n",
       "      <td>1.923490e+00</td>\n",
       "      <td>5.198884e-01</td>\n",
       "    </tr>\n",
       "    <tr>\n",
       "      <th>d2m</th>\n",
       "      <td>8.605499e+00</td>\n",
       "      <td>1.162048e-01</td>\n",
       "    </tr>\n",
       "    <tr>\n",
       "      <th>erate</th>\n",
       "      <td>3.365486e+00</td>\n",
       "      <td>2.971339e-01</td>\n",
       "    </tr>\n",
       "    <tr>\n",
       "      <th>fg10</th>\n",
       "      <td>4.876421e+00</td>\n",
       "      <td>2.050684e-01</td>\n",
       "    </tr>\n",
       "    <tr>\n",
       "      <th>si10</th>\n",
       "      <td>4.938596e+00</td>\n",
       "      <td>2.024867e-01</td>\n",
       "    </tr>\n",
       "    <tr>\n",
       "      <th>swvl1</th>\n",
       "      <td>7.249975e+00</td>\n",
       "      <td>1.379315e-01</td>\n",
       "    </tr>\n",
       "    <tr>\n",
       "      <th>t2m</th>\n",
       "      <td>5.459977e+00</td>\n",
       "      <td>1.831510e-01</td>\n",
       "    </tr>\n",
       "    <tr>\n",
       "      <th>tprate</th>\n",
       "      <td>4.182489e+00</td>\n",
       "      <td>2.390921e-01</td>\n",
       "    </tr>\n",
       "    <tr>\n",
       "      <th>danger_risk</th>\n",
       "      <td>1.096355e+02</td>\n",
       "      <td>9.121136e-03</td>\n",
       "    </tr>\n",
       "    <tr>\n",
       "      <th>fwinx</th>\n",
       "      <td>3.368237e+02</td>\n",
       "      <td>2.968913e-03</td>\n",
       "    </tr>\n",
       "    <tr>\n",
       "      <th>ffmcode</th>\n",
       "      <td>9.775058e+00</td>\n",
       "      <td>1.023012e-01</td>\n",
       "    </tr>\n",
       "    <tr>\n",
       "      <th>dufmcode</th>\n",
       "      <td>1.077591e+02</td>\n",
       "      <td>9.279959e-03</td>\n",
       "    </tr>\n",
       "    <tr>\n",
       "      <th>drtcode</th>\n",
       "      <td>5.670577e+00</td>\n",
       "      <td>1.763489e-01</td>\n",
       "    </tr>\n",
       "    <tr>\n",
       "      <th>infsinx</th>\n",
       "      <td>3.117142e+01</td>\n",
       "      <td>3.208066e-02</td>\n",
       "    </tr>\n",
       "    <tr>\n",
       "      <th>fbupinx</th>\n",
       "      <td>1.405852e+02</td>\n",
       "      <td>7.113124e-03</td>\n",
       "    </tr>\n",
       "    <tr>\n",
       "      <th>fdsrte</th>\n",
       "      <td>1.176580e+02</td>\n",
       "      <td>8.499210e-03</td>\n",
       "    </tr>\n",
       "    <tr>\n",
       "      <th>frp</th>\n",
       "      <td>1.014273e+00</td>\n",
       "      <td>9.859277e-01</td>\n",
       "    </tr>\n",
       "    <tr>\n",
       "      <th>daysElapsed</th>\n",
       "      <td>1.440085e+06</td>\n",
       "      <td>6.944035e-07</td>\n",
       "    </tr>\n",
       "    <tr>\n",
       "      <th>timeYear</th>\n",
       "      <td>1.445220e+06</td>\n",
       "      <td>6.919364e-07</td>\n",
       "    </tr>\n",
       "    <tr>\n",
       "      <th>timeMonth</th>\n",
       "      <td>2.519448e+04</td>\n",
       "      <td>3.969124e-05</td>\n",
       "    </tr>\n",
       "  </tbody>\n",
       "</table>\n",
       "</div>"
      ],
      "text/plain": [
       "                      VIF     Tolerance\n",
       "latitude     1.165061e+00  8.583242e-01\n",
       "longitude    1.076477e+00  9.289560e-01\n",
       "slope        1.056147e+00  9.468378e-01\n",
       "vod          1.720640e+00  5.811790e-01\n",
       "lai          1.652676e+00  6.050794e-01\n",
       "spi03        1.744887e+00  5.731029e-01\n",
       "spi06        2.498931e+00  4.001711e-01\n",
       "spi12        1.923490e+00  5.198884e-01\n",
       "d2m          8.605499e+00  1.162048e-01\n",
       "erate        3.365486e+00  2.971339e-01\n",
       "fg10         4.876421e+00  2.050684e-01\n",
       "si10         4.938596e+00  2.024867e-01\n",
       "swvl1        7.249975e+00  1.379315e-01\n",
       "t2m          5.459977e+00  1.831510e-01\n",
       "tprate       4.182489e+00  2.390921e-01\n",
       "danger_risk  1.096355e+02  9.121136e-03\n",
       "fwinx        3.368237e+02  2.968913e-03\n",
       "ffmcode      9.775058e+00  1.023012e-01\n",
       "dufmcode     1.077591e+02  9.279959e-03\n",
       "drtcode      5.670577e+00  1.763489e-01\n",
       "infsinx      3.117142e+01  3.208066e-02\n",
       "fbupinx      1.405852e+02  7.113124e-03\n",
       "fdsrte       1.176580e+02  8.499210e-03\n",
       "frp          1.014273e+00  9.859277e-01\n",
       "daysElapsed  1.440085e+06  6.944035e-07\n",
       "timeYear     1.445220e+06  6.919364e-07\n",
       "timeMonth    2.519448e+04  3.969124e-05"
      ]
     },
     "execution_count": 16,
     "metadata": {},
     "output_type": "execute_result"
    }
   ],
   "source": [
    "df = sklearn_vif(exogs=cont, data=train.drop(y, axis = 1))\n",
    "df"
   ]
  },
  {
   "cell_type": "code",
   "execution_count": 17,
   "id": "07b9a92b",
   "metadata": {},
   "outputs": [
    {
     "name": "stdout",
     "output_type": "stream",
     "text": [
      "\\begin{tabular}{lrr}\n",
      "\\toprule\n",
      "{} &           VIF &     Tolerance \\\\\n",
      "\\midrule\n",
      "latitude    &  1.165061e+00 &  8.583242e-01 \\\\\n",
      "longitude   &  1.076477e+00 &  9.289560e-01 \\\\\n",
      "slope       &  1.056147e+00 &  9.468378e-01 \\\\\n",
      "vod         &  1.720640e+00 &  5.811790e-01 \\\\\n",
      "lai         &  1.652676e+00 &  6.050794e-01 \\\\\n",
      "spi03       &  1.744887e+00 &  5.731029e-01 \\\\\n",
      "spi06       &  2.498931e+00 &  4.001711e-01 \\\\\n",
      "spi12       &  1.923490e+00 &  5.198884e-01 \\\\\n",
      "d2m         &  8.605499e+00 &  1.162048e-01 \\\\\n",
      "erate       &  3.365486e+00 &  2.971339e-01 \\\\\n",
      "fg10        &  4.876421e+00 &  2.050684e-01 \\\\\n",
      "si10        &  4.938596e+00 &  2.024867e-01 \\\\\n",
      "swvl1       &  7.249975e+00 &  1.379315e-01 \\\\\n",
      "t2m         &  5.459977e+00 &  1.831510e-01 \\\\\n",
      "tprate      &  4.182489e+00 &  2.390921e-01 \\\\\n",
      "danger\\_risk &  1.096355e+02 &  9.121136e-03 \\\\\n",
      "fwinx       &  3.368237e+02 &  2.968913e-03 \\\\\n",
      "ffmcode     &  9.775058e+00 &  1.023012e-01 \\\\\n",
      "dufmcode    &  1.077591e+02 &  9.279959e-03 \\\\\n",
      "drtcode     &  5.670577e+00 &  1.763489e-01 \\\\\n",
      "infsinx     &  3.117142e+01 &  3.208066e-02 \\\\\n",
      "fbupinx     &  1.405852e+02 &  7.113124e-03 \\\\\n",
      "fdsrte      &  1.176580e+02 &  8.499210e-03 \\\\\n",
      "frp         &  1.014273e+00 &  9.859277e-01 \\\\\n",
      "daysElapsed &  1.440085e+06 &  6.944035e-07 \\\\\n",
      "timeYear    &  1.445220e+06 &  6.919364e-07 \\\\\n",
      "timeMonth   &  2.519448e+04 &  3.969124e-05 \\\\\n",
      "\\bottomrule\n",
      "\\end{tabular}\n",
      "\n"
     ]
    }
   ],
   "source": [
    "print(df.to_latex(index=True))"
   ]
  }
 ],
 "metadata": {
  "kernelspec": {
   "display_name": "Python 3",
   "language": "python",
   "name": "python3"
  },
  "language_info": {
   "codemirror_mode": {
    "name": "ipython",
    "version": 3
   },
   "file_extension": ".py",
   "mimetype": "text/x-python",
   "name": "python",
   "nbconvert_exporter": "python",
   "pygments_lexer": "ipython3",
   "version": "3.8.8"
  }
 },
 "nbformat": 4,
 "nbformat_minor": 5
}

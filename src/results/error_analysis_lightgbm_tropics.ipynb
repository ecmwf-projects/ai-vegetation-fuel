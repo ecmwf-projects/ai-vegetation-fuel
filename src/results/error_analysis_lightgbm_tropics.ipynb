{
 "cells": [
  {
   "cell_type": "markdown",
   "metadata": {},
   "source": [
    "## Error Analysis and Visualisation for XGBoost Models"
   ]
  },
  {
   "cell_type": "markdown",
   "metadata": {},
   "source": [
    "### Check running python kernel"
   ]
  },
  {
   "cell_type": "code",
   "execution_count": 1,
   "metadata": {
    "ExecuteTime": {
     "end_time": "2021-03-07T14:04:59.771202Z",
     "start_time": "2021-03-07T14:04:59.657232Z"
    }
   },
   "outputs": [
    {
     "name": "stdout",
     "output_type": "stream",
     "text": [
      "/home/wikilimo/miniconda3/envs/smos-agb/bin/python\r\n"
     ]
    }
   ],
   "source": [
    "!which python"
   ]
  },
  {
   "cell_type": "markdown",
   "metadata": {},
   "source": [
    "### Imports"
   ]
  },
  {
   "cell_type": "code",
   "execution_count": 2,
   "metadata": {
    "ExecuteTime": {
     "end_time": "2021-03-07T14:05:00.602859Z",
     "start_time": "2021-03-07T14:04:59.773258Z"
    }
   },
   "outputs": [],
   "source": [
    "import matplotlib.pyplot as plt\n",
    "import pandas as pd \n",
    "import glob\n",
    "import os\n",
    "from sklearn.metrics import r2_score"
   ]
  },
  {
   "cell_type": "markdown",
   "metadata": {},
   "source": [
    "### Top Level Constants"
   ]
  },
  {
   "cell_type": "code",
   "execution_count": 3,
   "metadata": {
    "ExecuteTime": {
     "end_time": "2021-03-07T14:05:00.607610Z",
     "start_time": "2021-03-07T14:05:00.604787Z"
    }
   },
   "outputs": [],
   "source": [
    "drop_columns = ['lon', 'lat', 'APE']\n",
    "HIGH_THRESHOLD = 1e10\n",
    "model = 'lightgbm/2_wMonth_noAGB_noLAI'\n",
    "model_type = 'tropics'"
   ]
  },
  {
   "cell_type": "markdown",
   "metadata": {},
   "source": [
    "### Inference Files"
   ]
  },
  {
   "cell_type": "code",
   "execution_count": 4,
   "metadata": {
    "ExecuteTime": {
     "end_time": "2021-03-07T14:05:00.614249Z",
     "start_time": "2021-03-07T14:05:00.609432Z"
    }
   },
   "outputs": [
    {
     "name": "stdout",
     "output_type": "stream",
     "text": [
      "['/home/wikilimo/inference_analysis_ml/lightgbm/2_wMonth_noAGB_noLAI/tropics_output_July.csv', '/home/wikilimo/inference_analysis_ml/lightgbm/2_wMonth_noAGB_noLAI/tropics_output_Sept.csv', '/home/wikilimo/inference_analysis_ml/lightgbm/2_wMonth_noAGB_noLAI/tropics_output_Oct.csv', '/home/wikilimo/inference_analysis_ml/lightgbm/2_wMonth_noAGB_noLAI/tropics_output_Aug.csv', '/home/wikilimo/inference_analysis_ml/lightgbm/2_wMonth_noAGB_noLAI/tropics_output_Dec.csv', '/home/wikilimo/inference_analysis_ml/lightgbm/2_wMonth_noAGB_noLAI/tropics_output_Nov.csv']\n"
     ]
    }
   ],
   "source": [
    "FILE_PATHS = os.path.join(model, '*'+model_type+'*.csv')\n",
    "FILE_NAMES = glob.glob(FILE_PATHS)\n",
    "print(FILE_NAMES)"
   ]
  },
  {
   "cell_type": "markdown",
   "metadata": {},
   "source": [
    "### Make Dataframe"
   ]
  },
  {
   "cell_type": "code",
   "execution_count": 5,
   "metadata": {
    "ExecuteTime": {
     "end_time": "2021-03-07T14:05:00.654041Z",
     "start_time": "2021-03-07T14:05:00.615820Z"
    }
   },
   "outputs": [],
   "source": [
    "fli_df = pd.concat((pd.read_csv(f, index_col=False).reset_index(drop=True) for f in FILE_NAMES), ignore_index=True)"
   ]
  },
  {
   "cell_type": "code",
   "execution_count": 6,
   "metadata": {
    "ExecuteTime": {
     "end_time": "2021-03-07T14:05:00.669588Z",
     "start_time": "2021-03-07T14:05:00.655449Z"
    }
   },
   "outputs": [
    {
     "data": {
      "text/html": [
       "<div>\n",
       "<style scoped>\n",
       "    .dataframe tbody tr th:only-of-type {\n",
       "        vertical-align: middle;\n",
       "    }\n",
       "\n",
       "    .dataframe tbody tr th {\n",
       "        vertical-align: top;\n",
       "    }\n",
       "\n",
       "    .dataframe thead th {\n",
       "        text-align: right;\n",
       "    }\n",
       "</style>\n",
       "<table border=\"1\" class=\"dataframe\">\n",
       "  <thead>\n",
       "    <tr style=\"text-align: right;\">\n",
       "      <th></th>\n",
       "      <th>lat</th>\n",
       "      <th>lon</th>\n",
       "      <th>actual_load</th>\n",
       "      <th>predicted_load</th>\n",
       "      <th>APE</th>\n",
       "    </tr>\n",
       "  </thead>\n",
       "  <tbody>\n",
       "    <tr>\n",
       "      <th>0</th>\n",
       "      <td>-29.875</td>\n",
       "      <td>29.125</td>\n",
       "      <td>1.876688e+08</td>\n",
       "      <td>7.193983e+08</td>\n",
       "      <td>283.334060</td>\n",
       "    </tr>\n",
       "    <tr>\n",
       "      <th>1</th>\n",
       "      <td>-29.875</td>\n",
       "      <td>29.375</td>\n",
       "      <td>2.971511e+08</td>\n",
       "      <td>3.645562e+08</td>\n",
       "      <td>22.683783</td>\n",
       "    </tr>\n",
       "    <tr>\n",
       "      <th>2</th>\n",
       "      <td>-29.875</td>\n",
       "      <td>29.625</td>\n",
       "      <td>1.518198e+08</td>\n",
       "      <td>4.031935e+08</td>\n",
       "      <td>165.573683</td>\n",
       "    </tr>\n",
       "    <tr>\n",
       "      <th>3</th>\n",
       "      <td>-29.875</td>\n",
       "      <td>29.875</td>\n",
       "      <td>3.022351e+08</td>\n",
       "      <td>3.297615e+08</td>\n",
       "      <td>9.107589</td>\n",
       "    </tr>\n",
       "    <tr>\n",
       "      <th>4</th>\n",
       "      <td>-29.875</td>\n",
       "      <td>30.125</td>\n",
       "      <td>3.009002e+08</td>\n",
       "      <td>3.945340e+08</td>\n",
       "      <td>31.117863</td>\n",
       "    </tr>\n",
       "    <tr>\n",
       "      <th>...</th>\n",
       "      <td>...</td>\n",
       "      <td>...</td>\n",
       "      <td>...</td>\n",
       "      <td>...</td>\n",
       "      <td>...</td>\n",
       "    </tr>\n",
       "    <tr>\n",
       "      <th>24455</th>\n",
       "      <td>25.875</td>\n",
       "      <td>78.875</td>\n",
       "      <td>1.037343e+08</td>\n",
       "      <td>4.900078e+08</td>\n",
       "      <td>372.368090</td>\n",
       "    </tr>\n",
       "    <tr>\n",
       "      <th>24456</th>\n",
       "      <td>26.125</td>\n",
       "      <td>78.625</td>\n",
       "      <td>7.776598e+08</td>\n",
       "      <td>5.748024e+08</td>\n",
       "      <td>26.085619</td>\n",
       "    </tr>\n",
       "    <tr>\n",
       "      <th>24457</th>\n",
       "      <td>26.625</td>\n",
       "      <td>-80.625</td>\n",
       "      <td>2.563519e+08</td>\n",
       "      <td>5.178921e+08</td>\n",
       "      <td>102.023948</td>\n",
       "    </tr>\n",
       "    <tr>\n",
       "      <th>24458</th>\n",
       "      <td>27.125</td>\n",
       "      <td>83.625</td>\n",
       "      <td>6.130305e+07</td>\n",
       "      <td>3.233876e+09</td>\n",
       "      <td>5175.228684</td>\n",
       "    </tr>\n",
       "    <tr>\n",
       "      <th>24459</th>\n",
       "      <td>27.625</td>\n",
       "      <td>-81.125</td>\n",
       "      <td>2.375620e+08</td>\n",
       "      <td>8.231559e+08</td>\n",
       "      <td>246.501473</td>\n",
       "    </tr>\n",
       "  </tbody>\n",
       "</table>\n",
       "<p>24460 rows × 5 columns</p>\n",
       "</div>"
      ],
      "text/plain": [
       "          lat     lon   actual_load  predicted_load          APE\n",
       "0     -29.875  29.125  1.876688e+08    7.193983e+08   283.334060\n",
       "1     -29.875  29.375  2.971511e+08    3.645562e+08    22.683783\n",
       "2     -29.875  29.625  1.518198e+08    4.031935e+08   165.573683\n",
       "3     -29.875  29.875  3.022351e+08    3.297615e+08     9.107589\n",
       "4     -29.875  30.125  3.009002e+08    3.945340e+08    31.117863\n",
       "...       ...     ...           ...             ...          ...\n",
       "24455  25.875  78.875  1.037343e+08    4.900078e+08   372.368090\n",
       "24456  26.125  78.625  7.776598e+08    5.748024e+08    26.085619\n",
       "24457  26.625 -80.625  2.563519e+08    5.178921e+08   102.023948\n",
       "24458  27.125  83.625  6.130305e+07    3.233876e+09  5175.228684\n",
       "24459  27.625 -81.125  2.375620e+08    8.231559e+08   246.501473\n",
       "\n",
       "[24460 rows x 5 columns]"
      ]
     },
     "execution_count": 6,
     "metadata": {},
     "output_type": "execute_result"
    }
   ],
   "source": [
    "fli_df"
   ]
  },
  {
   "cell_type": "markdown",
   "metadata": {},
   "source": [
    "### Stats"
   ]
  },
  {
   "cell_type": "code",
   "execution_count": 7,
   "metadata": {
    "ExecuteTime": {
     "end_time": "2021-03-07T14:05:00.676559Z",
     "start_time": "2021-03-07T14:05:00.671239Z"
    }
   },
   "outputs": [
    {
     "name": "stdout",
     "output_type": "stream",
     "text": [
      "Actual Fuel Load mean - 1729792182.8655777 and median - 570245850.175499\n"
     ]
    }
   ],
   "source": [
    "actual_mean = fli_df['actual_load'].mean()\n",
    "actual_median = fli_df['actual_load'].median()\n",
    "print(\"Actual Fuel Load mean - {actual_mean} and median - {actual_median}\".format(actual_mean = actual_mean, actual_median = actual_median))"
   ]
  },
  {
   "cell_type": "code",
   "execution_count": 8,
   "metadata": {
    "ExecuteTime": {
     "end_time": "2021-03-07T14:05:00.683961Z",
     "start_time": "2021-03-07T14:05:00.679183Z"
    }
   },
   "outputs": [
    {
     "name": "stdout",
     "output_type": "stream",
     "text": [
      "Predicted Fuel Load mean - 1822953846.2611787 and median - 1116351260.591385\n"
     ]
    }
   ],
   "source": [
    "Predicted_mean = fli_df['predicted_load'].mean()\n",
    "Predicted_median = fli_df['predicted_load'].median()\n",
    "print(\"Predicted Fuel Load mean - {Predicted_mean} and median - {Predicted_median}\".format(Predicted_mean = Predicted_mean, Predicted_median = Predicted_median))"
   ]
  },
  {
   "cell_type": "markdown",
   "metadata": {},
   "source": [
    "### $R^2$ Score \n",
    "More details [here](https://scikit-learn.org/stable/modules/generated/sklearn.metrics.r2_score.html)"
   ]
  },
  {
   "cell_type": "code",
   "execution_count": 9,
   "metadata": {
    "ExecuteTime": {
     "end_time": "2021-03-07T14:05:00.690773Z",
     "start_time": "2021-03-07T14:05:00.686106Z"
    }
   },
   "outputs": [
    {
     "data": {
      "text/plain": [
       "0.3657432197786734"
      ]
     },
     "execution_count": 9,
     "metadata": {},
     "output_type": "execute_result"
    }
   ],
   "source": [
    "r2_score(fli_df['actual_load'], fli_df['predicted_load'])"
   ]
  },
  {
   "cell_type": "markdown",
   "metadata": {},
   "source": [
    "### General Trend of Actual and Predicted Values"
   ]
  },
  {
   "cell_type": "code",
   "execution_count": 10,
   "metadata": {
    "ExecuteTime": {
     "end_time": "2021-03-07T14:05:01.007709Z",
     "start_time": "2021-03-07T14:05:00.692410Z"
    }
   },
   "outputs": [
    {
     "data": {
      "image/png": "[encoded data removed]",
      "text/plain": [
       "<Figure size 864x864 with 2 Axes>"
      ]
     },
     "metadata": {
      "needs_background": "light"
     },
     "output_type": "display_data"
    }
   ],
   "source": [
    "axes = fli_df.drop(columns=drop_columns).plot(subplots = True, figsize=(12, 12))\n",
    "for ax in axes:\n",
    "    ax.set_ylim(0, 1e11)"
   ]
  },
  {
   "cell_type": "markdown",
   "metadata": {},
   "source": [
    "### Distribution of high values (> HIGH_THRESHOLD)"
   ]
  },
  {
   "cell_type": "code",
   "execution_count": 11,
   "metadata": {
    "ExecuteTime": {
     "end_time": "2021-03-07T14:05:01.452265Z",
     "start_time": "2021-03-07T14:05:01.009512Z"
    }
   },
   "outputs": [
    {
     "data": {
      "image/png": "[encoded data removed]",
      "text/plain": [
       "<Figure size 864x864 with 2 Axes>"
      ]
     },
     "metadata": {
      "needs_background": "light"
     },
     "output_type": "display_data"
    }
   ],
   "source": [
    "fli_df_high = fli_df[fli_df['actual_load'] >= HIGH_THRESHOLD].reset_index(drop=True)\n",
    "axes = fli_df_high.drop(columns=drop_columns).plot.hist(bins=40, subplots=True, figsize=(12, 12))\n",
    "for ax in axes:\n",
    "    ax.set_ylim(0, 200)\n",
    "    ax.set_xlim(0, 1.5e11)"
   ]
  },
  {
   "cell_type": "markdown",
   "metadata": {},
   "source": [
    "### Distribution of Errors"
   ]
  },
  {
   "cell_type": "code",
   "execution_count": 12,
   "metadata": {
    "ExecuteTime": {
     "end_time": "2021-03-07T14:05:01.671073Z",
     "start_time": "2021-03-07T14:05:01.454089Z"
    }
   },
   "outputs": [
    {
     "data": {
      "text/plain": [
       "array([<AxesSubplot:ylabel='Frequency'>], dtype=object)"
      ]
     },
     "execution_count": 12,
     "metadata": {},
     "output_type": "execute_result"
    },
    {
     "data": {
      "image/png": "[encoded data removed]",
      "text/plain": [
       "<Figure size 864x864 with 1 Axes>"
      ]
     },
     "metadata": {
      "needs_background": "light"
     },
     "output_type": "display_data"
    }
   ],
   "source": [
    "fli_err = fli_df.drop(columns=['lat', 'lon', 'predicted_load', 'actual_load'])\n",
    "fli_err.plot.hist(bins=40, subplots=True, figsize=(12, 12))"
   ]
  },
  {
   "cell_type": "markdown",
   "metadata": {},
   "source": [
    "### Error Stats"
   ]
  },
  {
   "cell_type": "code",
   "execution_count": 13,
   "metadata": {
    "ExecuteTime": {
     "end_time": "2021-03-07T14:05:01.678236Z",
     "start_time": "2021-03-07T14:05:01.672877Z"
    }
   },
   "outputs": [
    {
     "data": {
      "text/plain": [
       "APE    1.257683e+07\n",
       "dtype: float64"
      ]
     },
     "execution_count": 13,
     "metadata": {},
     "output_type": "execute_result"
    }
   ],
   "source": [
    "fli_err.max()"
   ]
  },
  {
   "cell_type": "code",
   "execution_count": 14,
   "metadata": {
    "ExecuteTime": {
     "end_time": "2021-03-07T14:05:01.685188Z",
     "start_time": "2021-03-07T14:05:01.680163Z"
    }
   },
   "outputs": [
    {
     "data": {
      "text/plain": [
       "APE    1003.532481\n",
       "dtype: float64"
      ]
     },
     "execution_count": 14,
     "metadata": {},
     "output_type": "execute_result"
    }
   ],
   "source": [
    "fli_err.mean()"
   ]
  },
  {
   "cell_type": "code",
   "execution_count": 15,
   "metadata": {
    "ExecuteTime": {
     "end_time": "2021-03-07T14:05:01.691756Z",
     "start_time": "2021-03-07T14:05:01.686849Z"
    }
   },
   "outputs": [
    {
     "data": {
      "text/plain": [
       "APE    81.352774\n",
       "dtype: float64"
      ]
     },
     "execution_count": 15,
     "metadata": {},
     "output_type": "execute_result"
    }
   ],
   "source": [
    "fli_err.median()"
   ]
  }
 ],
 "metadata": {
  "kernelspec": {
   "display_name": "Python 3",
   "language": "python",
   "name": "python3"
  },
  "language_info": {
   "codemirror_mode": {
    "name": "ipython",
    "version": 3
   },
   "file_extension": ".py",
   "mimetype": "text/x-python",
   "name": "python",
   "nbconvert_exporter": "python",
   "pygments_lexer": "ipython3",
   "version": "3.8.5"
  },
  "varInspector": {
   "cols": {
    "lenName": 16,
    "lenType": 16,
    "lenVar": 40
   },
   "kernels_config": {
    "python": {
     "delete_cmd_postfix": "",
     "delete_cmd_prefix": "del ",
     "library": "var_list.py",
     "varRefreshCmd": "print(var_dic_list())"
    },
    "r": {
     "delete_cmd_postfix": ") ",
     "delete_cmd_prefix": "rm(",
     "library": "var_list.r",
     "varRefreshCmd": "cat(var_dic_list()) "
    }
   },
   "types_to_exclude": [
    "module",
    "function",
    "builtin_function_or_method",
    "instance",
    "_Feature"
   ],
   "window_display": false
  }
 },
 "nbformat": 4,
 "nbformat_minor": 2
}
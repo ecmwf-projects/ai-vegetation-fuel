{
 "cells": [
  {
   "cell_type": "markdown",
   "id": "consolidated-ozone",
   "metadata": {
    "id": "consolidated-ozone"
   },
   "source": [
    "# CatBoost inference\n",
    "This notebooks demonstrates generating inferences from a pretrained CatBoost model. This notebook utilizes the `deepfuel-ML/src/test.py` script for generating inferences. The script does everything from calculating error values to plotting data for visual inference. "
   ]
  },
  {
   "cell_type": "code",
   "execution_count": 1,
   "id": "continent-budget",
   "metadata": {
    "ExecuteTime": {
     "end_time": "2021-03-19T08:28:46.335822Z",
     "start_time": "2021-03-19T08:28:45.619371Z"
    },
    "id": "continent-budget"
   },
   "outputs": [],
   "source": [
    "import os\n",
    "import pandas as pd\n",
    "import numpy as np\n",
    "from joblib import dump, load\n",
    "from IPython.display import Image, display, HTML"
   ]
  },
  {
   "cell_type": "markdown",
   "id": "automated-quantity",
   "metadata": {
    "id": "automated-quantity"
   },
   "source": [
    "### Using `test.py`\n",
    "Below is the description of its arguements:\n",
    " - `--model_name`:  Name of the model to be trained (\"CatBoost\" or \"LightGBM\").\n",
    " - `--model_path`:  Path to the pre-trained model.\n",
    " - `--data_path`:  Valid data directory where all the test .csv files are stored.\n",
    " - `--results_path`:  Directory where the result inference .csv files and .png visualizations are going to be stored."
   ]
  },
  {
   "cell_type": "markdown",
   "id": "minute-render",
   "metadata": {
    "id": "minute-render"
   },
   "source": [
    "### With Ground Truth (`actual_load` is present in the test csv)"
   ]
  },
  {
   "cell_type": "code",
   "execution_count": 2,
   "id": "soviet-demand",
   "metadata": {
    "ExecuteTime": {
     "end_time": "2021-03-19T08:29:07.200077Z",
     "start_time": "2021-03-19T08:28:48.875002Z"
    },
    "id": "soviet-demand",
    "outputId": "62af65d9-3dc9-4417-8241-760c3ac13b4c"
   },
   "outputs": [
    {
     "name": "stdout",
     "output_type": "stream",
     "text": [
      "MAPE July : 380.44795759521344\n",
      "MAPE Aug : 283.7487728040964\n",
      "MAPE Sept : 203.97476414457114\n",
      "MAPE Oct : 117.19251658203949\n",
      "MAPE Nov : 105.94428641567805\n",
      "MAPE Dec : 99.29645055040669\n",
      "Actual FL plot successfully generated! File saved to  ../data/midlats/results/midlats_Nov_actual.html\n",
      "Predicted FL plot successfully generated! File saved to  ../data/midlats/results/midlats_Nov_predicted.html\n",
      "Actual FL plot successfully generated! File saved to  ../data/midlats/results/midlats_July_actual.html\n",
      "Predicted FL plot successfully generated! File saved to  ../data/midlats/results/midlats_July_predicted.html\n",
      "Actual FL plot successfully generated! File saved to  ../data/midlats/results/midlats_Dec_actual.html\n",
      "Predicted FL plot successfully generated! File saved to  ../data/midlats/results/midlats_Dec_predicted.html\n",
      "Actual FL plot successfully generated! File saved to  ../data/midlats/results/midlats_Aug_actual.html\n",
      "Predicted FL plot successfully generated! File saved to  ../data/midlats/results/midlats_Aug_predicted.html\n",
      "Actual FL plot successfully generated! File saved to  ../data/midlats/results/midlats_Oct_actual.html\n",
      "Predicted FL plot successfully generated! File saved to  ../data/midlats/results/midlats_Oct_predicted.html\n",
      "Actual FL plot successfully generated! File saved to  ../data/midlats/results/midlats_Sept_actual.html\n",
      "Predicted FL plot successfully generated! File saved to  ../data/midlats/results/midlats_Sept_predicted.html\n"
     ]
    }
   ],
   "source": [
    "!python '../src/test.py'  --model_name 'CatBoost' --model_path '../src/pre-trained_models/CatBoost.joblib' --data_path '../data/infer_midlats'  --results_path '../data/midlats/results'"
   ]
  },
  {
   "cell_type": "markdown",
   "id": "bigger-theology",
   "metadata": {
    "id": "bigger-theology"
   },
   "source": [
    "### Inference CSV\n",
    "`test.py` generates `.csv` files for each month with the following columns:\n",
    " - `latitude`\n",
    " - `longitude`\n",
    " - `actual_load` - Actual Fuel Load value\n",
    " - `predicted_load`  - Predicted Fuel Load value\n",
    " - `APE` - Average Percentage Error between actual and predicted fuel load values"
   ]
  },
  {
   "cell_type": "code",
   "execution_count": 3,
   "id": "reverse-worcester",
   "metadata": {
    "ExecuteTime": {
     "end_time": "2021-03-19T08:29:07.256298Z",
     "start_time": "2021-03-19T08:29:07.236062Z"
    },
    "id": "reverse-worcester",
    "outputId": "55fa67ef-6989-4d15-a15d-66d917acd5ff"
   },
   "outputs": [
    {
     "data": {
      "text/html": [
       "<div>\n",
       "<style scoped>\n",
       "    .dataframe tbody tr th:only-of-type {\n",
       "        vertical-align: middle;\n",
       "    }\n",
       "\n",
       "    .dataframe tbody tr th {\n",
       "        vertical-align: top;\n",
       "    }\n",
       "\n",
       "    .dataframe thead th {\n",
       "        text-align: right;\n",
       "    }\n",
       "</style>\n",
       "<table border=\"1\" class=\"dataframe\">\n",
       "  <thead>\n",
       "    <tr style=\"text-align: right;\">\n",
       "      <th></th>\n",
       "      <th>lat</th>\n",
       "      <th>lon</th>\n",
       "      <th>actual_load</th>\n",
       "      <th>predicted_load</th>\n",
       "      <th>APE</th>\n",
       "    </tr>\n",
       "  </thead>\n",
       "  <tbody>\n",
       "    <tr>\n",
       "      <th>0</th>\n",
       "      <td>-35.125</td>\n",
       "      <td>-69.375</td>\n",
       "      <td>9.188477e+07</td>\n",
       "      <td>8.817028e+07</td>\n",
       "      <td>4.042547</td>\n",
       "    </tr>\n",
       "    <tr>\n",
       "      <th>1</th>\n",
       "      <td>-31.625</td>\n",
       "      <td>27.875</td>\n",
       "      <td>7.486465e+07</td>\n",
       "      <td>5.130763e+08</td>\n",
       "      <td>585.338529</td>\n",
       "    </tr>\n",
       "    <tr>\n",
       "      <th>2</th>\n",
       "      <td>-31.375</td>\n",
       "      <td>28.375</td>\n",
       "      <td>6.728101e+07</td>\n",
       "      <td>4.373534e+08</td>\n",
       "      <td>550.039875</td>\n",
       "    </tr>\n",
       "    <tr>\n",
       "      <th>3</th>\n",
       "      <td>-31.125</td>\n",
       "      <td>28.625</td>\n",
       "      <td>9.200570e+07</td>\n",
       "      <td>4.966761e+08</td>\n",
       "      <td>439.831873</td>\n",
       "    </tr>\n",
       "    <tr>\n",
       "      <th>4</th>\n",
       "      <td>-31.125</td>\n",
       "      <td>29.625</td>\n",
       "      <td>1.413486e+08</td>\n",
       "      <td>4.879350e+08</td>\n",
       "      <td>245.199817</td>\n",
       "    </tr>\n",
       "  </tbody>\n",
       "</table>\n",
       "</div>"
      ],
      "text/plain": [
       "      lat     lon   actual_load  predicted_load         APE\n",
       "0 -35.125 -69.375  9.188477e+07    8.817028e+07    4.042547\n",
       "1 -31.625  27.875  7.486465e+07    5.130763e+08  585.338529\n",
       "2 -31.375  28.375  6.728101e+07    4.373534e+08  550.039875\n",
       "3 -31.125  28.625  9.200570e+07    4.966761e+08  439.831873\n",
       "4 -31.125  29.625  1.413486e+08    4.879350e+08  245.199817"
      ]
     },
     "execution_count": 3,
     "metadata": {},
     "output_type": "execute_result"
    }
   ],
   "source": [
    "df=pd.read_csv('../data/midlats/results/midlats_output_July.csv')\n",
    "df.head()"
   ]
  },
  {
   "cell_type": "markdown",
   "id": "secure-transformation",
   "metadata": {
    "id": "secure-transformation"
   },
   "source": [
    "### Without Ground Truth (`actual_load` is not present in the test csv)"
   ]
  },
  {
   "cell_type": "code",
   "execution_count": 4,
   "id": "identical-combining",
   "metadata": {
    "ExecuteTime": {
     "end_time": "2021-03-19T08:29:24.468409Z",
     "start_time": "2021-03-19T08:29:14.045498Z"
    },
    "id": "identical-combining",
    "outputId": "1225fdbd-9ac7-40f0-c64b-e9bbbab65e3c"
   },
   "outputs": [
    {
     "name": "stdout",
     "output_type": "stream",
     "text": [
      "MAPE July : 380.44795759521344\n",
      "MAPE Aug : 283.7487728040964\n",
      "MAPE Sept : 203.97476414457114\n",
      "MAPE Oct : 117.19251658203949\n",
      "MAPE Nov : 105.94428641567805\n",
      "MAPE Dec : 99.29645055040669\n",
      "Actual FL plot successfully generated! File saved to  ../data/midlats/results/midlats_Nov_actual.html\n",
      "Predicted FL plot successfully generated! File saved to  ../data/midlats/results/midlats_Nov_predicted.html\n",
      "Actual FL plot successfully generated! File saved to  ../data/midlats/results/midlats_July_actual.html\n",
      "Predicted FL plot successfully generated! File saved to  ../data/midlats/results/midlats_July_predicted.html\n",
      "Actual FL plot successfully generated! File saved to  ../data/midlats/results/midlats_Dec_actual.html\n",
      "Predicted FL plot successfully generated! File saved to  ../data/midlats/results/midlats_Dec_predicted.html\n",
      "Actual FL plot successfully generated! File saved to  ../data/midlats/results/midlats_Aug_actual.html\n",
      "Predicted FL plot successfully generated! File saved to  ../data/midlats/results/midlats_Aug_predicted.html\n",
      "Actual FL plot successfully generated! File saved to  ../data/midlats/results/midlats_Oct_actual.html\n",
      "Predicted FL plot successfully generated! File saved to  ../data/midlats/results/midlats_Oct_predicted.html\n",
      "Actual FL plot successfully generated! File saved to  ../data/midlats/results/midlats_Sept_actual.html\n",
      "Predicted FL plot successfully generated! File saved to  ../data/midlats/results/midlats_Sept_predicted.html\n"
     ]
    }
   ],
   "source": [
    "!python '../src/test.py'  --model_name 'CatBoost' --model_path '../src/pre-trained_models/CatBoost.joblib' --data_path '../data/infer_midlats'  --results_path '../data/midlats/results'"
   ]
  },
  {
   "cell_type": "markdown",
   "id": "capital-lying",
   "metadata": {
    "id": "capital-lying"
   },
   "source": [
    "### Inference CSV"
   ]
  },
  {
   "cell_type": "code",
   "execution_count": 5,
   "id": "informational-chemistry",
   "metadata": {
    "ExecuteTime": {
     "end_time": "2021-03-19T08:29:25.771239Z",
     "start_time": "2021-03-19T08:29:25.759587Z"
    },
    "id": "informational-chemistry",
    "outputId": "936a5d02-894c-4306-e412-a03ac24c5630"
   },
   "outputs": [
    {
     "data": {
      "text/html": [
       "<div>\n",
       "<style scoped>\n",
       "    .dataframe tbody tr th:only-of-type {\n",
       "        vertical-align: middle;\n",
       "    }\n",
       "\n",
       "    .dataframe tbody tr th {\n",
       "        vertical-align: top;\n",
       "    }\n",
       "\n",
       "    .dataframe thead th {\n",
       "        text-align: right;\n",
       "    }\n",
       "</style>\n",
       "<table border=\"1\" class=\"dataframe\">\n",
       "  <thead>\n",
       "    <tr style=\"text-align: right;\">\n",
       "      <th></th>\n",
       "      <th>lat</th>\n",
       "      <th>lon</th>\n",
       "      <th>actual_load</th>\n",
       "      <th>predicted_load</th>\n",
       "      <th>APE</th>\n",
       "    </tr>\n",
       "  </thead>\n",
       "  <tbody>\n",
       "    <tr>\n",
       "      <th>0</th>\n",
       "      <td>-35.125</td>\n",
       "      <td>-69.375</td>\n",
       "      <td>9.188477e+07</td>\n",
       "      <td>8.817028e+07</td>\n",
       "      <td>4.042547</td>\n",
       "    </tr>\n",
       "    <tr>\n",
       "      <th>1</th>\n",
       "      <td>-31.625</td>\n",
       "      <td>27.875</td>\n",
       "      <td>7.486465e+07</td>\n",
       "      <td>5.130763e+08</td>\n",
       "      <td>585.338529</td>\n",
       "    </tr>\n",
       "    <tr>\n",
       "      <th>2</th>\n",
       "      <td>-31.375</td>\n",
       "      <td>28.375</td>\n",
       "      <td>6.728101e+07</td>\n",
       "      <td>4.373534e+08</td>\n",
       "      <td>550.039875</td>\n",
       "    </tr>\n",
       "    <tr>\n",
       "      <th>3</th>\n",
       "      <td>-31.125</td>\n",
       "      <td>28.625</td>\n",
       "      <td>9.200570e+07</td>\n",
       "      <td>4.966761e+08</td>\n",
       "      <td>439.831873</td>\n",
       "    </tr>\n",
       "    <tr>\n",
       "      <th>4</th>\n",
       "      <td>-31.125</td>\n",
       "      <td>29.625</td>\n",
       "      <td>1.413486e+08</td>\n",
       "      <td>4.879350e+08</td>\n",
       "      <td>245.199817</td>\n",
       "    </tr>\n",
       "  </tbody>\n",
       "</table>\n",
       "</div>"
      ],
      "text/plain": [
       "      lat     lon   actual_load  predicted_load         APE\n",
       "0 -35.125 -69.375  9.188477e+07    8.817028e+07    4.042547\n",
       "1 -31.625  27.875  7.486465e+07    5.130763e+08  585.338529\n",
       "2 -31.375  28.375  6.728101e+07    4.373534e+08  550.039875\n",
       "3 -31.125  28.625  9.200570e+07    4.966761e+08  439.831873\n",
       "4 -31.125  29.625  1.413486e+08    4.879350e+08  245.199817"
      ]
     },
     "execution_count": 5,
     "metadata": {},
     "output_type": "execute_result"
    }
   ],
   "source": [
    "df=pd.read_csv('../data/midlats/results/midlats_output_July.csv')\n",
    "df.head()"
   ]
  },
  {
   "cell_type": "markdown",
   "id": "smart-vampire",
   "metadata": {
    "ExecuteTime": {
     "end_time": "2021-03-19T08:29:27.345459Z",
     "start_time": "2021-03-19T08:29:27.342836Z"
    },
    "id": "about-solution"
   },
   "source": [
    "### Visualizing the plots generated\n",
    "The plots are stored as html files that can be zoomed in upto the resolution of the data to view the predicted and actual values"
   ]
  }
 ],
 "metadata": {
  "colab": {
   "collapsed_sections": [],
   "name": "CatBoost_inference.ipynb",
   "provenance": []
  },
  "kernelspec": {
   "display_name": "Python 3",
   "language": "python",
   "name": "python3"
  },
  "language_info": {
   "codemirror_mode": {
    "name": "ipython",
    "version": 3
   },
   "file_extension": ".py",
   "mimetype": "text/x-python",
   "name": "python",
   "nbconvert_exporter": "python",
   "pygments_lexer": "ipython3",
   "version": "3.8.8"
  },
  "varInspector": {
   "cols": {
    "lenName": 16,
    "lenType": 16,
    "lenVar": 40
   },
   "kernels_config": {
    "python": {
     "delete_cmd_postfix": "",
     "delete_cmd_prefix": "del ",
     "library": "var_list.py",
     "varRefreshCmd": "print(var_dic_list())"
    },
    "r": {
     "delete_cmd_postfix": ") ",
     "delete_cmd_prefix": "rm(",
     "library": "var_list.r",
     "varRefreshCmd": "cat(var_dic_list()) "
    }
   },
   "types_to_exclude": [
    "module",
    "function",
    "builtin_function_or_method",
    "instance",
    "_Feature"
   ],
   "window_display": false
  }
 },
 "nbformat": 4,
 "nbformat_minor": 5
}

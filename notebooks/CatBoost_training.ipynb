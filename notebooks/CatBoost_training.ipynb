{
 "cells": [
  {
   "cell_type": "markdown",
   "id": "coated-individual",
   "metadata": {},
   "source": [
    "# Training the ML Model for Forecasting Fuel Load in Mid-Latitudes\n",
    "This notebooks demonstrates training a CatBoost model with hyperparameter optimization, followed by feature importance visualization using SHAP. CatBoost is a machine learning algorithm that uses gradient boosting on decision trees. This notebook utilizes the `deepfuel-ML/src/models/catboost_module.py` script for model training."
   ]
  },
  {
   "cell_type": "code",
   "execution_count": 1,
   "id": "continent-budget",
   "metadata": {
    "ExecuteTime": {
     "end_time": "2021-03-19T08:22:59.893209Z",
     "start_time": "2021-03-19T08:22:56.680598Z"
    }
   },
   "outputs": [],
   "source": [
    "import os\n",
    "import pandas as pd\n",
    "import numpy as np\n",
    "from joblib import dump, load\n",
    "import shap"
   ]
  },
  {
   "cell_type": "markdown",
   "id": "foster-radiation",
   "metadata": {},
   "source": [
    "### Data directory"
   ]
  },
  {
   "cell_type": "code",
   "execution_count": 2,
   "id": "skilled-halloween",
   "metadata": {
    "scrolled": true
   },
   "outputs": [
    {
     "name": "stdout",
     "output_type": "stream",
     "text": [
      "\u001b[01;34m../data/midlats\u001b[00m\r\n",
      "├── midlats_test.csv\r\n",
      "├── midlats_train.csv\r\n",
      "└── midlats_val.csv\r\n",
      "\r\n",
      "0 directories, 3 files\r\n"
     ]
    }
   ],
   "source": [
    "# The training, validation and test set required for model training are placed in data/midlats/\n",
    "! tree ../data/midlats"
   ]
  },
  {
   "cell_type": "markdown",
   "id": "ongoing-knowing",
   "metadata": {},
   "source": [
    "### Input Features\n",
    "\n",
    "- Latitude\n",
    "- Longitude\n",
    "- Leaf Area Index\n",
    "- Fire Weather Index: fwinx\n",
    "- Drought Code: drtcode\n",
    "- Fire Danegr Severity Rating: fdsrte\n",
    "- Fraction of Burnable Area: fraction_of_burnable_area\n",
    "- d2m\n",
    "- Evaporation Rate: erate\n",
    "- fg10\n",
    "- si10\n",
    "- Volumetric Soil Water Level 1: swvl1\n",
    "- 2m Temperature: t2m\n",
    "- tprate\n",
    "- Climatic Region: climatic_region\n",
    "- Slope: slor\n",
    "- Month: month\n",
    "- Fuel Load: actual_load (target variable)"
   ]
  },
  {
   "cell_type": "code",
   "execution_count": 3,
   "id": "expanded-forest",
   "metadata": {},
   "outputs": [
    {
     "name": "stdout",
     "output_type": "stream",
     "text": [
      "latitude,longitude,LAI,fwinx,drtcode,fdsrte,fraction_of_burnable_area,d2m,erate,fg10,si10,swvl1,t2m,tprate,climatic_region,slor,actual_load,month\r\n"
     ]
    }
   ],
   "source": [
    "# Check header of training set matches input features\n",
    "! head -n 1 ../data/midlats/midlats_train.csv"
   ]
  },
  {
   "cell_type": "markdown",
   "id": "broadband-trading",
   "metadata": {},
   "source": [
    "### Model Training"
   ]
  },
  {
   "cell_type": "code",
   "execution_count": 4,
   "id": "intensive-cross",
   "metadata": {
    "ExecuteTime": {
     "end_time": "2021-03-19T08:23:15.494504Z",
     "start_time": "2021-03-19T08:23:00.947482Z"
    },
    "tags": [
     "outputPrepend"
    ]
   },
   "outputs": [
    {
     "name": "stdout",
     "output_type": "stream",
     "text": [
      "Link for the created Neptune experiment--------\n",
      "Info (NVML): NVML Shared Library Not Found. GPU usage metrics may not be reported. For more information, see https://docs.neptune.ai/logging-and-managing-experiment-results/logging-experiment-data.html#hardware-consumption \n",
      "https://ui.neptune.ai/shared/step-by-step-monitoring-experiments-live/e/STEP-163\n",
      "---------------------------------------\n",
      "0:\tlearn: 0.9193915\ttest: 0.9374665\tbest: 0.9374665 (0)\ttotal: 78.9ms\tremaining: 1m 18s\n",
      "1:\tlearn: 0.8572337\ttest: 0.8807920\tbest: 0.8807920 (1)\ttotal: 90.4ms\tremaining: 45.1s\n",
      "2:\tlearn: 0.8133704\ttest: 0.8472102\tbest: 0.8472102 (2)\ttotal: 105ms\tremaining: 34.9s\n",
      "3:\tlearn: 0.7751241\ttest: 0.8134123\tbest: 0.8134123 (3)\ttotal: 119ms\tremaining: 29.6s\n",
      "4:\tlearn: 0.7455154\ttest: 0.7849642\tbest: 0.7849642 (4)\ttotal: 134ms\tremaining: 26.7s\n",
      "5:\tlearn: 0.7227938\ttest: 0.7619387\tbest: 0.7619387 (5)\ttotal: 147ms\tremaining: 24.3s\n",
      "6:\tlearn: 0.7055213\ttest: 0.7447424\tbest: 0.7447424 (6)\ttotal: 163ms\tremaining: 23.1s\n",
      "7:\tlearn: 0.6899125\ttest: 0.7289204\tbest: 0.7289204 (7)\ttotal: 177ms\tremaining: 22s\n",
      "8:\tlearn: 0.6769131\ttest: 0.7178213\tbest: 0.7178213 (8)\ttotal: 194ms\tremaining: 21.4s\n",
      "9:\tlearn: 0.6661417\ttest: 0.7064480\tbest: 0.7064480 (9)\ttotal: 210ms\tremaining: 20.8s\n",
      "10:\tlearn: 0.6583567\ttest: 0.6988382\tbest: 0.6988382 (10)\ttotal: 223ms\tremaining: 20.1s\n",
      "11:\tlearn: 0.6517228\ttest: 0.6933565\tbest: 0.6933565 (11)\ttotal: 239ms\tremaining: 19.7s\n",
      "12:\tlearn: 0.6468278\ttest: 0.6872396\tbest: 0.6872396 (12)\ttotal: 253ms\tremaining: 19.2s\n",
      "13:\tlearn: 0.6415559\ttest: 0.6827719\tbest: 0.6827719 (13)\ttotal: 268ms\tremaining: 18.9s\n",
      "14:\tlearn: 0.6376358\ttest: 0.6788418\tbest: 0.6788418 (14)\ttotal: 283ms\tremaining: 18.6s\n",
      "15:\tlearn: 0.6344454\ttest: 0.6771295\tbest: 0.6771295 (15)\ttotal: 296ms\tremaining: 18.2s\n",
      "16:\tlearn: 0.6318496\ttest: 0.6748439\tbest: 0.6748439 (16)\ttotal: 309ms\tremaining: 17.9s\n",
      "17:\tlearn: 0.6291409\ttest: 0.6735104\tbest: 0.6735104 (17)\ttotal: 320ms\tremaining: 17.4s\n",
      "18:\tlearn: 0.6261281\ttest: 0.6728598\tbest: 0.6728598 (18)\ttotal: 336ms\tremaining: 17.3s\n",
      "19:\tlearn: 0.6231651\ttest: 0.6707889\tbest: 0.6707889 (19)\ttotal: 352ms\tremaining: 17.2s\n",
      "20:\tlearn: 0.6208773\ttest: 0.6677624\tbest: 0.6677624 (20)\ttotal: 366ms\tremaining: 17.1s\n",
      "21:\tlearn: 0.6191673\ttest: 0.6654764\tbest: 0.6654764 (21)\ttotal: 378ms\tremaining: 16.8s\n",
      "22:\tlearn: 0.6167112\ttest: 0.6643100\tbest: 0.6643100 (22)\ttotal: 391ms\tremaining: 16.6s\n",
      "23:\tlearn: 0.6142482\ttest: 0.6632192\tbest: 0.6632192 (23)\ttotal: 404ms\tremaining: 16.4s\n",
      "24:\tlearn: 0.6123155\ttest: 0.6627016\tbest: 0.6627016 (24)\ttotal: 418ms\tremaining: 16.3s\n",
      "25:\tlearn: 0.6110467\ttest: 0.6601960\tbest: 0.6601960 (25)\ttotal: 433ms\tremaining: 16.2s\n",
      "26:\tlearn: 0.6097389\ttest: 0.6594343\tbest: 0.6594343 (26)\ttotal: 445ms\tremaining: 16s\n",
      "27:\tlearn: 0.6087463\ttest: 0.6588046\tbest: 0.6588046 (27)\ttotal: 457ms\tremaining: 15.9s\n",
      "28:\tlearn: 0.6073632\ttest: 0.6569380\tbest: 0.6569380 (28)\ttotal: 469ms\tremaining: 15.7s\n",
      "29:\tlearn: 0.6062401\ttest: 0.6566004\tbest: 0.6566004 (29)\ttotal: 480ms\tremaining: 15.5s\n",
      "30:\tlearn: 0.6048311\ttest: 0.6561704\tbest: 0.6561704 (30)\ttotal: 495ms\tremaining: 15.5s\n",
      "31:\tlearn: 0.6029085\ttest: 0.6557554\tbest: 0.6557554 (31)\ttotal: 510ms\tremaining: 15.4s\n",
      "32:\tlearn: 0.6017016\ttest: 0.6553950\tbest: 0.6553950 (32)\ttotal: 523ms\tremaining: 15.3s\n",
      "33:\tlearn: 0.6005423\ttest: 0.6549401\tbest: 0.6549401 (33)\ttotal: 533ms\tremaining: 15.1s\n",
      "34:\tlearn: 0.5994509\ttest: 0.6547308\tbest: 0.6547308 (34)\ttotal: 548ms\tremaining: 15.1s\n",
      "35:\tlearn: 0.5987269\ttest: 0.6553546\tbest: 0.6547308 (34)\ttotal: 558ms\tremaining: 14.9s\n",
      "36:\tlearn: 0.5976011\ttest: 0.6557356\tbest: 0.6547308 (34)\ttotal: 572ms\tremaining: 14.9s\n",
      "37:\tlearn: 0.5958765\ttest: 0.6548856\tbest: 0.6547308 (34)\ttotal: 581ms\tremaining: 14.7s\n",
      "38:\tlearn: 0.5943456\ttest: 0.6550790\tbest: 0.6547308 (34)\ttotal: 593ms\tremaining: 14.6s\n",
      "39:\tlearn: 0.5933963\ttest: 0.6538970\tbest: 0.6538970 (39)\ttotal: 606ms\tremaining: 14.5s\n",
      "40:\tlearn: 0.5923655\ttest: 0.6531254\tbest: 0.6531254 (40)\ttotal: 620ms\tremaining: 14.5s\n",
      "41:\tlearn: 0.5912385\ttest: 0.6524203\tbest: 0.6524203 (41)\ttotal: 633ms\tremaining: 14.4s\n",
      "42:\tlearn: 0.5902437\ttest: 0.6517653\tbest: 0.6517653 (42)\ttotal: 646ms\tremaining: 14.4s\n",
      "43:\tlearn: 0.5895157\ttest: 0.6513285\tbest: 0.6513285 (43)\ttotal: 656ms\tremaining: 14.3s\n",
      "44:\tlearn: 0.5888383\ttest: 0.6509960\tbest: 0.6509960 (44)\ttotal: 673ms\tremaining: 14.3s\n",
      "45:\tlearn: 0.5875757\ttest: 0.6508946\tbest: 0.6508946 (45)\ttotal: 689ms\tremaining: 14.3s\n",
      "46:\tlearn: 0.5867372\ttest: 0.6511314\tbest: 0.6508946 (45)\ttotal: 702ms\tremaining: 14.2s\n",
      "47:\tlearn: 0.5852567\ttest: 0.6501991\tbest: 0.6501991 (47)\ttotal: 715ms\tremaining: 14.2s\n",
      "48:\tlearn: 0.5844850\ttest: 0.6508434\tbest: 0.6501991 (47)\ttotal: 726ms\tremaining: 14.1s\n",
      "49:\tlearn: 0.5836967\ttest: 0.6503320\tbest: 0.6501991 (47)\ttotal: 739ms\tremaining: 14s\n",
      "50:\tlearn: 0.5820059\ttest: 0.6497255\tbest: 0.6497255 (50)\ttotal: 753ms\tremaining: 14s\n",
      "51:\tlearn: 0.5810473\ttest: 0.6490430\tbest: 0.6490430 (51)\ttotal: 767ms\tremaining: 14s\n",
      "52:\tlearn: 0.5802871\ttest: 0.6476916\tbest: 0.6476916 (52)\ttotal: 776ms\tremaining: 13.9s\n",
      "53:\tlearn: 0.5789743\ttest: 0.6472192\tbest: 0.6472192 (53)\ttotal: 789ms\tremaining: 13.8s\n",
      "54:\tlearn: 0.5782620\ttest: 0.6471240\tbest: 0.6471240 (54)\ttotal: 800ms\tremaining: 13.7s\n",
      "55:\tlearn: 0.5775898\ttest: 0.6473070\tbest: 0.6471240 (54)\ttotal: 813ms\tremaining: 13.7s\n",
      "56:\tlearn: 0.5767585\ttest: 0.6472530\tbest: 0.6471240 (54)\ttotal: 824ms\tremaining: 13.6s\n",
      "57:\tlearn: 0.5756067\ttest: 0.6474915\tbest: 0.6471240 (54)\ttotal: 838ms\tremaining: 13.6s\n",
      "58:\tlearn: 0.5748596\ttest: 0.6477143\tbest: 0.6471240 (54)\ttotal: 851ms\tremaining: 13.6s\n",
      "59:\tlearn: 0.5741335\ttest: 0.6475559\tbest: 0.6471240 (54)\ttotal: 865ms\tremaining: 13.6s\n",
      "60:\tlearn: 0.5733721\ttest: 0.6472298\tbest: 0.6471240 (54)\ttotal: 877ms\tremaining: 13.5s\n",
      "61:\tlearn: 0.5726353\ttest: 0.6474583\tbest: 0.6471240 (54)\ttotal: 891ms\tremaining: 13.5s\n",
      "62:\tlearn: 0.5715622\ttest: 0.6466578\tbest: 0.6466578 (62)\ttotal: 906ms\tremaining: 13.5s\n",
      "63:\tlearn: 0.5709742\ttest: 0.6463514\tbest: 0.6463514 (63)\ttotal: 919ms\tremaining: 13.4s\n",
      "64:\tlearn: 0.5704949\ttest: 0.6459408\tbest: 0.6459408 (64)\ttotal: 933ms\tremaining: 13.4s\n",
      "65:\tlearn: 0.5696531\ttest: 0.6452333\tbest: 0.6452333 (65)\ttotal: 945ms\tremaining: 13.4s\n",
      "66:\tlearn: 0.5690705\ttest: 0.6450188\tbest: 0.6450188 (66)\ttotal: 959ms\tremaining: 13.3s\n",
      "67:\tlearn: 0.5680043\ttest: 0.6435463\tbest: 0.6435463 (67)\ttotal: 975ms\tremaining: 13.4s\n",
      "68:\tlearn: 0.5672356\ttest: 0.6434362\tbest: 0.6434362 (68)\ttotal: 988ms\tremaining: 13.3s\n",
      "69:\tlearn: 0.5663730\ttest: 0.6437133\tbest: 0.6434362 (68)\ttotal: 1s\tremaining: 13.3s\n",
      "70:\tlearn: 0.5655543\ttest: 0.6429390\tbest: 0.6429390 (70)\ttotal: 1.01s\tremaining: 13.3s\n",
      "71:\tlearn: 0.5645643\ttest: 0.6425460\tbest: 0.6425460 (71)\ttotal: 1.03s\tremaining: 13.3s\n",
      "72:\tlearn: 0.5640496\ttest: 0.6422698\tbest: 0.6422698 (72)\ttotal: 1.04s\tremaining: 13.3s\n",
      "73:\tlearn: 0.5630320\ttest: 0.6414877\tbest: 0.6414877 (73)\ttotal: 1.06s\tremaining: 13.2s\n",
      "74:\tlearn: 0.5620642\ttest: 0.6431357\tbest: 0.6414877 (73)\ttotal: 1.07s\tremaining: 13.2s\n",
      "75:\tlearn: 0.5612604\ttest: 0.6429661\tbest: 0.6414877 (73)\ttotal: 1.08s\tremaining: 13.2s\n",
      "76:\tlearn: 0.5602912\ttest: 0.6421555\tbest: 0.6414877 (73)\ttotal: 1.1s\tremaining: 13.2s\n",
      "77:\tlearn: 0.5592935\ttest: 0.6418834\tbest: 0.6414877 (73)\ttotal: 1.11s\tremaining: 13.1s\n",
      "78:\tlearn: 0.5583601\ttest: 0.6406757\tbest: 0.6406757 (78)\ttotal: 1.13s\tremaining: 13.2s\n",
      "79:\tlearn: 0.5573890\ttest: 0.6403750\tbest: 0.6403750 (79)\ttotal: 1.14s\tremaining: 13.1s\n",
      "80:\tlearn: 0.5566453\ttest: 0.6400470\tbest: 0.6400470 (80)\ttotal: 1.16s\tremaining: 13.1s\n",
      "81:\tlearn: 0.5558082\ttest: 0.6398715\tbest: 0.6398715 (81)\ttotal: 1.17s\tremaining: 13.1s\n",
      "82:\tlearn: 0.5550688\ttest: 0.6400936\tbest: 0.6398715 (81)\ttotal: 1.19s\tremaining: 13.1s\n",
      "83:\tlearn: 0.5542493\ttest: 0.6397291\tbest: 0.6397291 (83)\ttotal: 1.2s\tremaining: 13.1s\n",
      "84:\tlearn: 0.5533972\ttest: 0.6395742\tbest: 0.6395742 (84)\ttotal: 1.22s\tremaining: 13.1s\n",
      "85:\tlearn: 0.5527279\ttest: 0.6399244\tbest: 0.6395742 (84)\ttotal: 1.23s\tremaining: 13.1s\n",
      "86:\tlearn: 0.5520227\ttest: 0.6399555\tbest: 0.6395742 (84)\ttotal: 1.25s\tremaining: 13.1s\n",
      "87:\tlearn: 0.5515029\ttest: 0.6399998\tbest: 0.6395742 (84)\ttotal: 1.26s\tremaining: 13s\n",
      "88:\tlearn: 0.5505467\ttest: 0.6405397\tbest: 0.6395742 (84)\ttotal: 1.27s\tremaining: 13s\n",
      "89:\tlearn: 0.5498005\ttest: 0.6405450\tbest: 0.6395742 (84)\ttotal: 1.29s\tremaining: 13s\n",
      "90:\tlearn: 0.5492032\ttest: 0.6405503\tbest: 0.6395742 (84)\ttotal: 1.3s\tremaining: 13s\n"
     ]
    },
    {
     "name": "stdout",
     "output_type": "stream",
     "text": [
      "91:\tlearn: 0.5486241\ttest: 0.6406052\tbest: 0.6395742 (84)\ttotal: 1.32s\tremaining: 13s\n",
      "92:\tlearn: 0.5480591\ttest: 0.6406532\tbest: 0.6395742 (84)\ttotal: 1.33s\tremaining: 13s\n",
      "93:\tlearn: 0.5473953\ttest: 0.6411729\tbest: 0.6395742 (84)\ttotal: 1.35s\tremaining: 13s\n",
      "94:\tlearn: 0.5468666\ttest: 0.6415633\tbest: 0.6395742 (84)\ttotal: 1.36s\tremaining: 13s\n",
      "95:\tlearn: 0.5462115\ttest: 0.6414436\tbest: 0.6395742 (84)\ttotal: 1.38s\tremaining: 13s\n",
      "96:\tlearn: 0.5455693\ttest: 0.6413580\tbest: 0.6395742 (84)\ttotal: 1.39s\tremaining: 12.9s\n",
      "97:\tlearn: 0.5447146\ttest: 0.6402778\tbest: 0.6395742 (84)\ttotal: 1.41s\tremaining: 12.9s\n",
      "98:\tlearn: 0.5439812\ttest: 0.6400376\tbest: 0.6395742 (84)\ttotal: 1.42s\tremaining: 12.9s\n",
      "99:\tlearn: 0.5433613\ttest: 0.6386501\tbest: 0.6386501 (99)\ttotal: 1.43s\tremaining: 12.9s\n",
      "100:\tlearn: 0.5427270\ttest: 0.6371365\tbest: 0.6371365 (100)\ttotal: 1.45s\tremaining: 12.9s\n",
      "101:\tlearn: 0.5419119\ttest: 0.6369784\tbest: 0.6369784 (101)\ttotal: 1.46s\tremaining: 12.9s\n",
      "102:\tlearn: 0.5413588\ttest: 0.6371566\tbest: 0.6369784 (101)\ttotal: 1.48s\tremaining: 12.9s\n",
      "103:\tlearn: 0.5407762\ttest: 0.6366980\tbest: 0.6366980 (103)\ttotal: 1.49s\tremaining: 12.9s\n",
      "104:\tlearn: 0.5401931\ttest: 0.6366697\tbest: 0.6366697 (104)\ttotal: 1.51s\tremaining: 12.9s\n",
      "105:\tlearn: 0.5393630\ttest: 0.6367066\tbest: 0.6366697 (104)\ttotal: 1.52s\tremaining: 12.9s\n",
      "106:\tlearn: 0.5388236\ttest: 0.6368598\tbest: 0.6366697 (104)\ttotal: 1.54s\tremaining: 12.8s\n",
      "107:\tlearn: 0.5383836\ttest: 0.6368267\tbest: 0.6366697 (104)\ttotal: 1.55s\tremaining: 12.8s\n",
      "108:\tlearn: 0.5378279\ttest: 0.6364012\tbest: 0.6364012 (108)\ttotal: 1.56s\tremaining: 12.8s\n",
      "109:\tlearn: 0.5368150\ttest: 0.6366754\tbest: 0.6364012 (108)\ttotal: 1.58s\tremaining: 12.8s\n",
      "110:\tlearn: 0.5362960\ttest: 0.6365086\tbest: 0.6364012 (108)\ttotal: 1.59s\tremaining: 12.7s\n",
      "111:\tlearn: 0.5354897\ttest: 0.6369143\tbest: 0.6364012 (108)\ttotal: 1.6s\tremaining: 12.7s\n",
      "112:\tlearn: 0.5350018\ttest: 0.6366436\tbest: 0.6364012 (108)\ttotal: 1.62s\tremaining: 12.7s\n",
      "113:\tlearn: 0.5345172\ttest: 0.6366132\tbest: 0.6364012 (108)\ttotal: 1.63s\tremaining: 12.7s\n",
      "114:\tlearn: 0.5337979\ttest: 0.6372242\tbest: 0.6364012 (108)\ttotal: 1.65s\tremaining: 12.7s\n",
      "115:\tlearn: 0.5332494\ttest: 0.6371065\tbest: 0.6364012 (108)\ttotal: 1.66s\tremaining: 12.6s\n",
      "116:\tlearn: 0.5329666\ttest: 0.6373097\tbest: 0.6364012 (108)\ttotal: 1.67s\tremaining: 12.6s\n",
      "117:\tlearn: 0.5323122\ttest: 0.6370303\tbest: 0.6364012 (108)\ttotal: 1.68s\tremaining: 12.6s\n",
      "118:\tlearn: 0.5318688\ttest: 0.6370336\tbest: 0.6364012 (108)\ttotal: 1.7s\tremaining: 12.6s\n",
      "119:\tlearn: 0.5316306\ttest: 0.6371935\tbest: 0.6364012 (108)\ttotal: 1.71s\tremaining: 12.5s\n",
      "120:\tlearn: 0.5310300\ttest: 0.6370576\tbest: 0.6364012 (108)\ttotal: 1.72s\tremaining: 12.5s\n",
      "121:\tlearn: 0.5304187\ttest: 0.6367872\tbest: 0.6364012 (108)\ttotal: 1.73s\tremaining: 12.4s\n",
      "122:\tlearn: 0.5298488\ttest: 0.6366334\tbest: 0.6364012 (108)\ttotal: 1.74s\tremaining: 12.4s\n",
      "123:\tlearn: 0.5296692\ttest: 0.6369091\tbest: 0.6364012 (108)\ttotal: 1.75s\tremaining: 12.4s\n",
      "124:\tlearn: 0.5294538\ttest: 0.6367401\tbest: 0.6364012 (108)\ttotal: 1.76s\tremaining: 12.3s\n",
      "125:\tlearn: 0.5288941\ttest: 0.6366277\tbest: 0.6364012 (108)\ttotal: 1.77s\tremaining: 12.3s\n",
      "126:\tlearn: 0.5287480\ttest: 0.6365690\tbest: 0.6364012 (108)\ttotal: 1.78s\tremaining: 12.3s\n",
      "127:\tlearn: 0.5281709\ttest: 0.6363986\tbest: 0.6363986 (127)\ttotal: 1.79s\tremaining: 12.2s\n",
      "128:\tlearn: 0.5279361\ttest: 0.6363602\tbest: 0.6363602 (128)\ttotal: 1.81s\tremaining: 12.2s\n",
      "129:\tlearn: 0.5275361\ttest: 0.6364457\tbest: 0.6363602 (128)\ttotal: 1.82s\tremaining: 12.2s\n",
      "130:\tlearn: 0.5269540\ttest: 0.6365961\tbest: 0.6363602 (128)\ttotal: 1.83s\tremaining: 12.2s\n",
      "131:\tlearn: 0.5265410\ttest: 0.6368108\tbest: 0.6363602 (128)\ttotal: 1.85s\tremaining: 12.1s\n",
      "132:\tlearn: 0.5263249\ttest: 0.6367646\tbest: 0.6363602 (128)\ttotal: 1.86s\tremaining: 12.1s\n",
      "133:\tlearn: 0.5259547\ttest: 0.6366588\tbest: 0.6363602 (128)\ttotal: 1.87s\tremaining: 12.1s\n",
      "134:\tlearn: 0.5253532\ttest: 0.6369319\tbest: 0.6363602 (128)\ttotal: 1.89s\tremaining: 12.1s\n",
      "135:\tlearn: 0.5251026\ttest: 0.6367517\tbest: 0.6363602 (128)\ttotal: 1.9s\tremaining: 12.1s\n",
      "136:\tlearn: 0.5245731\ttest: 0.6366776\tbest: 0.6363602 (128)\ttotal: 1.91s\tremaining: 12s\n",
      "137:\tlearn: 0.5240244\ttest: 0.6364513\tbest: 0.6363602 (128)\ttotal: 1.92s\tremaining: 12s\n",
      "138:\tlearn: 0.5235849\ttest: 0.6366127\tbest: 0.6363602 (128)\ttotal: 1.94s\tremaining: 12s\n",
      "139:\tlearn: 0.5233566\ttest: 0.6365459\tbest: 0.6363602 (128)\ttotal: 1.95s\tremaining: 12s\n",
      "140:\tlearn: 0.5230456\ttest: 0.6363397\tbest: 0.6363397 (140)\ttotal: 1.96s\tremaining: 11.9s\n",
      "141:\tlearn: 0.5225910\ttest: 0.6362660\tbest: 0.6362660 (141)\ttotal: 1.97s\tremaining: 11.9s\n",
      "142:\tlearn: 0.5220271\ttest: 0.6367432\tbest: 0.6362660 (141)\ttotal: 1.99s\tremaining: 11.9s\n",
      "143:\tlearn: 0.5216034\ttest: 0.6368738\tbest: 0.6362660 (141)\ttotal: 2s\tremaining: 11.9s\n",
      "144:\tlearn: 0.5213469\ttest: 0.6371392\tbest: 0.6362660 (141)\ttotal: 2.01s\tremaining: 11.9s\n",
      "145:\tlearn: 0.5211139\ttest: 0.6372362\tbest: 0.6362660 (141)\ttotal: 2.03s\tremaining: 11.9s\n",
      "146:\tlearn: 0.5203843\ttest: 0.6363049\tbest: 0.6362660 (141)\ttotal: 2.04s\tremaining: 11.8s\n",
      "147:\tlearn: 0.5200915\ttest: 0.6360371\tbest: 0.6360371 (147)\ttotal: 2.05s\tremaining: 11.8s\n",
      "148:\tlearn: 0.5197915\ttest: 0.6359489\tbest: 0.6359489 (148)\ttotal: 2.06s\tremaining: 11.8s\n",
      "149:\tlearn: 0.5191642\ttest: 0.6357638\tbest: 0.6357638 (149)\ttotal: 2.08s\tremaining: 11.8s\n",
      "150:\tlearn: 0.5187433\ttest: 0.6356658\tbest: 0.6356658 (150)\ttotal: 2.09s\tremaining: 11.7s\n",
      "151:\tlearn: 0.5183967\ttest: 0.6357729\tbest: 0.6356658 (150)\ttotal: 2.1s\tremaining: 11.7s\n",
      "152:\tlearn: 0.5182298\ttest: 0.6358799\tbest: 0.6356658 (150)\ttotal: 2.11s\tremaining: 11.7s\n",
      "153:\tlearn: 0.5177027\ttest: 0.6358071\tbest: 0.6356658 (150)\ttotal: 2.13s\tremaining: 11.7s\n",
      "154:\tlearn: 0.5174244\ttest: 0.6361041\tbest: 0.6356658 (150)\ttotal: 2.14s\tremaining: 11.7s\n",
      "155:\tlearn: 0.5167939\ttest: 0.6352993\tbest: 0.6352993 (155)\ttotal: 2.16s\tremaining: 11.7s\n",
      "156:\tlearn: 0.5163352\ttest: 0.6355704\tbest: 0.6352993 (155)\ttotal: 2.17s\tremaining: 11.7s\n",
      "157:\tlearn: 0.5158943\ttest: 0.6353118\tbest: 0.6352993 (155)\ttotal: 2.18s\tremaining: 11.6s\n",
      "158:\tlearn: 0.5157456\ttest: 0.6353208\tbest: 0.6352993 (155)\ttotal: 2.2s\tremaining: 11.6s\n",
      "159:\tlearn: 0.5155653\ttest: 0.6353271\tbest: 0.6352993 (155)\ttotal: 2.21s\tremaining: 11.6s\n",
      "160:\tlearn: 0.5150309\ttest: 0.6347034\tbest: 0.6347034 (160)\ttotal: 2.22s\tremaining: 11.6s\n",
      "161:\tlearn: 0.5144861\ttest: 0.6349556\tbest: 0.6347034 (160)\ttotal: 2.24s\tremaining: 11.6s\n",
      "162:\tlearn: 0.5141765\ttest: 0.6349201\tbest: 0.6347034 (160)\ttotal: 2.25s\tremaining: 11.6s\n",
      "163:\tlearn: 0.5138344\ttest: 0.6350782\tbest: 0.6347034 (160)\ttotal: 2.27s\tremaining: 11.6s\n",
      "164:\tlearn: 0.5135665\ttest: 0.6352450\tbest: 0.6347034 (160)\ttotal: 2.28s\tremaining: 11.5s\n",
      "165:\tlearn: 0.5131997\ttest: 0.6351600\tbest: 0.6347034 (160)\ttotal: 2.29s\tremaining: 11.5s\n",
      "166:\tlearn: 0.5125623\ttest: 0.6350456\tbest: 0.6347034 (160)\ttotal: 2.31s\tremaining: 11.5s\n",
      "167:\tlearn: 0.5124390\ttest: 0.6350492\tbest: 0.6347034 (160)\ttotal: 2.32s\tremaining: 11.5s\n",
      "168:\tlearn: 0.5122143\ttest: 0.6351598\tbest: 0.6347034 (160)\ttotal: 2.33s\tremaining: 11.5s\n",
      "169:\tlearn: 0.5117753\ttest: 0.6356749\tbest: 0.6347034 (160)\ttotal: 2.35s\tremaining: 11.5s\n",
      "170:\tlearn: 0.5114110\ttest: 0.6356471\tbest: 0.6347034 (160)\ttotal: 2.36s\tremaining: 11.4s\n",
      "171:\tlearn: 0.5109576\ttest: 0.6346355\tbest: 0.6346355 (171)\ttotal: 2.38s\tremaining: 11.4s\n",
      "172:\tlearn: 0.5106878\ttest: 0.6347589\tbest: 0.6346355 (171)\ttotal: 2.39s\tremaining: 11.4s\n",
      "173:\tlearn: 0.5102403\ttest: 0.6347863\tbest: 0.6346355 (171)\ttotal: 2.4s\tremaining: 11.4s\n",
      "174:\tlearn: 0.5099375\ttest: 0.6352770\tbest: 0.6346355 (171)\ttotal: 2.41s\tremaining: 11.4s\n",
      "175:\tlearn: 0.5094822\ttest: 0.6351855\tbest: 0.6346355 (171)\ttotal: 2.43s\tremaining: 11.4s\n",
      "176:\tlearn: 0.5089536\ttest: 0.6352246\tbest: 0.6346355 (171)\ttotal: 2.44s\tremaining: 11.4s\n",
      "177:\tlearn: 0.5085382\ttest: 0.6352484\tbest: 0.6346355 (171)\ttotal: 2.46s\tremaining: 11.3s\n",
      "178:\tlearn: 0.5080523\ttest: 0.6353332\tbest: 0.6346355 (171)\ttotal: 2.47s\tremaining: 11.3s\n",
      "179:\tlearn: 0.5075771\ttest: 0.6351069\tbest: 0.6346355 (171)\ttotal: 2.49s\tremaining: 11.3s\n",
      "180:\tlearn: 0.5072384\ttest: 0.6352693\tbest: 0.6346355 (171)\ttotal: 2.5s\tremaining: 11.3s\n",
      "181:\tlearn: 0.5068059\ttest: 0.6348807\tbest: 0.6346355 (171)\ttotal: 2.52s\tremaining: 11.3s\n",
      "182:\tlearn: 0.5063833\ttest: 0.6347520\tbest: 0.6346355 (171)\ttotal: 2.53s\tremaining: 11.3s\n",
      "183:\tlearn: 0.5061146\ttest: 0.6347331\tbest: 0.6346355 (171)\ttotal: 2.55s\tremaining: 11.3s\n",
      "184:\tlearn: 0.5058884\ttest: 0.6346716\tbest: 0.6346355 (171)\ttotal: 2.56s\tremaining: 11.3s\n"
     ]
    },
    {
     "name": "stdout",
     "output_type": "stream",
     "text": [
      "185:\tlearn: 0.5056226\ttest: 0.6346660\tbest: 0.6346355 (171)\ttotal: 2.58s\tremaining: 11.3s\n",
      "186:\tlearn: 0.5051076\ttest: 0.6344435\tbest: 0.6344435 (186)\ttotal: 2.59s\tremaining: 11.3s\n",
      "187:\tlearn: 0.5047361\ttest: 0.6342807\tbest: 0.6342807 (187)\ttotal: 2.6s\tremaining: 11.3s\n",
      "188:\tlearn: 0.5042438\ttest: 0.6341121\tbest: 0.6341121 (188)\ttotal: 2.62s\tremaining: 11.2s\n",
      "189:\tlearn: 0.5036811\ttest: 0.6340671\tbest: 0.6340671 (189)\ttotal: 2.63s\tremaining: 11.2s\n",
      "190:\tlearn: 0.5033368\ttest: 0.6342036\tbest: 0.6340671 (189)\ttotal: 2.65s\tremaining: 11.2s\n",
      "191:\tlearn: 0.5030719\ttest: 0.6341809\tbest: 0.6340671 (189)\ttotal: 2.66s\tremaining: 11.2s\n",
      "192:\tlearn: 0.5027323\ttest: 0.6340040\tbest: 0.6340040 (192)\ttotal: 2.68s\tremaining: 11.2s\n",
      "193:\tlearn: 0.5025179\ttest: 0.6339426\tbest: 0.6339426 (193)\ttotal: 2.69s\tremaining: 11.2s\n",
      "194:\tlearn: 0.5022590\ttest: 0.6338549\tbest: 0.6338549 (194)\ttotal: 2.7s\tremaining: 11.1s\n",
      "195:\tlearn: 0.5018524\ttest: 0.6341440\tbest: 0.6338549 (194)\ttotal: 2.71s\tremaining: 11.1s\n",
      "196:\tlearn: 0.5017117\ttest: 0.6342702\tbest: 0.6338549 (194)\ttotal: 2.73s\tremaining: 11.1s\n",
      "197:\tlearn: 0.5013698\ttest: 0.6341860\tbest: 0.6338549 (194)\ttotal: 2.74s\tremaining: 11.1s\n",
      "198:\tlearn: 0.5010171\ttest: 0.6342489\tbest: 0.6338549 (194)\ttotal: 2.75s\tremaining: 11.1s\n",
      "199:\tlearn: 0.5007665\ttest: 0.6342624\tbest: 0.6338549 (194)\ttotal: 2.76s\tremaining: 11.1s\n",
      "200:\tlearn: 0.5002987\ttest: 0.6348234\tbest: 0.6338549 (194)\ttotal: 2.78s\tremaining: 11s\n",
      "201:\tlearn: 0.4998669\ttest: 0.6347535\tbest: 0.6338549 (194)\ttotal: 2.79s\tremaining: 11s\n",
      "202:\tlearn: 0.4994810\ttest: 0.6346098\tbest: 0.6338549 (194)\ttotal: 2.8s\tremaining: 11s\n",
      "203:\tlearn: 0.4991625\ttest: 0.6346965\tbest: 0.6338549 (194)\ttotal: 2.81s\tremaining: 11s\n",
      "204:\tlearn: 0.4988115\ttest: 0.6348334\tbest: 0.6338549 (194)\ttotal: 2.83s\tremaining: 11s\n",
      "205:\tlearn: 0.4983972\ttest: 0.6346270\tbest: 0.6338549 (194)\ttotal: 2.84s\tremaining: 10.9s\n",
      "206:\tlearn: 0.4982073\ttest: 0.6346977\tbest: 0.6338549 (194)\ttotal: 2.85s\tremaining: 10.9s\n",
      "207:\tlearn: 0.4978787\ttest: 0.6342009\tbest: 0.6338549 (194)\ttotal: 2.86s\tremaining: 10.9s\n",
      "208:\tlearn: 0.4975949\ttest: 0.6339449\tbest: 0.6338549 (194)\ttotal: 2.87s\tremaining: 10.9s\n",
      "209:\tlearn: 0.4972686\ttest: 0.6340116\tbest: 0.6338549 (194)\ttotal: 2.89s\tremaining: 10.9s\n",
      "210:\tlearn: 0.4970034\ttest: 0.6340407\tbest: 0.6338549 (194)\ttotal: 2.9s\tremaining: 10.8s\n",
      "211:\tlearn: 0.4963788\ttest: 0.6345587\tbest: 0.6338549 (194)\ttotal: 2.92s\tremaining: 10.8s\n",
      "212:\tlearn: 0.4960817\ttest: 0.6345025\tbest: 0.6338549 (194)\ttotal: 2.93s\tremaining: 10.8s\n",
      "213:\tlearn: 0.4957336\ttest: 0.6342427\tbest: 0.6338549 (194)\ttotal: 2.94s\tremaining: 10.8s\n",
      "214:\tlearn: 0.4950926\ttest: 0.6337588\tbest: 0.6337588 (214)\ttotal: 2.95s\tremaining: 10.8s\n",
      "215:\tlearn: 0.4948141\ttest: 0.6336842\tbest: 0.6336842 (215)\ttotal: 2.97s\tremaining: 10.8s\n",
      "216:\tlearn: 0.4947038\ttest: 0.6336973\tbest: 0.6336842 (215)\ttotal: 2.98s\tremaining: 10.7s\n",
      "217:\tlearn: 0.4944107\ttest: 0.6338719\tbest: 0.6336842 (215)\ttotal: 2.99s\tremaining: 10.7s\n",
      "218:\tlearn: 0.4941696\ttest: 0.6337972\tbest: 0.6336842 (215)\ttotal: 3s\tremaining: 10.7s\n",
      "219:\tlearn: 0.4937898\ttest: 0.6337183\tbest: 0.6336842 (215)\ttotal: 3.02s\tremaining: 10.7s\n",
      "220:\tlearn: 0.4934690\ttest: 0.6340241\tbest: 0.6336842 (215)\ttotal: 3.03s\tremaining: 10.7s\n",
      "221:\tlearn: 0.4930815\ttest: 0.6339433\tbest: 0.6336842 (215)\ttotal: 3.05s\tremaining: 10.7s\n",
      "222:\tlearn: 0.4927420\ttest: 0.6336263\tbest: 0.6336263 (222)\ttotal: 3.06s\tremaining: 10.7s\n",
      "223:\tlearn: 0.4922604\ttest: 0.6337229\tbest: 0.6336263 (222)\ttotal: 3.08s\tremaining: 10.7s\n",
      "224:\tlearn: 0.4919597\ttest: 0.6337858\tbest: 0.6336263 (222)\ttotal: 3.09s\tremaining: 10.7s\n",
      "225:\tlearn: 0.4916436\ttest: 0.6337287\tbest: 0.6336263 (222)\ttotal: 3.11s\tremaining: 10.6s\n",
      "226:\tlearn: 0.4911072\ttest: 0.6332495\tbest: 0.6332495 (226)\ttotal: 3.12s\tremaining: 10.6s\n",
      "227:\tlearn: 0.4908857\ttest: 0.6331750\tbest: 0.6331750 (227)\ttotal: 3.14s\tremaining: 10.6s\n",
      "228:\tlearn: 0.4904006\ttest: 0.6328148\tbest: 0.6328148 (228)\ttotal: 3.15s\tremaining: 10.6s\n",
      "229:\tlearn: 0.4900505\ttest: 0.6328003\tbest: 0.6328003 (229)\ttotal: 3.17s\tremaining: 10.6s\n",
      "230:\tlearn: 0.4895336\ttest: 0.6327648\tbest: 0.6327648 (230)\ttotal: 3.19s\tremaining: 10.6s\n",
      "231:\tlearn: 0.4892506\ttest: 0.6328026\tbest: 0.6327648 (230)\ttotal: 3.2s\tremaining: 10.6s\n",
      "232:\tlearn: 0.4889727\ttest: 0.6327498\tbest: 0.6327498 (232)\ttotal: 3.21s\tremaining: 10.6s\n",
      "233:\tlearn: 0.4886305\ttest: 0.6328368\tbest: 0.6327498 (232)\ttotal: 3.23s\tremaining: 10.6s\n",
      "234:\tlearn: 0.4882303\ttest: 0.6330464\tbest: 0.6327498 (232)\ttotal: 3.24s\tremaining: 10.6s\n",
      "235:\tlearn: 0.4879819\ttest: 0.6329554\tbest: 0.6327498 (232)\ttotal: 3.25s\tremaining: 10.5s\n",
      "236:\tlearn: 0.4877380\ttest: 0.6329088\tbest: 0.6327498 (232)\ttotal: 3.27s\tremaining: 10.5s\n",
      "237:\tlearn: 0.4873971\ttest: 0.6325672\tbest: 0.6325672 (237)\ttotal: 3.29s\tremaining: 10.5s\n",
      "238:\tlearn: 0.4869622\ttest: 0.6323675\tbest: 0.6323675 (238)\ttotal: 3.3s\tremaining: 10.5s\n",
      "239:\tlearn: 0.4865535\ttest: 0.6324161\tbest: 0.6323675 (238)\ttotal: 3.31s\tremaining: 10.5s\n",
      "240:\tlearn: 0.4861071\ttest: 0.6326139\tbest: 0.6323675 (238)\ttotal: 3.33s\tremaining: 10.5s\n",
      "241:\tlearn: 0.4857719\ttest: 0.6329378\tbest: 0.6323675 (238)\ttotal: 3.34s\tremaining: 10.5s\n",
      "242:\tlearn: 0.4854502\ttest: 0.6327932\tbest: 0.6323675 (238)\ttotal: 3.35s\tremaining: 10.4s\n",
      "243:\tlearn: 0.4850870\ttest: 0.6330025\tbest: 0.6323675 (238)\ttotal: 3.37s\tremaining: 10.4s\n",
      "244:\tlearn: 0.4846610\ttest: 0.6329560\tbest: 0.6323675 (238)\ttotal: 3.38s\tremaining: 10.4s\n",
      "245:\tlearn: 0.4841645\ttest: 0.6327808\tbest: 0.6323675 (238)\ttotal: 3.4s\tremaining: 10.4s\n",
      "246:\tlearn: 0.4841053\ttest: 0.6328183\tbest: 0.6323675 (238)\ttotal: 3.41s\tremaining: 10.4s\n",
      "247:\tlearn: 0.4838762\ttest: 0.6325307\tbest: 0.6323675 (238)\ttotal: 3.42s\tremaining: 10.4s\n",
      "248:\tlearn: 0.4834440\ttest: 0.6322580\tbest: 0.6322580 (248)\ttotal: 3.43s\tremaining: 10.4s\n",
      "249:\tlearn: 0.4832290\ttest: 0.6325510\tbest: 0.6322580 (248)\ttotal: 3.45s\tremaining: 10.4s\n",
      "250:\tlearn: 0.4828718\ttest: 0.6326718\tbest: 0.6322580 (248)\ttotal: 3.46s\tremaining: 10.3s\n",
      "251:\tlearn: 0.4825645\ttest: 0.6325603\tbest: 0.6322580 (248)\ttotal: 3.48s\tremaining: 10.3s\n",
      "252:\tlearn: 0.4822623\ttest: 0.6323806\tbest: 0.6322580 (248)\ttotal: 3.49s\tremaining: 10.3s\n",
      "253:\tlearn: 0.4818992\ttest: 0.6321456\tbest: 0.6321456 (253)\ttotal: 3.5s\tremaining: 10.3s\n",
      "254:\tlearn: 0.4816120\ttest: 0.6318535\tbest: 0.6318535 (254)\ttotal: 3.51s\tremaining: 10.3s\n",
      "255:\tlearn: 0.4814219\ttest: 0.6318321\tbest: 0.6318321 (255)\ttotal: 3.53s\tremaining: 10.3s\n",
      "256:\tlearn: 0.4811168\ttest: 0.6317383\tbest: 0.6317383 (256)\ttotal: 3.54s\tremaining: 10.2s\n",
      "257:\tlearn: 0.4807908\ttest: 0.6316255\tbest: 0.6316255 (257)\ttotal: 3.55s\tremaining: 10.2s\n",
      "258:\tlearn: 0.4803833\ttest: 0.6316609\tbest: 0.6316255 (257)\ttotal: 3.57s\tremaining: 10.2s\n",
      "259:\tlearn: 0.4798575\ttest: 0.6319047\tbest: 0.6316255 (257)\ttotal: 3.58s\tremaining: 10.2s\n",
      "260:\tlearn: 0.4794844\ttest: 0.6320174\tbest: 0.6316255 (257)\ttotal: 3.59s\tremaining: 10.2s\n",
      "261:\tlearn: 0.4790723\ttest: 0.6317302\tbest: 0.6316255 (257)\ttotal: 3.61s\tremaining: 10.2s\n",
      "262:\tlearn: 0.4787372\ttest: 0.6316625\tbest: 0.6316255 (257)\ttotal: 3.62s\tremaining: 10.2s\n",
      "263:\tlearn: 0.4784359\ttest: 0.6316993\tbest: 0.6316255 (257)\ttotal: 3.64s\tremaining: 10.1s\n",
      "264:\tlearn: 0.4781026\ttest: 0.6316098\tbest: 0.6316098 (264)\ttotal: 3.65s\tremaining: 10.1s\n",
      "265:\tlearn: 0.4779123\ttest: 0.6312500\tbest: 0.6312500 (265)\ttotal: 3.66s\tremaining: 10.1s\n",
      "266:\tlearn: 0.4776248\ttest: 0.6315807\tbest: 0.6312500 (265)\ttotal: 3.67s\tremaining: 10.1s\n",
      "267:\tlearn: 0.4773803\ttest: 0.6317739\tbest: 0.6312500 (265)\ttotal: 3.69s\tremaining: 10.1s\n",
      "268:\tlearn: 0.4770952\ttest: 0.6317052\tbest: 0.6312500 (265)\ttotal: 3.7s\tremaining: 10.1s\n",
      "269:\tlearn: 0.4765797\ttest: 0.6318777\tbest: 0.6312500 (265)\ttotal: 3.71s\tremaining: 10s\n",
      "270:\tlearn: 0.4762009\ttest: 0.6319977\tbest: 0.6312500 (265)\ttotal: 3.73s\tremaining: 10s\n",
      "271:\tlearn: 0.4759067\ttest: 0.6320563\tbest: 0.6312500 (265)\ttotal: 3.75s\tremaining: 10s\n",
      "272:\tlearn: 0.4755099\ttest: 0.6317842\tbest: 0.6312500 (265)\ttotal: 3.76s\tremaining: 10s\n",
      "273:\tlearn: 0.4752961\ttest: 0.6317643\tbest: 0.6312500 (265)\ttotal: 3.77s\tremaining: 10s\n",
      "274:\tlearn: 0.4750934\ttest: 0.6317768\tbest: 0.6312500 (265)\ttotal: 3.79s\tremaining: 9.99s\n",
      "275:\tlearn: 0.4748232\ttest: 0.6314756\tbest: 0.6312500 (265)\ttotal: 3.8s\tremaining: 9.97s\n",
      "276:\tlearn: 0.4744597\ttest: 0.6315235\tbest: 0.6312500 (265)\ttotal: 3.81s\tremaining: 9.96s\n"
     ]
    },
    {
     "name": "stdout",
     "output_type": "stream",
     "text": [
      "277:\tlearn: 0.4741012\ttest: 0.6312829\tbest: 0.6312500 (265)\ttotal: 3.83s\tremaining: 9.95s\n",
      "278:\tlearn: 0.4738183\ttest: 0.6315227\tbest: 0.6312500 (265)\ttotal: 3.84s\tremaining: 9.93s\n",
      "279:\tlearn: 0.4734000\ttest: 0.6317994\tbest: 0.6312500 (265)\ttotal: 3.86s\tremaining: 9.92s\n",
      "280:\tlearn: 0.4730999\ttest: 0.6316118\tbest: 0.6312500 (265)\ttotal: 3.87s\tremaining: 9.9s\n",
      "281:\tlearn: 0.4728645\ttest: 0.6316737\tbest: 0.6312500 (265)\ttotal: 3.89s\tremaining: 9.9s\n",
      "282:\tlearn: 0.4727056\ttest: 0.6316947\tbest: 0.6312500 (265)\ttotal: 3.9s\tremaining: 9.87s\n",
      "283:\tlearn: 0.4723643\ttest: 0.6316039\tbest: 0.6312500 (265)\ttotal: 3.91s\tremaining: 9.85s\n",
      "284:\tlearn: 0.4722228\ttest: 0.6316106\tbest: 0.6312500 (265)\ttotal: 3.92s\tremaining: 9.83s\n",
      "285:\tlearn: 0.4718643\ttest: 0.6310680\tbest: 0.6310680 (285)\ttotal: 3.93s\tremaining: 9.82s\n",
      "286:\tlearn: 0.4715775\ttest: 0.6312893\tbest: 0.6310680 (285)\ttotal: 3.95s\tremaining: 9.8s\n",
      "287:\tlearn: 0.4712310\ttest: 0.6316549\tbest: 0.6310680 (285)\ttotal: 3.96s\tremaining: 9.79s\n",
      "288:\tlearn: 0.4708122\ttest: 0.6314603\tbest: 0.6310680 (285)\ttotal: 3.98s\tremaining: 9.78s\n",
      "289:\tlearn: 0.4706128\ttest: 0.6314471\tbest: 0.6310680 (285)\ttotal: 3.99s\tremaining: 9.76s\n",
      "290:\tlearn: 0.4701561\ttest: 0.6316234\tbest: 0.6310680 (285)\ttotal: 4s\tremaining: 9.75s\n",
      "291:\tlearn: 0.4698653\ttest: 0.6316273\tbest: 0.6310680 (285)\ttotal: 4.01s\tremaining: 9.73s\n",
      "292:\tlearn: 0.4695489\ttest: 0.6314419\tbest: 0.6310680 (285)\ttotal: 4.03s\tremaining: 9.72s\n",
      "293:\tlearn: 0.4691690\ttest: 0.6311656\tbest: 0.6310680 (285)\ttotal: 4.04s\tremaining: 9.71s\n",
      "294:\tlearn: 0.4689277\ttest: 0.6309987\tbest: 0.6309987 (294)\ttotal: 4.06s\tremaining: 9.7s\n",
      "295:\tlearn: 0.4684372\ttest: 0.6306069\tbest: 0.6306069 (295)\ttotal: 4.07s\tremaining: 9.69s\n",
      "296:\tlearn: 0.4681821\ttest: 0.6305509\tbest: 0.6305509 (296)\ttotal: 4.08s\tremaining: 9.67s\n",
      "297:\tlearn: 0.4678883\ttest: 0.6306851\tbest: 0.6305509 (296)\ttotal: 4.1s\tremaining: 9.65s\n",
      "298:\tlearn: 0.4676552\ttest: 0.6305760\tbest: 0.6305509 (296)\ttotal: 4.11s\tremaining: 9.63s\n",
      "299:\tlearn: 0.4674714\ttest: 0.6305450\tbest: 0.6305450 (299)\ttotal: 4.12s\tremaining: 9.62s\n",
      "300:\tlearn: 0.4672863\ttest: 0.6306159\tbest: 0.6305450 (299)\ttotal: 4.13s\tremaining: 9.6s\n",
      "301:\tlearn: 0.4670297\ttest: 0.6308462\tbest: 0.6305450 (299)\ttotal: 4.14s\tremaining: 9.58s\n",
      "302:\tlearn: 0.4667802\ttest: 0.6309658\tbest: 0.6305450 (299)\ttotal: 4.16s\tremaining: 9.57s\n",
      "303:\tlearn: 0.4664583\ttest: 0.6309232\tbest: 0.6305450 (299)\ttotal: 4.17s\tremaining: 9.55s\n",
      "304:\tlearn: 0.4660974\ttest: 0.6307096\tbest: 0.6305450 (299)\ttotal: 4.19s\tremaining: 9.54s\n",
      "305:\tlearn: 0.4658753\ttest: 0.6308888\tbest: 0.6305450 (299)\ttotal: 4.2s\tremaining: 9.53s\n",
      "306:\tlearn: 0.4655525\ttest: 0.6313943\tbest: 0.6305450 (299)\ttotal: 4.21s\tremaining: 9.51s\n",
      "307:\tlearn: 0.4651426\ttest: 0.6318085\tbest: 0.6305450 (299)\ttotal: 4.23s\tremaining: 9.5s\n",
      "308:\tlearn: 0.4648723\ttest: 0.6318163\tbest: 0.6305450 (299)\ttotal: 4.24s\tremaining: 9.49s\n",
      "309:\tlearn: 0.4645185\ttest: 0.6320596\tbest: 0.6305450 (299)\ttotal: 4.26s\tremaining: 9.48s\n",
      "310:\tlearn: 0.4641885\ttest: 0.6319842\tbest: 0.6305450 (299)\ttotal: 4.27s\tremaining: 9.47s\n",
      "311:\tlearn: 0.4638572\ttest: 0.6324953\tbest: 0.6305450 (299)\ttotal: 4.29s\tremaining: 9.46s\n",
      "312:\tlearn: 0.4636794\ttest: 0.6323978\tbest: 0.6305450 (299)\ttotal: 4.3s\tremaining: 9.44s\n",
      "313:\tlearn: 0.4633408\ttest: 0.6322201\tbest: 0.6305450 (299)\ttotal: 4.31s\tremaining: 9.43s\n",
      "314:\tlearn: 0.4630028\ttest: 0.6321174\tbest: 0.6305450 (299)\ttotal: 4.33s\tremaining: 9.41s\n",
      "315:\tlearn: 0.4626048\ttest: 0.6321089\tbest: 0.6305450 (299)\ttotal: 4.34s\tremaining: 9.4s\n",
      "316:\tlearn: 0.4623857\ttest: 0.6320927\tbest: 0.6305450 (299)\ttotal: 4.36s\tremaining: 9.39s\n",
      "317:\tlearn: 0.4622255\ttest: 0.6321369\tbest: 0.6305450 (299)\ttotal: 4.37s\tremaining: 9.37s\n",
      "318:\tlearn: 0.4618840\ttest: 0.6320915\tbest: 0.6305450 (299)\ttotal: 4.38s\tremaining: 9.36s\n",
      "319:\tlearn: 0.4616440\ttest: 0.6317562\tbest: 0.6305450 (299)\ttotal: 4.4s\tremaining: 9.35s\n",
      "Stopped by overfitting detector  (20 iterations wait)\n",
      "\n",
      "bestTest = 0.6305450201\n",
      "bestIteration = 299\n",
      "\n",
      "Shrink model to first 300 iterations.\n",
      "RMSE  : 0.6305450197747737\n",
      "-----------------------------------------------------------------\n",
      "Inference results \n",
      "\n",
      "Training error:  2039187852.5081983\n",
      "Validation error:  2854273450.7074313\n",
      "Test error:  2231005975.951971\n",
      "Model file save at ['/Users/rbiswas/VSCodeProjects/deepfuel-ML/src/results/pre-trained_models/CatBoost.joblib']\n"
     ]
    }
   ],
   "source": [
    "!python '../src/train.py'  --model_name 'CatBoost' --data_path '../data/midlats/' --exp_name 'CatBoost_exp'"
   ]
  },
  {
   "cell_type": "markdown",
   "id": "retained-philosophy",
   "metadata": {},
   "source": [
    "The training logs can be viewed live online at the following link: https://ui.neptune.ai/shared/step-by-step-monitoring-experiments-live/e/STEP-158"
   ]
  },
  {
   "cell_type": "markdown",
   "id": "junior-disaster",
   "metadata": {},
   "source": [
    "### Loading the trained model"
   ]
  },
  {
   "cell_type": "code",
   "execution_count": 5,
   "id": "dutch-lawsuit",
   "metadata": {
    "ExecuteTime": {
     "end_time": "2021-03-19T08:23:15.552035Z",
     "start_time": "2021-03-19T08:23:15.527949Z"
    }
   },
   "outputs": [],
   "source": [
    "model = load('../src/results/pre-trained_models/CatBoost.joblib')"
   ]
  },
  {
   "cell_type": "markdown",
   "id": "compatible-composite",
   "metadata": {},
   "source": [
    "### Feature importance using SHAP\n",
    "[SHAP](https://github.com/slundberg/shap) (SHapley Additive exPlanations) is used to explain the output of the trained machine learning model."
   ]
  },
  {
   "cell_type": "code",
   "execution_count": 6,
   "id": "civic-player",
   "metadata": {
    "ExecuteTime": {
     "end_time": "2021-03-19T08:23:27.666675Z",
     "start_time": "2021-03-19T08:23:27.567227Z"
    }
   },
   "outputs": [],
   "source": [
    "midlat_train = pd.read_csv('../data/midlats/midlats_train.csv')"
   ]
  },
  {
   "cell_type": "code",
   "execution_count": 7,
   "id": "photographic-motorcycle",
   "metadata": {
    "ExecuteTime": {
     "end_time": "2021-03-19T08:23:34.675586Z",
     "start_time": "2021-03-19T08:23:28.991602Z"
    }
   },
   "outputs": [
    {
     "data": {
      "image/png": "[encoded data removed]",
      "text/plain": [
       "<Figure size 576x597.6 with 2 Axes>"
      ]
     },
     "metadata": {
      "needs_background": "light"
     },
     "output_type": "display_data"
    }
   ],
   "source": [
    "shap_values = shap.TreeExplainer(model).shap_values(midlat_train.drop([ 'actual_load'], axis=1))\n",
    "shap.summary_plot(shap_values, midlat_train.drop(['actual_load'], axis=1))"
   ]
  },
  {
   "cell_type": "markdown",
   "id": "assumed-prize",
   "metadata": {},
   "source": [
    "The y-axis indicates the variable name, in order of importance from top to bottom.\n",
    "On the x-axis (Impact on model output), the horizontal location shows whether the effect of that value is associated with a higher or lower prediction. Gradient colour indicates feature value."
   ]
  }
 ],
 "metadata": {
  "kernelspec": {
   "display_name": "Python 3",
   "language": "python",
   "name": "python3"
  },
  "language_info": {
   "codemirror_mode": {
    "name": "ipython",
    "version": 3
   },
   "file_extension": ".py",
   "mimetype": "text/x-python",
   "name": "python",
   "nbconvert_exporter": "python",
   "pygments_lexer": "ipython3",
   "version": "3.8.8"
  },
  "varInspector": {
   "cols": {
    "lenName": 16,
    "lenType": 16,
    "lenVar": 40
   },
   "kernels_config": {
    "python": {
     "delete_cmd_postfix": "",
     "delete_cmd_prefix": "del ",
     "library": "var_list.py",
     "varRefreshCmd": "print(var_dic_list())"
    },
    "r": {
     "delete_cmd_postfix": ") ",
     "delete_cmd_prefix": "rm(",
     "library": "var_list.r",
     "varRefreshCmd": "cat(var_dic_list()) "
    }
   },
   "types_to_exclude": [
    "module",
    "function",
    "builtin_function_or_method",
    "instance",
    "_Feature"
   ],
   "window_display": false
  }
 },
 "nbformat": 4,
 "nbformat_minor": 5
}

{
 "cells": [
  {
   "cell_type": "markdown",
   "metadata": {},
   "source": [
    "## Error Analysis and Visualisation for XGBoost Models"
   ]
  },
  {
   "cell_type": "markdown",
   "metadata": {},
   "source": [
    "### Check running python kernel"
   ]
  },
  {
   "cell_type": "code",
   "execution_count": 1,
   "metadata": {
    "ExecuteTime": {
     "end_time": "2021-03-07T14:04:59.771202Z",
     "start_time": "2021-03-07T14:04:59.657232Z"
    }
   },
   "outputs": [
    {
     "name": "stdout",
     "output_type": "stream",
     "text": [
      "/home/smose_roshni/miniconda3/envs/ml-fuel/bin/python\r\n"
     ]
    }
   ],
   "source": [
    "!which python"
   ]
  },
  {
   "cell_type": "markdown",
   "metadata": {},
   "source": [
    "### Imports"
   ]
  },
  {
   "cell_type": "code",
   "execution_count": 2,
   "metadata": {
    "ExecuteTime": {
     "end_time": "2021-03-07T14:05:00.602859Z",
     "start_time": "2021-03-07T14:04:59.773258Z"
    }
   },
   "outputs": [],
   "source": [
    "import matplotlib.pyplot as plt\n",
    "import pandas as pd \n",
    "import glob\n",
    "import os\n",
    "from sklearn.metrics import r2_score"
   ]
  },
  {
   "cell_type": "markdown",
   "metadata": {},
   "source": [
    "### Top Level Constants"
   ]
  },
  {
   "cell_type": "code",
   "execution_count": 3,
   "metadata": {
    "ExecuteTime": {
     "end_time": "2021-03-07T14:05:00.607610Z",
     "start_time": "2021-03-07T14:05:00.604787Z"
    }
   },
   "outputs": [],
   "source": [
    "drop_columns = ['lon', 'lat', 'APE']\n",
    "HIGH_THRESHOLD = 1e10\n",
    "result_dir = '../../data/tropics/results'\n",
    "model_type = 'tropics'"
   ]
  },
  {
   "cell_type": "markdown",
   "metadata": {},
   "source": [
    "### Inference Files"
   ]
  },
  {
   "cell_type": "code",
   "execution_count": 4,
   "metadata": {
    "ExecuteTime": {
     "end_time": "2021-03-07T14:05:00.614249Z",
     "start_time": "2021-03-07T14:05:00.609432Z"
    }
   },
   "outputs": [
    {
     "name": "stdout",
     "output_type": "stream",
     "text": [
      "['../../data/tropics/results/tropics_output_Nov.csv', '../../data/tropics/results/tropics_output_Aug.csv', '../../data/tropics/results/tropics_output_Dec.csv', '../../data/tropics/results/tropics_output_Oct.csv', '../../data/tropics/results/tropics_output_July.csv', '../../data/tropics/results/tropics_output_Sept.csv']\n"
     ]
    }
   ],
   "source": [
    "FILE_PATHS = os.path.join(result_dir, '*'+model_type+'*.csv')\n",
    "FILE_NAMES = glob.glob(FILE_PATHS)\n",
    "print(FILE_NAMES)"
   ]
  },
  {
   "cell_type": "markdown",
   "metadata": {},
   "source": [
    "### Make Dataframe"
   ]
  },
  {
   "cell_type": "code",
   "execution_count": 5,
   "metadata": {
    "ExecuteTime": {
     "end_time": "2021-03-07T14:05:00.654041Z",
     "start_time": "2021-03-07T14:05:00.615820Z"
    }
   },
   "outputs": [],
   "source": [
    "fli_df = pd.concat((pd.read_csv(f, index_col=False).reset_index(drop=True) for f in FILE_NAMES), ignore_index=True)"
   ]
  },
  {
   "cell_type": "code",
   "execution_count": 6,
   "metadata": {
    "ExecuteTime": {
     "end_time": "2021-03-07T14:05:00.669588Z",
     "start_time": "2021-03-07T14:05:00.655449Z"
    }
   },
   "outputs": [
    {
     "data": {
      "text/html": [
       "<div>\n",
       "<style scoped>\n",
       "    .dataframe tbody tr th:only-of-type {\n",
       "        vertical-align: middle;\n",
       "    }\n",
       "\n",
       "    .dataframe tbody tr th {\n",
       "        vertical-align: top;\n",
       "    }\n",
       "\n",
       "    .dataframe thead th {\n",
       "        text-align: right;\n",
       "    }\n",
       "</style>\n",
       "<table border=\"1\" class=\"dataframe\">\n",
       "  <thead>\n",
       "    <tr style=\"text-align: right;\">\n",
       "      <th></th>\n",
       "      <th>lat</th>\n",
       "      <th>lon</th>\n",
       "      <th>actual_load</th>\n",
       "      <th>predicted_load</th>\n",
       "      <th>APE</th>\n",
       "    </tr>\n",
       "  </thead>\n",
       "  <tbody>\n",
       "    <tr>\n",
       "      <th>0</th>\n",
       "      <td>-29.875</td>\n",
       "      <td>-63.125</td>\n",
       "      <td>4.211049e+08</td>\n",
       "      <td>2.827371e+08</td>\n",
       "      <td>32.858264</td>\n",
       "    </tr>\n",
       "    <tr>\n",
       "      <th>1</th>\n",
       "      <td>-29.875</td>\n",
       "      <td>-62.625</td>\n",
       "      <td>4.271821e+07</td>\n",
       "      <td>2.718299e+08</td>\n",
       "      <td>536.332655</td>\n",
       "    </tr>\n",
       "    <tr>\n",
       "      <th>2</th>\n",
       "      <td>-29.375</td>\n",
       "      <td>152.625</td>\n",
       "      <td>6.195756e+08</td>\n",
       "      <td>9.301195e+08</td>\n",
       "      <td>50.122035</td>\n",
       "    </tr>\n",
       "    <tr>\n",
       "      <th>3</th>\n",
       "      <td>-29.375</td>\n",
       "      <td>152.875</td>\n",
       "      <td>2.379785e+09</td>\n",
       "      <td>9.367562e+08</td>\n",
       "      <td>60.636946</td>\n",
       "    </tr>\n",
       "    <tr>\n",
       "      <th>4</th>\n",
       "      <td>-29.125</td>\n",
       "      <td>-58.875</td>\n",
       "      <td>4.043890e+07</td>\n",
       "      <td>2.941714e+08</td>\n",
       "      <td>627.446513</td>\n",
       "    </tr>\n",
       "    <tr>\n",
       "      <th>...</th>\n",
       "      <td>...</td>\n",
       "      <td>...</td>\n",
       "      <td>...</td>\n",
       "      <td>...</td>\n",
       "      <td>...</td>\n",
       "    </tr>\n",
       "    <tr>\n",
       "      <th>28493</th>\n",
       "      <td>8.125</td>\n",
       "      <td>81.125</td>\n",
       "      <td>1.046162e+09</td>\n",
       "      <td>7.035975e+08</td>\n",
       "      <td>32.744871</td>\n",
       "    </tr>\n",
       "    <tr>\n",
       "      <th>28494</th>\n",
       "      <td>8.375</td>\n",
       "      <td>81.125</td>\n",
       "      <td>5.792816e+08</td>\n",
       "      <td>6.344445e+08</td>\n",
       "      <td>9.522639</td>\n",
       "    </tr>\n",
       "    <tr>\n",
       "      <th>28495</th>\n",
       "      <td>9.625</td>\n",
       "      <td>77.625</td>\n",
       "      <td>1.002875e+08</td>\n",
       "      <td>8.642418e+08</td>\n",
       "      <td>761.763830</td>\n",
       "    </tr>\n",
       "    <tr>\n",
       "      <th>28496</th>\n",
       "      <td>11.625</td>\n",
       "      <td>20.625</td>\n",
       "      <td>5.361005e+07</td>\n",
       "      <td>1.825967e+08</td>\n",
       "      <td>240.601611</td>\n",
       "    </tr>\n",
       "    <tr>\n",
       "      <th>28497</th>\n",
       "      <td>12.125</td>\n",
       "      <td>19.375</td>\n",
       "      <td>5.657716e+07</td>\n",
       "      <td>1.751957e+08</td>\n",
       "      <td>209.658058</td>\n",
       "    </tr>\n",
       "  </tbody>\n",
       "</table>\n",
       "<p>28498 rows × 5 columns</p>\n",
       "</div>"
      ],
      "text/plain": [
       "          lat      lon   actual_load  predicted_load         APE\n",
       "0     -29.875  -63.125  4.211049e+08    2.827371e+08   32.858264\n",
       "1     -29.875  -62.625  4.271821e+07    2.718299e+08  536.332655\n",
       "2     -29.375  152.625  6.195756e+08    9.301195e+08   50.122035\n",
       "3     -29.375  152.875  2.379785e+09    9.367562e+08   60.636946\n",
       "4     -29.125  -58.875  4.043890e+07    2.941714e+08  627.446513\n",
       "...       ...      ...           ...             ...         ...\n",
       "28493   8.125   81.125  1.046162e+09    7.035975e+08   32.744871\n",
       "28494   8.375   81.125  5.792816e+08    6.344445e+08    9.522639\n",
       "28495   9.625   77.625  1.002875e+08    8.642418e+08  761.763830\n",
       "28496  11.625   20.625  5.361005e+07    1.825967e+08  240.601611\n",
       "28497  12.125   19.375  5.657716e+07    1.751957e+08  209.658058\n",
       "\n",
       "[28498 rows x 5 columns]"
      ]
     },
     "execution_count": 6,
     "metadata": {},
     "output_type": "execute_result"
    }
   ],
   "source": [
    "fli_df"
   ]
  },
  {
   "cell_type": "markdown",
   "metadata": {},
   "source": [
    "### Stats"
   ]
  },
  {
   "cell_type": "code",
   "execution_count": 7,
   "metadata": {
    "ExecuteTime": {
     "end_time": "2021-03-07T14:05:00.676559Z",
     "start_time": "2021-03-07T14:05:00.671239Z"
    }
   },
   "outputs": [
    {
     "name": "stdout",
     "output_type": "stream",
     "text": [
      "Actual Fuel Load mean - 1748941965.6548028 and median - 579015513.7116318\n"
     ]
    }
   ],
   "source": [
    "actual_mean = fli_df['actual_load'].mean()\n",
    "actual_median = fli_df['actual_load'].median()\n",
    "print(\"Actual Fuel Load mean - {actual_mean} and median - {actual_median}\".format(actual_mean = actual_mean, actual_median = actual_median))"
   ]
  },
  {
   "cell_type": "code",
   "execution_count": 8,
   "metadata": {
    "ExecuteTime": {
     "end_time": "2021-03-07T14:05:00.683961Z",
     "start_time": "2021-03-07T14:05:00.679183Z"
    }
   },
   "outputs": [
    {
     "name": "stdout",
     "output_type": "stream",
     "text": [
      "Predicted Fuel Load mean - 1856567857.6248806 and median - 1054399658.3070618\n"
     ]
    }
   ],
   "source": [
    "Predicted_mean = fli_df['predicted_load'].mean()\n",
    "Predicted_median = fli_df['predicted_load'].median()\n",
    "print(\"Predicted Fuel Load mean - {Predicted_mean} and median - {Predicted_median}\".format(Predicted_mean = Predicted_mean, Predicted_median = Predicted_median))"
   ]
  },
  {
   "cell_type": "markdown",
   "metadata": {},
   "source": [
    "### $R^2$ Score \n",
    "More details [here](https://scikit-learn.org/stable/modules/generated/sklearn.metrics.r2_score.html)"
   ]
  },
  {
   "cell_type": "code",
   "execution_count": 9,
   "metadata": {
    "ExecuteTime": {
     "end_time": "2021-03-07T14:05:00.690773Z",
     "start_time": "2021-03-07T14:05:00.686106Z"
    }
   },
   "outputs": [
    {
     "data": {
      "text/plain": [
       "0.4234489237317811"
      ]
     },
     "execution_count": 9,
     "metadata": {},
     "output_type": "execute_result"
    }
   ],
   "source": [
    "r2_score(fli_df['actual_load'], fli_df['predicted_load'])"
   ]
  },
  {
   "cell_type": "markdown",
   "metadata": {},
   "source": [
    "### General Trend of Actual and Predicted Values"
   ]
  },
  {
   "cell_type": "code",
   "execution_count": 10,
   "metadata": {
    "ExecuteTime": {
     "end_time": "2021-03-07T14:05:01.007709Z",
     "start_time": "2021-03-07T14:05:00.692410Z"
    }
   },
   "outputs": [
    {
     "data": {
      "image/png": "[encoded data removed]",
      "text/plain": [
       "<Figure size 864x864 with 2 Axes>"
      ]
     },
     "metadata": {
      "needs_background": "light"
     },
     "output_type": "display_data"
    }
   ],
   "source": [
    "axes = fli_df.drop(columns=drop_columns).plot(subplots = True, figsize=(12, 12))\n",
    "for ax in axes:\n",
    "    ax.set_ylim(0, 1.5e11)"
   ]
  },
  {
   "cell_type": "markdown",
   "metadata": {},
   "source": [
    "### Distribution of high values (> HIGH_THRESHOLD)"
   ]
  },
  {
   "cell_type": "code",
   "execution_count": 11,
   "metadata": {
    "ExecuteTime": {
     "end_time": "2021-03-07T14:05:01.452265Z",
     "start_time": "2021-03-07T14:05:01.009512Z"
    }
   },
   "outputs": [
    {
     "data": {
      "image/png": "[encoded data removed]",
      "text/plain": [
       "<Figure size 864x864 with 2 Axes>"
      ]
     },
     "metadata": {
      "needs_background": "light"
     },
     "output_type": "display_data"
    }
   ],
   "source": [
    "fli_df_high = fli_df[fli_df['actual_load'] >= HIGH_THRESHOLD].reset_index(drop=True)\n",
    "axes = fli_df_high.drop(columns=drop_columns).plot.hist(bins=40, \n",
    "                                                        subplots=True, \n",
    "                                                        figsize=(12, 12),\n",
    "                                                        cumulative=True)"
   ]
  },
  {
   "cell_type": "markdown",
   "metadata": {},
   "source": [
    "### Error Stats"
   ]
  },
  {
   "cell_type": "code",
   "execution_count": 12,
   "metadata": {},
   "outputs": [],
   "source": [
    "fli_err = fli_df.drop(columns=['lat', 'lon', 'predicted_load', 'actual_load'])"
   ]
  },
  {
   "cell_type": "code",
   "execution_count": 13,
   "metadata": {
    "ExecuteTime": {
     "end_time": "2021-03-07T14:05:01.678236Z",
     "start_time": "2021-03-07T14:05:01.672877Z"
    }
   },
   "outputs": [
    {
     "data": {
      "text/plain": [
       "APE    2.240444e+07\n",
       "dtype: float64"
      ]
     },
     "execution_count": 13,
     "metadata": {},
     "output_type": "execute_result"
    }
   ],
   "source": [
    "fli_err.max()"
   ]
  },
  {
   "cell_type": "code",
   "execution_count": 14,
   "metadata": {
    "ExecuteTime": {
     "end_time": "2021-03-07T14:05:01.685188Z",
     "start_time": "2021-03-07T14:05:01.680163Z"
    }
   },
   "outputs": [
    {
     "data": {
      "text/plain": [
       "APE    1206.710232\n",
       "dtype: float64"
      ]
     },
     "execution_count": 14,
     "metadata": {},
     "output_type": "execute_result"
    }
   ],
   "source": [
    "fli_err.mean()"
   ]
  },
  {
   "cell_type": "code",
   "execution_count": 15,
   "metadata": {
    "ExecuteTime": {
     "end_time": "2021-03-07T14:05:01.691756Z",
     "start_time": "2021-03-07T14:05:01.686849Z"
    }
   },
   "outputs": [
    {
     "data": {
      "text/plain": [
       "APE    86.18986\n",
       "dtype: float64"
      ]
     },
     "execution_count": 15,
     "metadata": {},
     "output_type": "execute_result"
    }
   ],
   "source": [
    "fli_err.median()"
   ]
  }
 ],
 "metadata": {
  "kernelspec": {
   "display_name": "Python 3",
   "language": "python",
   "name": "python3"
  },
  "language_info": {
   "codemirror_mode": {
    "name": "ipython",
    "version": 3
   },
   "file_extension": ".py",
   "mimetype": "text/x-python",
   "name": "python",
   "nbconvert_exporter": "python",
   "pygments_lexer": "ipython3",
   "version": "3.8.8"
  },
  "varInspector": {
   "cols": {
    "lenName": 16,
    "lenType": 16,
    "lenVar": 40
   },
   "kernels_config": {
    "python": {
     "delete_cmd_postfix": "",
     "delete_cmd_prefix": "del ",
     "library": "var_list.py",
     "varRefreshCmd": "print(var_dic_list())"
    },
    "r": {
     "delete_cmd_postfix": ") ",
     "delete_cmd_prefix": "rm(",
     "library": "var_list.r",
     "varRefreshCmd": "cat(var_dic_list()) "
    }
   },
   "types_to_exclude": [
    "module",
    "function",
    "builtin_function_or_method",
    "instance",
    "_Feature"
   ],
   "window_display": false
  }
 },
 "nbformat": 4,
 "nbformat_minor": 2
}

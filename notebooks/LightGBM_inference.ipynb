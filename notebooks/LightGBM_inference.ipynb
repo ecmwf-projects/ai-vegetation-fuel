{
 "cells": [
  {
   "cell_type": "markdown",
   "id": "economic-lesbian",
   "metadata": {
    "id": "economic-lesbian"
   },
   "source": [
    "# LightGBM inference\n",
    "This notebooks demonstrates generating inferences from a pretrained LightGBM model. This notebook utilizes the `deepfuel-ML/src/test.py` script for generating inferences. The script does everything from calculating error values to plotting data for visual inference. "
   ]
  },
  {
   "cell_type": "code",
   "execution_count": 1,
   "id": "continent-budget",
   "metadata": {
    "ExecuteTime": {
     "end_time": "2021-03-19T06:23:06.674524Z",
     "start_time": "2021-03-19T06:23:06.408907Z"
    },
    "id": "continent-budget"
   },
   "outputs": [],
   "source": [
    "import os\n",
    "import pandas as pd\n",
    "import numpy as np\n",
    "from joblib import dump, load\n",
    "import sys\n",
    "import os\n",
    "from IPython.display import Image, display"
   ]
  },
  {
   "cell_type": "markdown",
   "id": "peaceful-argument",
   "metadata": {
    "id": "peaceful-argument"
   },
   "source": [
    "### Using `test.py`\n",
    "Below is the description of its arguements:\n",
    " - `--model_name`:  Name of the model to be trained (\"CatBoost\" or \"LightGBM\").\n",
    " - `--model_path`:  Path to the pre-trained model.\n",
    " - `--data_path`:  Valid data directory where all the test .csv files are stored.\n",
    " - `--results_path`:  Directory where the result inference .csv files and .png visualizations are going to be stored."
   ]
  },
  {
   "cell_type": "markdown",
   "id": "fancy-fountain",
   "metadata": {
    "id": "fancy-fountain"
   },
   "source": [
    "### With Ground Truth (`actual_load` is present in the test csv)"
   ]
  },
  {
   "cell_type": "code",
   "execution_count": 2,
   "id": "parental-venue",
   "metadata": {
    "ExecuteTime": {
     "end_time": "2021-03-19T06:23:33.843631Z",
     "start_time": "2021-03-19T06:23:07.666185Z"
    },
    "id": "parental-venue",
    "outputId": "f2f97a6b-7d37-4958-8e37-563d185b1fb1"
   },
   "outputs": [
    {
     "name": "stdout",
     "output_type": "stream",
     "text": [
      "MAPE July : 358.2370533961142\n",
      "MAPE Aug : 4068.041474465497\n",
      "MAPE Sept : 342.60497263841376\n",
      "MAPE Oct : 407.02247341732897\n",
      "MAPE Nov : 553.79772310129\n",
      "MAPE Dec : 433.6634326468742\n",
      "Actual FL plot successfully generated! File saved to  ../data/tropics/results/tropics_Nov_actual.html\n",
      "Predicted FL plot successfully generated! File saved to  ../data/tropics/results/tropics_Nov_predicted.html\n",
      "Actual FL plot successfully generated! File saved to  ../data/tropics/results/tropics_Aug_actual.html\n",
      "Predicted FL plot successfully generated! File saved to  ../data/tropics/results/tropics_Aug_predicted.html\n",
      "Actual FL plot successfully generated! File saved to  ../data/tropics/results/tropics_Dec_actual.html\n",
      "Predicted FL plot successfully generated! File saved to  ../data/tropics/results/tropics_Dec_predicted.html\n",
      "Actual FL plot successfully generated! File saved to  ../data/tropics/results/tropics_Oct_actual.html\n",
      "Predicted FL plot successfully generated! File saved to  ../data/tropics/results/tropics_Oct_predicted.html\n",
      "Actual FL plot successfully generated! File saved to  ../data/tropics/results/tropics_July_actual.html\n",
      "Predicted FL plot successfully generated! File saved to  ../data/tropics/results/tropics_July_predicted.html\n",
      "Actual FL plot successfully generated! File saved to  ../data/tropics/results/tropics_Sept_actual.html\n",
      "Predicted FL plot successfully generated! File saved to  ../data/tropics/results/tropics_Sept_predicted.html\n"
     ]
    }
   ],
   "source": [
    "!python '../src/test.py'  --model_name 'LightGBM' --model_path '../src/pre-trained_models/LightGBM.joblib' --data_path '../data/infer_tropics'  --results_path '../data/tropics/results'"
   ]
  },
  {
   "cell_type": "markdown",
   "id": "whole-feeling",
   "metadata": {
    "id": "whole-feeling"
   },
   "source": [
    "### Inference CSV\n",
    "`test.py` generates `.csv` files for each month with the following columns:\n",
    " - `latitude`\n",
    " - `longitude`\n",
    " - `actual_load` - Actual Fuel Load value\n",
    " - `predicted_load`  - Predicted Fuel Load value\n",
    " - `APE` - Average Percentage Error between actual and predicted fuel load values"
   ]
  },
  {
   "cell_type": "code",
   "execution_count": 3,
   "id": "decent-aerospace",
   "metadata": {
    "ExecuteTime": {
     "end_time": "2021-03-19T06:23:40.036848Z",
     "start_time": "2021-03-19T06:23:40.002472Z"
    },
    "id": "decent-aerospace",
    "outputId": "af5bfcbd-cba8-43d3-d572-1c6cc6df86fe"
   },
   "outputs": [
    {
     "data": {
      "text/html": [
       "<div>\n",
       "<style scoped>\n",
       "    .dataframe tbody tr th:only-of-type {\n",
       "        vertical-align: middle;\n",
       "    }\n",
       "\n",
       "    .dataframe tbody tr th {\n",
       "        vertical-align: top;\n",
       "    }\n",
       "\n",
       "    .dataframe thead th {\n",
       "        text-align: right;\n",
       "    }\n",
       "</style>\n",
       "<table border=\"1\" class=\"dataframe\">\n",
       "  <thead>\n",
       "    <tr style=\"text-align: right;\">\n",
       "      <th></th>\n",
       "      <th>lat</th>\n",
       "      <th>lon</th>\n",
       "      <th>actual_load</th>\n",
       "      <th>predicted_load</th>\n",
       "      <th>APE</th>\n",
       "    </tr>\n",
       "  </thead>\n",
       "  <tbody>\n",
       "    <tr>\n",
       "      <th>0</th>\n",
       "      <td>-29.875</td>\n",
       "      <td>29.125</td>\n",
       "      <td>1.876688e+08</td>\n",
       "      <td>6.441964e+08</td>\n",
       "      <td>243.262403</td>\n",
       "    </tr>\n",
       "    <tr>\n",
       "      <th>1</th>\n",
       "      <td>-29.875</td>\n",
       "      <td>29.375</td>\n",
       "      <td>2.971511e+08</td>\n",
       "      <td>3.617555e+08</td>\n",
       "      <td>21.741276</td>\n",
       "    </tr>\n",
       "    <tr>\n",
       "      <th>2</th>\n",
       "      <td>-29.875</td>\n",
       "      <td>29.625</td>\n",
       "      <td>1.518198e+08</td>\n",
       "      <td>3.590228e+08</td>\n",
       "      <td>136.479556</td>\n",
       "    </tr>\n",
       "    <tr>\n",
       "      <th>3</th>\n",
       "      <td>-29.875</td>\n",
       "      <td>29.875</td>\n",
       "      <td>3.022351e+08</td>\n",
       "      <td>3.368480e+08</td>\n",
       "      <td>11.452295</td>\n",
       "    </tr>\n",
       "    <tr>\n",
       "      <th>4</th>\n",
       "      <td>-29.875</td>\n",
       "      <td>30.125</td>\n",
       "      <td>3.009002e+08</td>\n",
       "      <td>3.559008e+08</td>\n",
       "      <td>18.278682</td>\n",
       "    </tr>\n",
       "  </tbody>\n",
       "</table>\n",
       "</div>"
      ],
      "text/plain": [
       "      lat     lon   actual_load  predicted_load         APE\n",
       "0 -29.875  29.125  1.876688e+08    6.441964e+08  243.262403\n",
       "1 -29.875  29.375  2.971511e+08    3.617555e+08   21.741276\n",
       "2 -29.875  29.625  1.518198e+08    3.590228e+08  136.479556\n",
       "3 -29.875  29.875  3.022351e+08    3.368480e+08   11.452295\n",
       "4 -29.875  30.125  3.009002e+08    3.559008e+08   18.278682"
      ]
     },
     "execution_count": 3,
     "metadata": {},
     "output_type": "execute_result"
    }
   ],
   "source": [
    "df=pd.read_csv('../data/tropics/results/tropics_output_July.csv')\n",
    "df.head()"
   ]
  },
  {
   "cell_type": "markdown",
   "id": "recognized-sessions",
   "metadata": {
    "id": "recognized-sessions"
   },
   "source": [
    "### Without Ground Truth (`actual_load` is not present in the test csv)"
   ]
  },
  {
   "cell_type": "code",
   "execution_count": 4,
   "id": "polar-programming",
   "metadata": {
    "ExecuteTime": {
     "end_time": "2021-03-19T06:27:54.471533Z",
     "start_time": "2021-03-19T06:27:36.297044Z"
    },
    "id": "polar-programming",
    "outputId": "621b4447-d9f7-4788-d4a8-724d37bf8e31"
   },
   "outputs": [
    {
     "name": "stdout",
     "output_type": "stream",
     "text": [
      "MAPE July : 358.2370533961142\n",
      "MAPE Aug : 4068.041474465497\n",
      "MAPE Sept : 342.60497263841376\n",
      "MAPE Oct : 407.02247341732897\n",
      "MAPE Nov : 553.79772310129\n",
      "MAPE Dec : 433.6634326468742\n",
      "Actual FL plot successfully generated! File saved to  ../data/tropics/results/tropics_Nov_actual.html\n",
      "Predicted FL plot successfully generated! File saved to  ../data/tropics/results/tropics_Nov_predicted.html\n",
      "Actual FL plot successfully generated! File saved to  ../data/tropics/results/tropics_Aug_actual.html\n",
      "Predicted FL plot successfully generated! File saved to  ../data/tropics/results/tropics_Aug_predicted.html\n",
      "Actual FL plot successfully generated! File saved to  ../data/tropics/results/tropics_Dec_actual.html\n",
      "Predicted FL plot successfully generated! File saved to  ../data/tropics/results/tropics_Dec_predicted.html\n",
      "Actual FL plot successfully generated! File saved to  ../data/tropics/results/tropics_Oct_actual.html\n",
      "Predicted FL plot successfully generated! File saved to  ../data/tropics/results/tropics_Oct_predicted.html\n",
      "Actual FL plot successfully generated! File saved to  ../data/tropics/results/tropics_July_actual.html\n",
      "Predicted FL plot successfully generated! File saved to  ../data/tropics/results/tropics_July_predicted.html\n",
      "Actual FL plot successfully generated! File saved to  ../data/tropics/results/tropics_Sept_actual.html\n",
      "Predicted FL plot successfully generated! File saved to  ../data/tropics/results/tropics_Sept_predicted.html\n"
     ]
    }
   ],
   "source": [
    "!python '../src/test.py'  --model_name 'LightGBM' --model_path '../src/pre-trained_models/LightGBM.joblib' --data_path '../data/infer_tropics'  --results_path '../data/tropics/results'"
   ]
  },
  {
   "cell_type": "markdown",
   "id": "advised-temple",
   "metadata": {
    "id": "advised-temple"
   },
   "source": [
    "### Inference CSV"
   ]
  },
  {
   "cell_type": "code",
   "execution_count": 5,
   "id": "thirty-program",
   "metadata": {
    "ExecuteTime": {
     "end_time": "2021-03-19T06:28:26.304607Z",
     "start_time": "2021-03-19T06:28:26.287774Z"
    },
    "id": "thirty-program",
    "outputId": "4d1fb64c-80d6-4849-9f72-1dd7a5463ead"
   },
   "outputs": [
    {
     "data": {
      "text/html": [
       "<div>\n",
       "<style scoped>\n",
       "    .dataframe tbody tr th:only-of-type {\n",
       "        vertical-align: middle;\n",
       "    }\n",
       "\n",
       "    .dataframe tbody tr th {\n",
       "        vertical-align: top;\n",
       "    }\n",
       "\n",
       "    .dataframe thead th {\n",
       "        text-align: right;\n",
       "    }\n",
       "</style>\n",
       "<table border=\"1\" class=\"dataframe\">\n",
       "  <thead>\n",
       "    <tr style=\"text-align: right;\">\n",
       "      <th></th>\n",
       "      <th>lat</th>\n",
       "      <th>lon</th>\n",
       "      <th>actual_load</th>\n",
       "      <th>predicted_load</th>\n",
       "      <th>APE</th>\n",
       "    </tr>\n",
       "  </thead>\n",
       "  <tbody>\n",
       "    <tr>\n",
       "      <th>0</th>\n",
       "      <td>-29.875</td>\n",
       "      <td>29.125</td>\n",
       "      <td>1.876688e+08</td>\n",
       "      <td>6.441964e+08</td>\n",
       "      <td>243.262403</td>\n",
       "    </tr>\n",
       "    <tr>\n",
       "      <th>1</th>\n",
       "      <td>-29.875</td>\n",
       "      <td>29.375</td>\n",
       "      <td>2.971511e+08</td>\n",
       "      <td>3.617555e+08</td>\n",
       "      <td>21.741276</td>\n",
       "    </tr>\n",
       "    <tr>\n",
       "      <th>2</th>\n",
       "      <td>-29.875</td>\n",
       "      <td>29.625</td>\n",
       "      <td>1.518198e+08</td>\n",
       "      <td>3.590228e+08</td>\n",
       "      <td>136.479556</td>\n",
       "    </tr>\n",
       "    <tr>\n",
       "      <th>3</th>\n",
       "      <td>-29.875</td>\n",
       "      <td>29.875</td>\n",
       "      <td>3.022351e+08</td>\n",
       "      <td>3.368480e+08</td>\n",
       "      <td>11.452295</td>\n",
       "    </tr>\n",
       "    <tr>\n",
       "      <th>4</th>\n",
       "      <td>-29.875</td>\n",
       "      <td>30.125</td>\n",
       "      <td>3.009002e+08</td>\n",
       "      <td>3.559008e+08</td>\n",
       "      <td>18.278682</td>\n",
       "    </tr>\n",
       "  </tbody>\n",
       "</table>\n",
       "</div>"
      ],
      "text/plain": [
       "      lat     lon   actual_load  predicted_load         APE\n",
       "0 -29.875  29.125  1.876688e+08    6.441964e+08  243.262403\n",
       "1 -29.875  29.375  2.971511e+08    3.617555e+08   21.741276\n",
       "2 -29.875  29.625  1.518198e+08    3.590228e+08  136.479556\n",
       "3 -29.875  29.875  3.022351e+08    3.368480e+08   11.452295\n",
       "4 -29.875  30.125  3.009002e+08    3.559008e+08   18.278682"
      ]
     },
     "execution_count": 5,
     "metadata": {},
     "output_type": "execute_result"
    }
   ],
   "source": [
    "df=pd.read_csv('../data/tropics/results/tropics_output_July.csv')\n",
    "df.head()"
   ]
  },
  {
   "cell_type": "markdown",
   "id": "technical-winter",
   "metadata": {
    "id": "technical-winter"
   },
   "source": [
    "### Visualizing the plots generated\n",
    "The plots are stored as html files that can be zoomed in upto the resolution of the data to view the predicted and actual values."
   ]
  }
 ],
 "metadata": {
  "colab": {
   "name": "LightGBM_inference.ipynb",
   "provenance": []
  },
  "kernelspec": {
   "display_name": "Python 3",
   "language": "python",
   "name": "python3"
  },
  "language_info": {
   "codemirror_mode": {
    "name": "ipython",
    "version": 3
   },
   "file_extension": ".py",
   "mimetype": "text/x-python",
   "name": "python",
   "nbconvert_exporter": "python",
   "pygments_lexer": "ipython3",
   "version": "3.8.8"
  },
  "varInspector": {
   "cols": {
    "lenName": 16,
    "lenType": 16,
    "lenVar": 40
   },
   "kernels_config": {
    "python": {
     "delete_cmd_postfix": "",
     "delete_cmd_prefix": "del ",
     "library": "var_list.py",
     "varRefreshCmd": "print(var_dic_list())"
    },
    "r": {
     "delete_cmd_postfix": ") ",
     "delete_cmd_prefix": "rm(",
     "library": "var_list.r",
     "varRefreshCmd": "cat(var_dic_list()) "
    }
   },
   "types_to_exclude": [
    "module",
    "function",
    "builtin_function_or_method",
    "instance",
    "_Feature"
   ],
   "window_display": false
  }
 },
 "nbformat": 4,
 "nbformat_minor": 5
}

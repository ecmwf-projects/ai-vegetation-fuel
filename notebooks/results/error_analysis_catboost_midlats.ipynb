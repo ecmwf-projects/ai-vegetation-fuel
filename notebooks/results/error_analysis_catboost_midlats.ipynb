{
 "cells": [
  {
   "cell_type": "markdown",
   "metadata": {},
   "source": [
    "## Error Analysis and Visualisation for XGBoost Models"
   ]
  },
  {
   "cell_type": "markdown",
   "metadata": {},
   "source": [
    "### Check running python kernel"
   ]
  },
  {
   "cell_type": "code",
   "execution_count": 1,
   "metadata": {
    "ExecuteTime": {
     "end_time": "2021-03-07T14:19:54.837392Z",
     "start_time": "2021-03-07T14:19:54.723801Z"
    }
   },
   "outputs": [
    {
     "name": "stdout",
     "output_type": "stream",
     "text": [
      "/home/smose_roshni/miniconda3/envs/ml-fuel-test/bin/python\r\n"
     ]
    }
   ],
   "source": [
    "!which python"
   ]
  },
  {
   "cell_type": "markdown",
   "metadata": {},
   "source": [
    "### Imports"
   ]
  },
  {
   "cell_type": "code",
   "execution_count": 2,
   "metadata": {
    "ExecuteTime": {
     "end_time": "2021-03-07T14:19:55.734910Z",
     "start_time": "2021-03-07T14:19:54.839519Z"
    }
   },
   "outputs": [],
   "source": [
    "import matplotlib.pyplot as plt\n",
    "import pandas as pd \n",
    "import glob\n",
    "import os\n",
    "from sklearn.metrics import r2_score"
   ]
  },
  {
   "cell_type": "markdown",
   "metadata": {},
   "source": [
    "### Top Level Constants"
   ]
  },
  {
   "cell_type": "code",
   "execution_count": 3,
   "metadata": {
    "ExecuteTime": {
     "end_time": "2021-03-07T14:19:55.739785Z",
     "start_time": "2021-03-07T14:19:55.737094Z"
    }
   },
   "outputs": [],
   "source": [
    "drop_columns = ['lon', 'lat', 'APE']\n",
    "HIGH_THRESHOLD = 1e10\n",
    "result_dir = '../../data/midlats/results'\n",
    "model_type = 'midlats'"
   ]
  },
  {
   "cell_type": "markdown",
   "metadata": {},
   "source": [
    "### Inference Files"
   ]
  },
  {
   "cell_type": "code",
   "execution_count": 4,
   "metadata": {
    "ExecuteTime": {
     "end_time": "2021-03-07T14:19:55.747058Z",
     "start_time": "2021-03-07T14:19:55.742135Z"
    }
   },
   "outputs": [
    {
     "name": "stdout",
     "output_type": "stream",
     "text": [
      "['../../data/midlats/results/midlats_output_Aug.csv', '../../data/midlats/results/midlats_output_Sept.csv', '../../data/midlats/results/midlats_output_July.csv', '../../data/midlats/results/midlats_output_Dec.csv', '../../data/midlats/results/midlats_output_Nov.csv', '../../data/midlats/results/midlats_output_Oct.csv']\n"
     ]
    }
   ],
   "source": [
    "FILE_PATHS = os.path.join(result_dir, '*'+model_type+'*.csv')\n",
    "FILE_NAMES = glob.glob(FILE_PATHS)\n",
    "print(FILE_NAMES)"
   ]
  },
  {
   "cell_type": "markdown",
   "metadata": {},
   "source": [
    "### Make Dataframe"
   ]
  },
  {
   "cell_type": "code",
   "execution_count": 5,
   "metadata": {
    "ExecuteTime": {
     "end_time": "2021-03-07T14:19:55.766968Z",
     "start_time": "2021-03-07T14:19:55.748853Z"
    }
   },
   "outputs": [],
   "source": [
    "fli_df = pd.concat((pd.read_csv(f, index_col=False).reset_index(drop=True) for f in FILE_NAMES), ignore_index=True)"
   ]
  },
  {
   "cell_type": "code",
   "execution_count": 6,
   "metadata": {
    "ExecuteTime": {
     "end_time": "2021-03-07T14:19:55.783232Z",
     "start_time": "2021-03-07T14:19:55.768631Z"
    }
   },
   "outputs": [
    {
     "data": {
      "text/html": [
       "<div>\n",
       "<style scoped>\n",
       "    .dataframe tbody tr th:only-of-type {\n",
       "        vertical-align: middle;\n",
       "    }\n",
       "\n",
       "    .dataframe tbody tr th {\n",
       "        vertical-align: top;\n",
       "    }\n",
       "\n",
       "    .dataframe thead th {\n",
       "        text-align: right;\n",
       "    }\n",
       "</style>\n",
       "<table border=\"1\" class=\"dataframe\">\n",
       "  <thead>\n",
       "    <tr style=\"text-align: right;\">\n",
       "      <th></th>\n",
       "      <th>lat</th>\n",
       "      <th>lon</th>\n",
       "      <th>actual_load</th>\n",
       "      <th>predicted_load</th>\n",
       "      <th>APE</th>\n",
       "    </tr>\n",
       "  </thead>\n",
       "  <tbody>\n",
       "    <tr>\n",
       "      <th>0</th>\n",
       "      <td>-39.625</td>\n",
       "      <td>-63.625</td>\n",
       "      <td>5.652058e+07</td>\n",
       "      <td>3.786772e+07</td>\n",
       "      <td>33.001888</td>\n",
       "    </tr>\n",
       "    <tr>\n",
       "      <th>1</th>\n",
       "      <td>-39.375</td>\n",
       "      <td>-63.625</td>\n",
       "      <td>4.336088e+07</td>\n",
       "      <td>5.408561e+07</td>\n",
       "      <td>24.733638</td>\n",
       "    </tr>\n",
       "    <tr>\n",
       "      <th>2</th>\n",
       "      <td>-36.375</td>\n",
       "      <td>-66.625</td>\n",
       "      <td>1.465659e+08</td>\n",
       "      <td>2.457857e+07</td>\n",
       "      <td>83.230368</td>\n",
       "    </tr>\n",
       "    <tr>\n",
       "      <th>3</th>\n",
       "      <td>-36.375</td>\n",
       "      <td>-66.375</td>\n",
       "      <td>1.959883e+08</td>\n",
       "      <td>3.106803e+07</td>\n",
       "      <td>84.148017</td>\n",
       "    </tr>\n",
       "    <tr>\n",
       "      <th>4</th>\n",
       "      <td>-36.125</td>\n",
       "      <td>-66.625</td>\n",
       "      <td>1.827170e+08</td>\n",
       "      <td>2.640114e+07</td>\n",
       "      <td>85.550806</td>\n",
       "    </tr>\n",
       "    <tr>\n",
       "      <th>...</th>\n",
       "      <td>...</td>\n",
       "      <td>...</td>\n",
       "      <td>...</td>\n",
       "      <td>...</td>\n",
       "      <td>...</td>\n",
       "    </tr>\n",
       "    <tr>\n",
       "      <th>3190</th>\n",
       "      <td>55.875</td>\n",
       "      <td>71.125</td>\n",
       "      <td>8.630253e+07</td>\n",
       "      <td>1.342783e+08</td>\n",
       "      <td>55.590261</td>\n",
       "    </tr>\n",
       "    <tr>\n",
       "      <th>3191</th>\n",
       "      <td>55.875</td>\n",
       "      <td>89.625</td>\n",
       "      <td>2.828085e+08</td>\n",
       "      <td>2.306699e+08</td>\n",
       "      <td>18.435997</td>\n",
       "    </tr>\n",
       "    <tr>\n",
       "      <th>3192</th>\n",
       "      <td>55.875</td>\n",
       "      <td>89.875</td>\n",
       "      <td>1.255755e+08</td>\n",
       "      <td>2.278652e+08</td>\n",
       "      <td>81.456684</td>\n",
       "    </tr>\n",
       "    <tr>\n",
       "      <th>3193</th>\n",
       "      <td>55.875</td>\n",
       "      <td>90.875</td>\n",
       "      <td>1.813989e+08</td>\n",
       "      <td>2.613539e+08</td>\n",
       "      <td>44.076881</td>\n",
       "    </tr>\n",
       "    <tr>\n",
       "      <th>3194</th>\n",
       "      <td>61.125</td>\n",
       "      <td>170.375</td>\n",
       "      <td>5.640270e+08</td>\n",
       "      <td>4.546643e+08</td>\n",
       "      <td>19.389615</td>\n",
       "    </tr>\n",
       "  </tbody>\n",
       "</table>\n",
       "<p>3195 rows × 5 columns</p>\n",
       "</div>"
      ],
      "text/plain": [
       "         lat      lon   actual_load  predicted_load        APE\n",
       "0    -39.625  -63.625  5.652058e+07    3.786772e+07  33.001888\n",
       "1    -39.375  -63.625  4.336088e+07    5.408561e+07  24.733638\n",
       "2    -36.375  -66.625  1.465659e+08    2.457857e+07  83.230368\n",
       "3    -36.375  -66.375  1.959883e+08    3.106803e+07  84.148017\n",
       "4    -36.125  -66.625  1.827170e+08    2.640114e+07  85.550806\n",
       "...      ...      ...           ...             ...        ...\n",
       "3190  55.875   71.125  8.630253e+07    1.342783e+08  55.590261\n",
       "3191  55.875   89.625  2.828085e+08    2.306699e+08  18.435997\n",
       "3192  55.875   89.875  1.255755e+08    2.278652e+08  81.456684\n",
       "3193  55.875   90.875  1.813989e+08    2.613539e+08  44.076881\n",
       "3194  61.125  170.375  5.640270e+08    4.546643e+08  19.389615\n",
       "\n",
       "[3195 rows x 5 columns]"
      ]
     },
     "execution_count": 6,
     "metadata": {},
     "output_type": "execute_result"
    }
   ],
   "source": [
    "fli_df"
   ]
  },
  {
   "cell_type": "markdown",
   "metadata": {},
   "source": [
    "### Stats"
   ]
  },
  {
   "cell_type": "code",
   "execution_count": 7,
   "metadata": {
    "ExecuteTime": {
     "end_time": "2021-03-07T14:19:55.789833Z",
     "start_time": "2021-03-07T14:19:55.785039Z"
    }
   },
   "outputs": [
    {
     "name": "stdout",
     "output_type": "stream",
     "text": [
      "Actual Fuel Load mean - 1305540849.2961788 and median - 281319932.2625427\n"
     ]
    }
   ],
   "source": [
    "actual_mean = fli_df['actual_load'].mean()\n",
    "actual_median = fli_df['actual_load'].median()\n",
    "print(\"Actual Fuel Load mean - {actual_mean} and median - {actual_median}\".format(actual_mean = actual_mean, actual_median = actual_median))"
   ]
  },
  {
   "cell_type": "code",
   "execution_count": 8,
   "metadata": {
    "ExecuteTime": {
     "end_time": "2021-03-07T14:19:55.797118Z",
     "start_time": "2021-03-07T14:19:55.792754Z"
    }
   },
   "outputs": [
    {
     "name": "stdout",
     "output_type": "stream",
     "text": [
      "Predicted Fuel Load mean - 1249399749.4219403 and median - 237309817.19714203\n"
     ]
    }
   ],
   "source": [
    "Predicted_mean = fli_df['predicted_load'].mean()\n",
    "Predicted_median = fli_df['predicted_load'].median()\n",
    "print(\"Predicted Fuel Load mean - {Predicted_mean} and median - {Predicted_median}\".format(Predicted_mean = Predicted_mean, Predicted_median = Predicted_median))"
   ]
  },
  {
   "cell_type": "markdown",
   "metadata": {},
   "source": [
    "### $R^2$ Score \n",
    "More details [here](https://scikit-learn.org/stable/modules/generated/sklearn.metrics.r2_score.html)"
   ]
  },
  {
   "cell_type": "code",
   "execution_count": 9,
   "metadata": {
    "ExecuteTime": {
     "end_time": "2021-03-07T14:19:55.804032Z",
     "start_time": "2021-03-07T14:19:55.799538Z"
    }
   },
   "outputs": [
    {
     "data": {
      "text/plain": [
       "0.3605898121651582"
      ]
     },
     "execution_count": 9,
     "metadata": {},
     "output_type": "execute_result"
    }
   ],
   "source": [
    "r2_score(fli_df['actual_load'], fli_df['predicted_load'])"
   ]
  },
  {
   "cell_type": "markdown",
   "metadata": {},
   "source": [
    "### General Trend of Actual and Predicted Values"
   ]
  },
  {
   "cell_type": "code",
   "execution_count": 10,
   "metadata": {
    "ExecuteTime": {
     "end_time": "2021-03-07T14:19:56.134512Z",
     "start_time": "2021-03-07T14:19:55.805803Z"
    }
   },
   "outputs": [
    {
     "data": {
      "image/png": "[encoded data removed]",
      "text/plain": [
       "<Figure size 864x864 with 2 Axes>"
      ]
     },
     "metadata": {
      "needs_background": "light"
     },
     "output_type": "display_data"
    }
   ],
   "source": [
    "axes = fli_df.drop(columns=drop_columns).plot(subplots = True, figsize=(12, 12))\n",
    "for ax in axes:\n",
    "    ax.set_ylim(0, 1e11)"
   ]
  },
  {
   "cell_type": "markdown",
   "metadata": {},
   "source": [
    "### Distribution of high values (> HIGH_THRESHOLD)"
   ]
  },
  {
   "cell_type": "code",
   "execution_count": 11,
   "metadata": {
    "ExecuteTime": {
     "end_time": "2021-03-07T14:19:56.621911Z",
     "start_time": "2021-03-07T14:19:56.138073Z"
    }
   },
   "outputs": [
    {
     "data": {
      "image/png": "[encoded data removed]",
      "text/plain": [
       "<Figure size 864x864 with 2 Axes>"
      ]
     },
     "metadata": {
      "needs_background": "light"
     },
     "output_type": "display_data"
    }
   ],
   "source": [
    "fli_df_high = fli_df[fli_df['actual_load'] >= HIGH_THRESHOLD].reset_index(drop=True)\n",
    "axes = fli_df_high.drop(columns=drop_columns).plot.hist(bins=40, subplots=True, figsize=(12, 12))\n",
    "for ax in axes:\n",
    "    ax.set_ylim(0, 200)\n",
    "    ax.set_xlim(0, 1.5e11)"
   ]
  },
  {
   "cell_type": "markdown",
   "metadata": {},
   "source": [
    "### Distribution of Errors"
   ]
  },
  {
   "cell_type": "code",
   "execution_count": 12,
   "metadata": {
    "ExecuteTime": {
     "end_time": "2021-03-07T14:19:56.849310Z",
     "start_time": "2021-03-07T14:19:56.623448Z"
    }
   },
   "outputs": [
    {
     "data": {
      "text/plain": [
       "array([<AxesSubplot:ylabel='Frequency'>], dtype=object)"
      ]
     },
     "execution_count": 12,
     "metadata": {},
     "output_type": "execute_result"
    },
    {
     "data": {
      "image/png": "[encoded data removed]",
      "text/plain": [
       "<Figure size 864x864 with 1 Axes>"
      ]
     },
     "metadata": {
      "needs_background": "light"
     },
     "output_type": "display_data"
    }
   ],
   "source": [
    "fli_err = fli_df.drop(columns=['lat', 'lon', 'predicted_load', 'actual_load'])\n",
    "fli_err.plot.hist(bins=40, subplots=True, figsize=(12, 12))"
   ]
  },
  {
   "cell_type": "markdown",
   "metadata": {},
   "source": [
    "### Error Stats"
   ]
  },
  {
   "cell_type": "code",
   "execution_count": 13,
   "metadata": {
    "ExecuteTime": {
     "end_time": "2021-03-07T14:19:56.856410Z",
     "start_time": "2021-03-07T14:19:56.851206Z"
    }
   },
   "outputs": [
    {
     "data": {
      "text/plain": [
       "APE    73297.536275\n",
       "dtype: float64"
      ]
     },
     "execution_count": 13,
     "metadata": {},
     "output_type": "execute_result"
    }
   ],
   "source": [
    "fli_err.max()"
   ]
  },
  {
   "cell_type": "code",
   "execution_count": 14,
   "metadata": {
    "ExecuteTime": {
     "end_time": "2021-03-07T14:19:56.863525Z",
     "start_time": "2021-03-07T14:19:56.858414Z"
    }
   },
   "outputs": [
    {
     "data": {
      "text/plain": [
       "APE    243.472886\n",
       "dtype: float64"
      ]
     },
     "execution_count": 14,
     "metadata": {},
     "output_type": "execute_result"
    }
   ],
   "source": [
    "fli_err.mean()"
   ]
  },
  {
   "cell_type": "code",
   "execution_count": 15,
   "metadata": {
    "ExecuteTime": {
     "end_time": "2021-03-07T14:19:56.870076Z",
     "start_time": "2021-03-07T14:19:56.865079Z"
    }
   },
   "outputs": [
    {
     "data": {
      "text/plain": [
       "APE    67.257892\n",
       "dtype: float64"
      ]
     },
     "execution_count": 15,
     "metadata": {},
     "output_type": "execute_result"
    }
   ],
   "source": [
    "fli_err.median()"
   ]
  }
 ],
 "metadata": {
  "kernelspec": {
   "display_name": "Python 3",
   "language": "python",
   "name": "python3"
  },
  "language_info": {
   "codemirror_mode": {
    "name": "ipython",
    "version": 3
   },
   "file_extension": ".py",
   "mimetype": "text/x-python",
   "name": "python",
   "nbconvert_exporter": "python",
   "pygments_lexer": "ipython3",
   "version": "3.8.8"
  },
  "varInspector": {
   "cols": {
    "lenName": 16,
    "lenType": 16,
    "lenVar": 40
   },
   "kernels_config": {
    "python": {
     "delete_cmd_postfix": "",
     "delete_cmd_prefix": "del ",
     "library": "var_list.py",
     "varRefreshCmd": "print(var_dic_list())"
    },
    "r": {
     "delete_cmd_postfix": ") ",
     "delete_cmd_prefix": "rm(",
     "library": "var_list.r",
     "varRefreshCmd": "cat(var_dic_list()) "
    }
   },
   "types_to_exclude": [
    "module",
    "function",
    "builtin_function_or_method",
    "instance",
    "_Feature"
   ],
   "window_display": false
  }
 },
 "nbformat": 4,
 "nbformat_minor": 2
}

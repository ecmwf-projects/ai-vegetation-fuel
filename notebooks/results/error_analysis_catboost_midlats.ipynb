{
 "cells": [
  {
   "cell_type": "markdown",
   "metadata": {},
   "source": [
    "## Error Analysis and Visualisation for XGBoost Models"
   ]
  },
  {
   "cell_type": "markdown",
   "metadata": {},
   "source": [
    "### Check running python kernel"
   ]
  },
  {
   "cell_type": "code",
   "execution_count": 1,
   "metadata": {
    "ExecuteTime": {
     "end_time": "2021-03-07T14:19:54.837392Z",
     "start_time": "2021-03-07T14:19:54.723801Z"
    }
   },
   "outputs": [
    {
     "name": "stdout",
     "output_type": "stream",
     "text": [
      "/home/wikilimo/miniconda3/envs/smos-agb/bin/python\r\n"
     ]
    }
   ],
   "source": [
    "!which python"
   ]
  },
  {
   "cell_type": "markdown",
   "metadata": {},
   "source": [
    "### Imports"
   ]
  },
  {
   "cell_type": "code",
   "execution_count": 2,
   "metadata": {
    "ExecuteTime": {
     "end_time": "2021-03-07T14:19:55.734910Z",
     "start_time": "2021-03-07T14:19:54.839519Z"
    }
   },
   "outputs": [],
   "source": [
    "import matplotlib.pyplot as plt\n",
    "import pandas as pd \n",
    "import glob\n",
    "import os\n",
    "from sklearn.metrics import r2_score"
   ]
  },
  {
   "cell_type": "markdown",
   "metadata": {},
   "source": [
    "### Top Level Constants"
   ]
  },
  {
   "cell_type": "code",
   "execution_count": 3,
   "metadata": {
    "ExecuteTime": {
     "end_time": "2021-03-07T14:19:55.739785Z",
     "start_time": "2021-03-07T14:19:55.737094Z"
    }
   },
   "outputs": [],
   "source": [
    "drop_columns = ['lon', 'lat', 'APE']\n",
    "HIGH_THRESHOLD = 1e10\n",
    "model = 'catboost/5_3_wBoxCox'\n",
    "model_type = 'midlats'"
   ]
  },
  {
   "cell_type": "markdown",
   "metadata": {},
   "source": [
    "### Inference Files"
   ]
  },
  {
   "cell_type": "code",
   "execution_count": 4,
   "metadata": {
    "ExecuteTime": {
     "end_time": "2021-03-07T14:19:55.747058Z",
     "start_time": "2021-03-07T14:19:55.742135Z"
    }
   },
   "outputs": [
    {
     "name": "stdout",
     "output_type": "stream",
     "text": [
      "['/home/wikilimo/inference_analysis_ml/catboost/5_3_wBoxCox/midlats_output_Aug.csv', '/home/wikilimo/inference_analysis_ml/catboost/5_3_wBoxCox/midlats_output_Nov.csv', '/home/wikilimo/inference_analysis_ml/catboost/5_3_wBoxCox/midlats_output_July.csv', '/home/wikilimo/inference_analysis_ml/catboost/5_3_wBoxCox/midlats_output_Oct.csv', '/home/wikilimo/inference_analysis_ml/catboost/5_3_wBoxCox/midlats_output_Dec.csv', '/home/wikilimo/inference_analysis_ml/catboost/5_3_wBoxCox/midlats_output_Sept.csv']\n"
     ]
    }
   ],
   "source": [
    "FILE_PATHS = os.path.join(model, '*'+model_type+'*.csv')\n",
    "FILE_NAMES = glob.glob(FILE_PATHS)\n",
    "print(FILE_NAMES)"
   ]
  },
  {
   "cell_type": "markdown",
   "metadata": {},
   "source": [
    "### Make Dataframe"
   ]
  },
  {
   "cell_type": "code",
   "execution_count": 5,
   "metadata": {
    "ExecuteTime": {
     "end_time": "2021-03-07T14:19:55.766968Z",
     "start_time": "2021-03-07T14:19:55.748853Z"
    }
   },
   "outputs": [],
   "source": [
    "fli_df = pd.concat((pd.read_csv(f, index_col=False).reset_index(drop=True) for f in FILE_NAMES), ignore_index=True)"
   ]
  },
  {
   "cell_type": "code",
   "execution_count": 6,
   "metadata": {
    "ExecuteTime": {
     "end_time": "2021-03-07T14:19:55.783232Z",
     "start_time": "2021-03-07T14:19:55.768631Z"
    }
   },
   "outputs": [
    {
     "data": {
      "text/html": [
       "<div>\n",
       "<style scoped>\n",
       "    .dataframe tbody tr th:only-of-type {\n",
       "        vertical-align: middle;\n",
       "    }\n",
       "\n",
       "    .dataframe tbody tr th {\n",
       "        vertical-align: top;\n",
       "    }\n",
       "\n",
       "    .dataframe thead th {\n",
       "        text-align: right;\n",
       "    }\n",
       "</style>\n",
       "<table border=\"1\" class=\"dataframe\">\n",
       "  <thead>\n",
       "    <tr style=\"text-align: right;\">\n",
       "      <th></th>\n",
       "      <th>lon</th>\n",
       "      <th>lat</th>\n",
       "      <th>predicted_load</th>\n",
       "      <th>actual_load</th>\n",
       "      <th>APE</th>\n",
       "    </tr>\n",
       "  </thead>\n",
       "  <tbody>\n",
       "    <tr>\n",
       "      <th>0</th>\n",
       "      <td>-65.125</td>\n",
       "      <td>-42.125</td>\n",
       "      <td>8.897045e+08</td>\n",
       "      <td>3.144944e+08</td>\n",
       "      <td>182.899935</td>\n",
       "    </tr>\n",
       "    <tr>\n",
       "      <th>1</th>\n",
       "      <td>-63.875</td>\n",
       "      <td>-40.375</td>\n",
       "      <td>1.043178e+09</td>\n",
       "      <td>1.134987e+08</td>\n",
       "      <td>819.110541</td>\n",
       "    </tr>\n",
       "    <tr>\n",
       "      <th>2</th>\n",
       "      <td>-63.625</td>\n",
       "      <td>-40.375</td>\n",
       "      <td>3.648960e+08</td>\n",
       "      <td>1.428522e+07</td>\n",
       "      <td>2454.361539</td>\n",
       "    </tr>\n",
       "    <tr>\n",
       "      <th>3</th>\n",
       "      <td>-63.375</td>\n",
       "      <td>-40.375</td>\n",
       "      <td>3.440121e+07</td>\n",
       "      <td>1.091883e+07</td>\n",
       "      <td>215.063074</td>\n",
       "    </tr>\n",
       "    <tr>\n",
       "      <th>4</th>\n",
       "      <td>-64.125</td>\n",
       "      <td>-40.125</td>\n",
       "      <td>2.148641e+09</td>\n",
       "      <td>8.606542e+08</td>\n",
       "      <td>149.652022</td>\n",
       "    </tr>\n",
       "    <tr>\n",
       "      <th>...</th>\n",
       "      <td>...</td>\n",
       "      <td>...</td>\n",
       "      <td>...</td>\n",
       "      <td>...</td>\n",
       "      <td>...</td>\n",
       "    </tr>\n",
       "    <tr>\n",
       "      <th>3199</th>\n",
       "      <td>75.625</td>\n",
       "      <td>66.625</td>\n",
       "      <td>3.959808e+08</td>\n",
       "      <td>3.478482e+08</td>\n",
       "      <td>13.837242</td>\n",
       "    </tr>\n",
       "    <tr>\n",
       "      <th>3200</th>\n",
       "      <td>75.875</td>\n",
       "      <td>66.625</td>\n",
       "      <td>1.360365e+08</td>\n",
       "      <td>1.281838e+08</td>\n",
       "      <td>6.126124</td>\n",
       "    </tr>\n",
       "    <tr>\n",
       "      <th>3201</th>\n",
       "      <td>76.875</td>\n",
       "      <td>66.875</td>\n",
       "      <td>2.355508e+08</td>\n",
       "      <td>1.696970e+08</td>\n",
       "      <td>38.806757</td>\n",
       "    </tr>\n",
       "    <tr>\n",
       "      <th>3202</th>\n",
       "      <td>77.125</td>\n",
       "      <td>66.875</td>\n",
       "      <td>2.005780e+08</td>\n",
       "      <td>1.226333e+08</td>\n",
       "      <td>63.559151</td>\n",
       "    </tr>\n",
       "    <tr>\n",
       "      <th>3203</th>\n",
       "      <td>76.875</td>\n",
       "      <td>67.125</td>\n",
       "      <td>3.581656e+08</td>\n",
       "      <td>3.412765e+08</td>\n",
       "      <td>4.948781</td>\n",
       "    </tr>\n",
       "  </tbody>\n",
       "</table>\n",
       "<p>3204 rows × 5 columns</p>\n",
       "</div>"
      ],
      "text/plain": [
       "         lon     lat  predicted_load   actual_load          APE\n",
       "0    -65.125 -42.125    8.897045e+08  3.144944e+08   182.899935\n",
       "1    -63.875 -40.375    1.043178e+09  1.134987e+08   819.110541\n",
       "2    -63.625 -40.375    3.648960e+08  1.428522e+07  2454.361539\n",
       "3    -63.375 -40.375    3.440121e+07  1.091883e+07   215.063074\n",
       "4    -64.125 -40.125    2.148641e+09  8.606542e+08   149.652022\n",
       "...      ...     ...             ...           ...          ...\n",
       "3199  75.625  66.625    3.959808e+08  3.478482e+08    13.837242\n",
       "3200  75.875  66.625    1.360365e+08  1.281838e+08     6.126124\n",
       "3201  76.875  66.875    2.355508e+08  1.696970e+08    38.806757\n",
       "3202  77.125  66.875    2.005780e+08  1.226333e+08    63.559151\n",
       "3203  76.875  67.125    3.581656e+08  3.412765e+08     4.948781\n",
       "\n",
       "[3204 rows x 5 columns]"
      ]
     },
     "execution_count": 6,
     "metadata": {},
     "output_type": "execute_result"
    }
   ],
   "source": [
    "fli_df"
   ]
  },
  {
   "cell_type": "markdown",
   "metadata": {},
   "source": [
    "### Stats"
   ]
  },
  {
   "cell_type": "code",
   "execution_count": 7,
   "metadata": {
    "ExecuteTime": {
     "end_time": "2021-03-07T14:19:55.789833Z",
     "start_time": "2021-03-07T14:19:55.785039Z"
    }
   },
   "outputs": [
    {
     "name": "stdout",
     "output_type": "stream",
     "text": [
      "Actual Fuel Load mean - 1304713639.637123 and median - 285220578.0800991\n"
     ]
    }
   ],
   "source": [
    "actual_mean = fli_df['actual_load'].mean()\n",
    "actual_median = fli_df['actual_load'].median()\n",
    "print(\"Actual Fuel Load mean - {actual_mean} and median - {actual_median}\".format(actual_mean = actual_mean, actual_median = actual_median))"
   ]
  },
  {
   "cell_type": "code",
   "execution_count": 8,
   "metadata": {
    "ExecuteTime": {
     "end_time": "2021-03-07T14:19:55.797118Z",
     "start_time": "2021-03-07T14:19:55.792754Z"
    }
   },
   "outputs": [
    {
     "name": "stdout",
     "output_type": "stream",
     "text": [
      "Predicted Fuel Load mean - 1681199266.6992755 and median - 388343687.50070643\n"
     ]
    }
   ],
   "source": [
    "Predicted_mean = fli_df['predicted_load'].mean()\n",
    "Predicted_median = fli_df['predicted_load'].median()\n",
    "print(\"Predicted Fuel Load mean - {Predicted_mean} and median - {Predicted_median}\".format(Predicted_mean = Predicted_mean, Predicted_median = Predicted_median))"
   ]
  },
  {
   "cell_type": "markdown",
   "metadata": {},
   "source": [
    "### $R^2$ Score \n",
    "More details [here](https://scikit-learn.org/stable/modules/generated/sklearn.metrics.r2_score.html)"
   ]
  },
  {
   "cell_type": "code",
   "execution_count": 9,
   "metadata": {
    "ExecuteTime": {
     "end_time": "2021-03-07T14:19:55.804032Z",
     "start_time": "2021-03-07T14:19:55.799538Z"
    }
   },
   "outputs": [
    {
     "data": {
      "text/plain": [
       "0.7091235371201627"
      ]
     },
     "execution_count": 9,
     "metadata": {},
     "output_type": "execute_result"
    }
   ],
   "source": [
    "r2_score(fli_df['actual_load'], fli_df['predicted_load'])"
   ]
  },
  {
   "cell_type": "markdown",
   "metadata": {},
   "source": [
    "### General Trend of Actual and Predicted Values"
   ]
  },
  {
   "cell_type": "code",
   "execution_count": 10,
   "metadata": {
    "ExecuteTime": {
     "end_time": "2021-03-07T14:19:56.134512Z",
     "start_time": "2021-03-07T14:19:55.805803Z"
    }
   },
   "outputs": [
    {
     "data": {
      "image/png": "[encoded data removed]",
      "text/plain": [
       "<Figure size 864x864 with 2 Axes>"
      ]
     },
     "metadata": {
      "needs_background": "light"
     },
     "output_type": "display_data"
    }
   ],
   "source": [
    "axes = fli_df.drop(columns=drop_columns).plot(subplots = True, figsize=(12, 12))\n",
    "for ax in axes:\n",
    "    ax.set_ylim(0, 1e11)"
   ]
  },
  {
   "cell_type": "markdown",
   "metadata": {},
   "source": [
    "### Distribution of high values (> HIGH_THRESHOLD)"
   ]
  },
  {
   "cell_type": "code",
   "execution_count": 11,
   "metadata": {
    "ExecuteTime": {
     "end_time": "2021-03-07T14:19:56.621911Z",
     "start_time": "2021-03-07T14:19:56.138073Z"
    }
   },
   "outputs": [
    {
     "data": {
      "image/png": "[encoded data removed]",
      "text/plain": [
       "<Figure size 864x864 with 2 Axes>"
      ]
     },
     "metadata": {
      "needs_background": "light"
     },
     "output_type": "display_data"
    }
   ],
   "source": [
    "fli_df_high = fli_df[fli_df['actual_load'] >= HIGH_THRESHOLD].reset_index(drop=True)\n",
    "axes = fli_df_high.drop(columns=drop_columns).plot.hist(bins=40, subplots=True, figsize=(12, 12))\n",
    "for ax in axes:\n",
    "    ax.set_ylim(0, 200)\n",
    "    ax.set_xlim(0, 1.5e11)"
   ]
  },
  {
   "cell_type": "markdown",
   "metadata": {},
   "source": [
    "### Distribution of Errors"
   ]
  },
  {
   "cell_type": "code",
   "execution_count": 12,
   "metadata": {
    "ExecuteTime": {
     "end_time": "2021-03-07T14:19:56.849310Z",
     "start_time": "2021-03-07T14:19:56.623448Z"
    }
   },
   "outputs": [
    {
     "data": {
      "text/plain": [
       "array([<AxesSubplot:ylabel='Frequency'>], dtype=object)"
      ]
     },
     "execution_count": 12,
     "metadata": {},
     "output_type": "execute_result"
    },
    {
     "data": {
      "image/png": "[encoded data removed]",
      "text/plain": [
       "<Figure size 864x864 with 1 Axes>"
      ]
     },
     "metadata": {
      "needs_background": "light"
     },
     "output_type": "display_data"
    }
   ],
   "source": [
    "fli_err = fli_df.drop(columns=['lat', 'lon', 'predicted_load', 'actual_load'])\n",
    "fli_err.plot.hist(bins=40, subplots=True, figsize=(12, 12))"
   ]
  },
  {
   "cell_type": "markdown",
   "metadata": {},
   "source": [
    "### Error Stats"
   ]
  },
  {
   "cell_type": "code",
   "execution_count": 13,
   "metadata": {
    "ExecuteTime": {
     "end_time": "2021-03-07T14:19:56.856410Z",
     "start_time": "2021-03-07T14:19:56.851206Z"
    }
   },
   "outputs": [
    {
     "data": {
      "text/plain": [
       "APE    58006.752431\n",
       "dtype: float64"
      ]
     },
     "execution_count": 13,
     "metadata": {},
     "output_type": "execute_result"
    }
   ],
   "source": [
    "fli_err.max()"
   ]
  },
  {
   "cell_type": "code",
   "execution_count": 14,
   "metadata": {
    "ExecuteTime": {
     "end_time": "2021-03-07T14:19:56.863525Z",
     "start_time": "2021-03-07T14:19:56.858414Z"
    }
   },
   "outputs": [
    {
     "data": {
      "text/plain": [
       "APE    210.722742\n",
       "dtype: float64"
      ]
     },
     "execution_count": 14,
     "metadata": {},
     "output_type": "execute_result"
    }
   ],
   "source": [
    "fli_err.mean()"
   ]
  },
  {
   "cell_type": "code",
   "execution_count": 15,
   "metadata": {
    "ExecuteTime": {
     "end_time": "2021-03-07T14:19:56.870076Z",
     "start_time": "2021-03-07T14:19:56.865079Z"
    }
   },
   "outputs": [
    {
     "data": {
      "text/plain": [
       "APE    51.264764\n",
       "dtype: float64"
      ]
     },
     "execution_count": 15,
     "metadata": {},
     "output_type": "execute_result"
    }
   ],
   "source": [
    "fli_err.median()"
   ]
  }
 ],
 "metadata": {
  "kernelspec": {
   "display_name": "Python 3",
   "language": "python",
   "name": "python3"
  },
  "language_info": {
   "codemirror_mode": {
    "name": "ipython",
    "version": 3
   },
   "file_extension": ".py",
   "mimetype": "text/x-python",
   "name": "python",
   "nbconvert_exporter": "python",
   "pygments_lexer": "ipython3",
   "version": "3.8.5"
  },
  "varInspector": {
   "cols": {
    "lenName": 16,
    "lenType": 16,
    "lenVar": 40
   },
   "kernels_config": {
    "python": {
     "delete_cmd_postfix": "",
     "delete_cmd_prefix": "del ",
     "library": "var_list.py",
     "varRefreshCmd": "print(var_dic_list())"
    },
    "r": {
     "delete_cmd_postfix": ") ",
     "delete_cmd_prefix": "rm(",
     "library": "var_list.r",
     "varRefreshCmd": "cat(var_dic_list()) "
    }
   },
   "types_to_exclude": [
    "module",
    "function",
    "builtin_function_or_method",
    "instance",
    "_Feature"
   ],
   "window_display": false
  }
 },
 "nbformat": 4,
 "nbformat_minor": 2
}
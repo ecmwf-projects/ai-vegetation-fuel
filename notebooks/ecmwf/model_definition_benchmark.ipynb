{
 "cells": [
  {
   "cell_type": "code",
   "execution_count": 1,
   "id": "41633f71",
   "metadata": {},
   "outputs": [
    {
     "name": "stderr",
     "output_type": "stream",
     "text": [
      "\n",
      "Bad key \"text.kerning_factor\" on line 4 in\n",
      "/home/moc0/miniconda3/envs/ml-fuel/lib/python3.8/site-packages/matplotlib/mpl-data/stylelib/_classic_test_patch.mplstyle.\n",
      "You probably need to get an updated matplotlibrc file from\n",
      "https://github.com/matplotlib/matplotlib/blob/v3.1.3/matplotlibrc.template\n",
      "or from the matplotlib source distribution\n"
     ]
    }
   ],
   "source": [
    "import os\n",
    "import pandas as pd\n",
    "import numpy as np\n",
    "import matplotlib.pyplot as plt\n",
    "import seaborn as sb\n",
    "from sklearn.metrics import mean_absolute_error\n",
    "\n",
    "from sklearn.preprocessing import MinMaxScaler\n",
    "from sklearn.preprocessing import StandardScaler\n",
    "from sklearn.preprocessing import PowerTransformer"
   ]
  },
  {
   "cell_type": "code",
   "execution_count": 2,
   "id": "529a5310",
   "metadata": {},
   "outputs": [
    {
     "name": "stdout",
     "output_type": "stream",
     "text": [
      "Checking whether there is an H2O instance running at http://localhost:54321 . connected.\n"
     ]
    },
    {
     "data": {
      "text/html": [
       "<div style=\"overflow:auto\"><table style=\"width:50%\"><tr><td>H2O_cluster_uptime:</td>\n",
       "<td>2 days 19 hours 29 mins</td></tr>\n",
       "<tr><td>H2O_cluster_timezone:</td>\n",
       "<td>UTC</td></tr>\n",
       "<tr><td>H2O_data_parsing_timezone:</td>\n",
       "<td>UTC</td></tr>\n",
       "<tr><td>H2O_cluster_version:</td>\n",
       "<td>3.32.1.1</td></tr>\n",
       "<tr><td>H2O_cluster_version_age:</td>\n",
       "<td>2 months and 12 days </td></tr>\n",
       "<tr><td>H2O_cluster_name:</td>\n",
       "<td>H2O_from_python_moc0_j96c9b</td></tr>\n",
       "<tr><td>H2O_cluster_total_nodes:</td>\n",
       "<td>1</td></tr>\n",
       "<tr><td>H2O_cluster_free_memory:</td>\n",
       "<td>23.28 Gb</td></tr>\n",
       "<tr><td>H2O_cluster_total_cores:</td>\n",
       "<td>16</td></tr>\n",
       "<tr><td>H2O_cluster_allowed_cores:</td>\n",
       "<td>16</td></tr>\n",
       "<tr><td>H2O_cluster_status:</td>\n",
       "<td>locked, healthy</td></tr>\n",
       "<tr><td>H2O_connection_url:</td>\n",
       "<td>http://localhost:54321</td></tr>\n",
       "<tr><td>H2O_connection_proxy:</td>\n",
       "<td>{\"http\": null, \"https\": null}</td></tr>\n",
       "<tr><td>H2O_internal_security:</td>\n",
       "<td>False</td></tr>\n",
       "<tr><td>H2O_API_Extensions:</td>\n",
       "<td>Amazon S3, XGBoost, Algos, AutoML, Core V3, TargetEncoder, Core V4</td></tr>\n",
       "<tr><td>Python_version:</td>\n",
       "<td>3.8.8 final</td></tr></table></div>"
      ],
      "text/plain": [
       "--------------------------  ------------------------------------------------------------------\n",
       "H2O_cluster_uptime:         2 days 19 hours 29 mins\n",
       "H2O_cluster_timezone:       UTC\n",
       "H2O_data_parsing_timezone:  UTC\n",
       "H2O_cluster_version:        3.32.1.1\n",
       "H2O_cluster_version_age:    2 months and 12 days\n",
       "H2O_cluster_name:           H2O_from_python_moc0_j96c9b\n",
       "H2O_cluster_total_nodes:    1\n",
       "H2O_cluster_free_memory:    23.28 Gb\n",
       "H2O_cluster_total_cores:    16\n",
       "H2O_cluster_allowed_cores:  16\n",
       "H2O_cluster_status:         locked, healthy\n",
       "H2O_connection_url:         http://localhost:54321\n",
       "H2O_connection_proxy:       {\"http\": null, \"https\": null}\n",
       "H2O_internal_security:      False\n",
       "H2O_API_Extensions:         Amazon S3, XGBoost, Algos, AutoML, Core V3, TargetEncoder, Core V4\n",
       "Python_version:             3.8.8 final\n",
       "--------------------------  ------------------------------------------------------------------"
      ]
     },
     "metadata": {},
     "output_type": "display_data"
    }
   ],
   "source": [
    "# H2O AutoML framework for benchmarking\n",
    "import h2o\n",
    "from h2o.automl import H2OAutoML\n",
    "h2o.init(max_mem_size = 32)"
   ]
  },
  {
   "cell_type": "markdown",
   "id": "559e96dc",
   "metadata": {},
   "source": [
    "## Load data"
   ]
  },
  {
   "cell_type": "code",
   "execution_count": 3,
   "id": "4c6f7279",
   "metadata": {},
   "outputs": [],
   "source": [
    "# Define working directory\n",
    "os.chdir('/home/moc0/ai-vegetation-fuel')"
   ]
  },
  {
   "cell_type": "code",
   "execution_count": 4,
   "id": "5668f503",
   "metadata": {},
   "outputs": [],
   "source": [
    "# Load raw train data\n",
    "train = pd.read_csv(os.getcwd() + \"/data/inputs/train_interpTrue_raw.csv\",\n",
    "                    dtype={'climatic_region':'category',\n",
    "                           'biome':'category',\n",
    "                           'GFEDregions':'category'})\n",
    "train = train.drop('Unnamed: 0', axis = 1)\n",
    "\n",
    "# Load raw test data\n",
    "test = pd.read_csv(os.getcwd() + \"/data/inputs/test_interpTrue_raw.csv\",\n",
    "                    dtype={'climatic_region':'category',\n",
    "                           'biome':'category',\n",
    "                           'GFEDregions':'category'})\n",
    "test = test.drop('Unnamed: 0', axis = 1)"
   ]
  },
  {
   "cell_type": "code",
   "execution_count": 5,
   "id": "49224ef5",
   "metadata": {},
   "outputs": [],
   "source": [
    "# Define outcome variable\n",
    "y = 'dry_matter'"
   ]
  },
  {
   "cell_type": "markdown",
   "id": "8d730612",
   "metadata": {},
   "source": [
    "Define possible transformations."
   ]
  },
  {
   "cell_type": "code",
   "execution_count": 6,
   "id": "94d62af0",
   "metadata": {},
   "outputs": [],
   "source": [
    "def transform(train, test, features, transformation, output_transformer = False):\n",
    "    # copy of datasets\n",
    "    train_transformed = train.copy()\n",
    "    test_transformed = test.copy()\n",
    "    if transformation == \"log\":\n",
    "        for i in features:\n",
    "            # transform the training data column\n",
    "            train_transformed[i] = np.log(train_transformed[[i]])\n",
    "            # transform the testing data column\n",
    "            test_transformed[i] = np.log(test_transformed[[i]])\n",
    "            return train_transformed, test_transformed\n",
    "    else:\n",
    "        if transformation == \"normalization\":\n",
    "            # data normalization with sklearn\n",
    "            for i in features:\n",
    "                # fit on training data column\n",
    "                transformer = MinMaxScaler()\n",
    "                norm = transformer.fit(train_transformed[[i]])\n",
    "                # transform the training data column\n",
    "                train_transformed[i] = norm.transform(train_transformed[[i]])\n",
    "                # transform the testing data column\n",
    "                test_transformed[i] = norm.transform(test_transformed[[i]])\n",
    "        if transformation == \"standardization\":\n",
    "            # data standardization with sklearn\n",
    "            for i in features:   \n",
    "                # fit on training data column\n",
    "                transformer = StandardScaler()\n",
    "                scale = transformer.fit(train_transformed[[i]])\n",
    "                # transform the training data column\n",
    "                train_transformed[i] = scale.transform(train_transformed[[i]])\n",
    "                # transform the testing data column\n",
    "                test_transformed[i] = scale.transform(test_transformed[[i]])\n",
    "        if transformation == \"power\":\n",
    "            # PowerTransform with sklearn\n",
    "            for i in features:\n",
    "                # fit on training data column\n",
    "                transformer = PowerTransformer()\n",
    "                yj = transformer.fit(train_transformed[[i]])\n",
    "                # transform the training data column\n",
    "                train_transformed[i] = yj.transform(train_transformed[[i]])\n",
    "                # transform the testing data column\n",
    "                test_transformed[i] = yj.transform(test_transformed[[i]])\n",
    "        if output_transformer == False:\n",
    "            return train_transformed, test_transformed\n",
    "        else:\n",
    "            return train_transformed, test_transformed, transformer"
   ]
  },
  {
   "cell_type": "markdown",
   "id": "79c5be97",
   "metadata": {},
   "source": [
    "# Run benchmark tests"
   ]
  },
  {
   "cell_type": "markdown",
   "id": "5ce98537",
   "metadata": {},
   "source": [
    "## STAGE A"
   ]
  },
  {
   "cell_type": "markdown",
   "id": "852172f0",
   "metadata": {},
   "source": [
    "### 0. The basic benchmark model\n",
    "\n",
    "This is given by the regressor model fitted on raw outcome (no target transformation), raw features (no features transformation)."
   ]
  },
  {
   "cell_type": "code",
   "execution_count": 7,
   "id": "5891d3ca",
   "metadata": {},
   "outputs": [
    {
     "name": "stdout",
     "output_type": "stream",
     "text": [
      "Parse progress: |█████████████████████████████████████████████████████████| 100%\n",
      "AutoML progress: |████████████████████████████████████████████████████████| 100%\n"
     ]
    }
   ],
   "source": [
    "# Define Regressor model\n",
    "aml = H2OAutoML(max_runtime_secs = 10*60, seed = 1, stopping_metric = \"mae\",\n",
    "                preprocessing = [\"target_encoding\"])\n",
    "# Fit\n",
    "aml.train(y = y, training_frame = h2o.H2OFrame(train))"
   ]
  },
  {
   "cell_type": "code",
   "execution_count": 8,
   "id": "c8dc59b2",
   "metadata": {},
   "outputs": [
    {
     "name": "stdout",
     "output_type": "stream",
     "text": [
      "Parse progress: |█████████████████████████████████████████████████████████| 100%\n",
      "stackedensemble prediction progress: |████████████████████████████████████| 100%\n"
     ]
    },
    {
     "data": {
      "text/plain": [
       "54.08793142495884"
      ]
     },
     "execution_count": 8,
     "metadata": {},
     "output_type": "execute_result"
    }
   ],
   "source": [
    "# MAE\n",
    "obs = test[y]\n",
    "pre = aml.predict(h2o.H2OFrame(test))\n",
    "mean_absolute_error(obs, pre.as_data_frame())"
   ]
  },
  {
   "cell_type": "markdown",
   "id": "c3c7e304",
   "metadata": {},
   "source": [
    "### 1. Log-transform target variable\n",
    "\n",
    "Assess whether there is an improvement by transforming the target variable. This means comparing the results of a basic model using raw outcome/features versus transformed outcome and raw features."
   ]
  },
  {
   "cell_type": "code",
   "execution_count": 9,
   "id": "f3714c13",
   "metadata": {},
   "outputs": [],
   "source": [
    "train_log_target, test_log_target = transform(train = train, test = test,\n",
    "                                              features = [y], transformation = \"log\")"
   ]
  },
  {
   "cell_type": "code",
   "execution_count": 10,
   "id": "c15561c8",
   "metadata": {},
   "outputs": [
    {
     "name": "stdout",
     "output_type": "stream",
     "text": [
      "Parse progress: |█████████████████████████████████████████████████████████| 100%\n",
      "AutoML progress: |████████████████████████████████████████████████████████| 100%\n"
     ]
    }
   ],
   "source": [
    "# Define Regressor model\n",
    "aml = H2OAutoML(max_runtime_secs = 10*60, seed = 1, stopping_metric = \"mae\",\n",
    "                preprocessing = [\"target_encoding\"])\n",
    "# Fit\n",
    "aml.train(y = y, training_frame = h2o.H2OFrame(train_log_target))"
   ]
  },
  {
   "cell_type": "code",
   "execution_count": 11,
   "id": "ae29ce85",
   "metadata": {},
   "outputs": [
    {
     "name": "stdout",
     "output_type": "stream",
     "text": [
      "Parse progress: |█████████████████████████████████████████████████████████| 100%\n",
      "stackedensemble prediction progress: |████████████████████████████████████| 100%\n"
     ]
    },
    {
     "data": {
      "text/plain": [
       "47.763069430447985"
      ]
     },
     "execution_count": 11,
     "metadata": {},
     "output_type": "execute_result"
    }
   ],
   "source": [
    "# MAE\n",
    "pre = aml.predict(h2o.H2OFrame(test_log_target))\n",
    "pre_inverse_transformed = np.exp(pre.as_data_frame())\n",
    "mean_absolute_error(obs, pre_inverse_transformed)"
   ]
  },
  {
   "cell_type": "markdown",
   "id": "0c705395",
   "metadata": {},
   "source": [
    "### 2. Power-transform target variable\n",
    "\n",
    "Assess whether there is an improvement by transforming the target variable. This means comparing the results of a basic model using raw outcome/features versus transformed outcome and raw features."
   ]
  },
  {
   "cell_type": "code",
   "execution_count": 12,
   "id": "13d76a79",
   "metadata": {},
   "outputs": [],
   "source": [
    "train_power_target, test_power_target, transformer = transform(train = train, test = test,\n",
    "                                                               features = [y], transformation = \"power\",\n",
    "                                                               output_transformer = True)"
   ]
  },
  {
   "cell_type": "code",
   "execution_count": 13,
   "id": "a38f2a91",
   "metadata": {},
   "outputs": [
    {
     "name": "stdout",
     "output_type": "stream",
     "text": [
      "Parse progress: |█████████████████████████████████████████████████████████| 100%\n",
      "AutoML progress: |████████████████████████████████████████████████████████| 100%\n"
     ]
    }
   ],
   "source": [
    "# Define Regressor model\n",
    "aml = H2OAutoML(max_runtime_secs = 10*60, seed = 1, stopping_metric = \"mae\",\n",
    "                preprocessing = [\"target_encoding\"])\n",
    "# Fit\n",
    "aml.train(y = y, training_frame = h2o.H2OFrame(train_power_target))"
   ]
  },
  {
   "cell_type": "code",
   "execution_count": 14,
   "id": "e6715cd9",
   "metadata": {},
   "outputs": [
    {
     "name": "stdout",
     "output_type": "stream",
     "text": [
      "Parse progress: |█████████████████████████████████████████████████████████| 100%\n",
      "stackedensemble prediction progress: |████████████████████████████████████| 100%\n"
     ]
    },
    {
     "data": {
      "text/plain": [
       "48.40078069096282"
      ]
     },
     "execution_count": 14,
     "metadata": {},
     "output_type": "execute_result"
    }
   ],
   "source": [
    "# MAE\n",
    "pre = aml.predict(h2o.H2OFrame(test_power_target))\n",
    "pre_inverse_transformed = transformer.inverse_transform(pre.as_data_frame())\n",
    "mean_absolute_error(obs, pre_inverse_transformed)"
   ]
  },
  {
   "cell_type": "markdown",
   "id": "81269baf",
   "metadata": {},
   "source": [
    "From the 3 experiments above it seems the best way to transform the target variable is to use the logarithmic function. For this reason, we add to the train and test sets an additional column with the lo-transformed target variable."
   ]
  },
  {
   "cell_type": "code",
   "execution_count": 15,
   "id": "60136d56",
   "metadata": {},
   "outputs": [],
   "source": [
    "train['log_dry_matter'] = np.log(train[y])\n",
    "test['log_dry_matter'] = np.log(test[y])"
   ]
  },
  {
   "cell_type": "code",
   "execution_count": 16,
   "id": "e7822e5e",
   "metadata": {},
   "outputs": [
    {
     "data": {
      "text/html": [
       "<div>\n",
       "<style scoped>\n",
       "    .dataframe tbody tr th:only-of-type {\n",
       "        vertical-align: middle;\n",
       "    }\n",
       "\n",
       "    .dataframe tbody tr th {\n",
       "        vertical-align: top;\n",
       "    }\n",
       "\n",
       "    .dataframe thead th {\n",
       "        text-align: right;\n",
       "    }\n",
       "</style>\n",
       "<table border=\"1\" class=\"dataframe\">\n",
       "  <thead>\n",
       "    <tr style=\"text-align: right;\">\n",
       "      <th></th>\n",
       "      <th>latitude</th>\n",
       "      <th>longitude</th>\n",
       "      <th>dry_matter</th>\n",
       "      <th>climatic_region</th>\n",
       "      <th>biome</th>\n",
       "      <th>GFEDregions</th>\n",
       "      <th>slope</th>\n",
       "      <th>vod</th>\n",
       "      <th>lai</th>\n",
       "      <th>spi03</th>\n",
       "      <th>...</th>\n",
       "      <th>dufmcode</th>\n",
       "      <th>drtcode</th>\n",
       "      <th>infsinx</th>\n",
       "      <th>fbupinx</th>\n",
       "      <th>fdsrte</th>\n",
       "      <th>frp</th>\n",
       "      <th>daysElapsed</th>\n",
       "      <th>timeYear</th>\n",
       "      <th>timeMonth</th>\n",
       "      <th>log_dry_matter</th>\n",
       "    </tr>\n",
       "  </thead>\n",
       "  <tbody>\n",
       "    <tr>\n",
       "      <th>0</th>\n",
       "      <td>-32.375</td>\n",
       "      <td>28.125</td>\n",
       "      <td>1.001038</td>\n",
       "      <td>3.0</td>\n",
       "      <td>1.0</td>\n",
       "      <td>9.0</td>\n",
       "      <td>0.014507</td>\n",
       "      <td>0.228241</td>\n",
       "      <td>0.222220</td>\n",
       "      <td>-0.398828</td>\n",
       "      <td>...</td>\n",
       "      <td>13.643188</td>\n",
       "      <td>109.829220</td>\n",
       "      <td>1.191657</td>\n",
       "      <td>22.684143</td>\n",
       "      <td>2.530905</td>\n",
       "      <td>0.000000</td>\n",
       "      <td>212</td>\n",
       "      <td>2010</td>\n",
       "      <td>8</td>\n",
       "      <td>0.001037</td>\n",
       "    </tr>\n",
       "    <tr>\n",
       "      <th>1</th>\n",
       "      <td>17.875</td>\n",
       "      <td>82.375</td>\n",
       "      <td>27.360060</td>\n",
       "      <td>4.0</td>\n",
       "      <td>5.0</td>\n",
       "      <td>12.0</td>\n",
       "      <td>0.024084</td>\n",
       "      <td>0.385490</td>\n",
       "      <td>0.555550</td>\n",
       "      <td>-0.349998</td>\n",
       "      <td>...</td>\n",
       "      <td>-43.599540</td>\n",
       "      <td>-57.730576</td>\n",
       "      <td>-3.418025</td>\n",
       "      <td>-41.623190</td>\n",
       "      <td>-7.454767</td>\n",
       "      <td>0.000000</td>\n",
       "      <td>1520</td>\n",
       "      <td>2014</td>\n",
       "      <td>3</td>\n",
       "      <td>3.309084</td>\n",
       "    </tr>\n",
       "    <tr>\n",
       "      <th>2</th>\n",
       "      <td>-31.625</td>\n",
       "      <td>28.375</td>\n",
       "      <td>3.641749</td>\n",
       "      <td>3.0</td>\n",
       "      <td>1.0</td>\n",
       "      <td>9.0</td>\n",
       "      <td>0.020789</td>\n",
       "      <td>0.275492</td>\n",
       "      <td>0.288886</td>\n",
       "      <td>-0.404686</td>\n",
       "      <td>...</td>\n",
       "      <td>-13.695341</td>\n",
       "      <td>-106.551190</td>\n",
       "      <td>-0.762760</td>\n",
       "      <td>-19.835646</td>\n",
       "      <td>-1.497616</td>\n",
       "      <td>0.000000</td>\n",
       "      <td>1277</td>\n",
       "      <td>2013</td>\n",
       "      <td>7</td>\n",
       "      <td>1.292464</td>\n",
       "    </tr>\n",
       "    <tr>\n",
       "      <th>3</th>\n",
       "      <td>13.375</td>\n",
       "      <td>37.125</td>\n",
       "      <td>17.883150</td>\n",
       "      <td>4.0</td>\n",
       "      <td>1.0</td>\n",
       "      <td>8.0</td>\n",
       "      <td>0.042149</td>\n",
       "      <td>0.256732</td>\n",
       "      <td>0.433329</td>\n",
       "      <td>-0.295313</td>\n",
       "      <td>...</td>\n",
       "      <td>-88.729330</td>\n",
       "      <td>26.709599</td>\n",
       "      <td>1.302401</td>\n",
       "      <td>-74.875960</td>\n",
       "      <td>3.221945</td>\n",
       "      <td>0.000000</td>\n",
       "      <td>455</td>\n",
       "      <td>2011</td>\n",
       "      <td>4</td>\n",
       "      <td>2.883859</td>\n",
       "    </tr>\n",
       "    <tr>\n",
       "      <th>4</th>\n",
       "      <td>8.125</td>\n",
       "      <td>-1.625</td>\n",
       "      <td>1.747495</td>\n",
       "      <td>4.0</td>\n",
       "      <td>1.0</td>\n",
       "      <td>8.0</td>\n",
       "      <td>0.006682</td>\n",
       "      <td>0.199548</td>\n",
       "      <td>0.722215</td>\n",
       "      <td>1.403907</td>\n",
       "      <td>...</td>\n",
       "      <td>-128.986300</td>\n",
       "      <td>-210.755860</td>\n",
       "      <td>-1.751252</td>\n",
       "      <td>-125.311600</td>\n",
       "      <td>-7.706358</td>\n",
       "      <td>0.007889</td>\n",
       "      <td>1492</td>\n",
       "      <td>2014</td>\n",
       "      <td>2</td>\n",
       "      <td>0.558184</td>\n",
       "    </tr>\n",
       "    <tr>\n",
       "      <th>...</th>\n",
       "      <td>...</td>\n",
       "      <td>...</td>\n",
       "      <td>...</td>\n",
       "      <td>...</td>\n",
       "      <td>...</td>\n",
       "      <td>...</td>\n",
       "      <td>...</td>\n",
       "      <td>...</td>\n",
       "      <td>...</td>\n",
       "      <td>...</td>\n",
       "      <td>...</td>\n",
       "      <td>...</td>\n",
       "      <td>...</td>\n",
       "      <td>...</td>\n",
       "      <td>...</td>\n",
       "      <td>...</td>\n",
       "      <td>...</td>\n",
       "      <td>...</td>\n",
       "      <td>...</td>\n",
       "      <td>...</td>\n",
       "      <td>...</td>\n",
       "    </tr>\n",
       "    <tr>\n",
       "      <th>530027</th>\n",
       "      <td>10.625</td>\n",
       "      <td>-13.875</td>\n",
       "      <td>36.482942</td>\n",
       "      <td>4.0</td>\n",
       "      <td>1.0</td>\n",
       "      <td>8.0</td>\n",
       "      <td>0.008239</td>\n",
       "      <td>0.415102</td>\n",
       "      <td>1.566651</td>\n",
       "      <td>0.874609</td>\n",
       "      <td>...</td>\n",
       "      <td>126.336510</td>\n",
       "      <td>63.899292</td>\n",
       "      <td>1.229383</td>\n",
       "      <td>116.538080</td>\n",
       "      <td>3.192863</td>\n",
       "      <td>0.015762</td>\n",
       "      <td>1216</td>\n",
       "      <td>2013</td>\n",
       "      <td>5</td>\n",
       "      <td>3.596845</td>\n",
       "    </tr>\n",
       "    <tr>\n",
       "      <th>530028</th>\n",
       "      <td>-15.375</td>\n",
       "      <td>34.625</td>\n",
       "      <td>1.640657</td>\n",
       "      <td>3.0</td>\n",
       "      <td>1.0</td>\n",
       "      <td>9.0</td>\n",
       "      <td>0.016233</td>\n",
       "      <td>0.205404</td>\n",
       "      <td>1.022212</td>\n",
       "      <td>0.112892</td>\n",
       "      <td>...</td>\n",
       "      <td>-13.123533</td>\n",
       "      <td>22.029633</td>\n",
       "      <td>-1.279937</td>\n",
       "      <td>-11.235716</td>\n",
       "      <td>-2.089784</td>\n",
       "      <td>0.000000</td>\n",
       "      <td>577</td>\n",
       "      <td>2011</td>\n",
       "      <td>8</td>\n",
       "      <td>0.495097</td>\n",
       "    </tr>\n",
       "    <tr>\n",
       "      <th>530029</th>\n",
       "      <td>11.875</td>\n",
       "      <td>36.625</td>\n",
       "      <td>13.193764</td>\n",
       "      <td>4.0</td>\n",
       "      <td>1.0</td>\n",
       "      <td>8.0</td>\n",
       "      <td>0.022857</td>\n",
       "      <td>0.218347</td>\n",
       "      <td>0.377774</td>\n",
       "      <td>1.757421</td>\n",
       "      <td>...</td>\n",
       "      <td>6.771729</td>\n",
       "      <td>19.831726</td>\n",
       "      <td>0.491823</td>\n",
       "      <td>4.540405</td>\n",
       "      <td>1.184292</td>\n",
       "      <td>0.000000</td>\n",
       "      <td>1096</td>\n",
       "      <td>2013</td>\n",
       "      <td>1</td>\n",
       "      <td>2.579744</td>\n",
       "    </tr>\n",
       "    <tr>\n",
       "      <th>530030</th>\n",
       "      <td>2.875</td>\n",
       "      <td>19.375</td>\n",
       "      <td>850.061983</td>\n",
       "      <td>4.0</td>\n",
       "      <td>5.0</td>\n",
       "      <td>8.0</td>\n",
       "      <td>0.002305</td>\n",
       "      <td>0.789469</td>\n",
       "      <td>1.566651</td>\n",
       "      <td>-0.131250</td>\n",
       "      <td>...</td>\n",
       "      <td>62.941635</td>\n",
       "      <td>53.213240</td>\n",
       "      <td>3.535935</td>\n",
       "      <td>56.135567</td>\n",
       "      <td>7.314124</td>\n",
       "      <td>0.003937</td>\n",
       "      <td>2191</td>\n",
       "      <td>2016</td>\n",
       "      <td>1</td>\n",
       "      <td>6.745309</td>\n",
       "    </tr>\n",
       "    <tr>\n",
       "      <th>530031</th>\n",
       "      <td>57.125</td>\n",
       "      <td>66.375</td>\n",
       "      <td>39.315957</td>\n",
       "      <td>2.0</td>\n",
       "      <td>1.0</td>\n",
       "      <td>10.0</td>\n",
       "      <td>0.000804</td>\n",
       "      <td>0.350035</td>\n",
       "      <td>0.166665</td>\n",
       "      <td>2.015236</td>\n",
       "      <td>...</td>\n",
       "      <td>-2.222433</td>\n",
       "      <td>46.653778</td>\n",
       "      <td>-0.674004</td>\n",
       "      <td>-3.326023</td>\n",
       "      <td>-0.165738</td>\n",
       "      <td>0.003937</td>\n",
       "      <td>1551</td>\n",
       "      <td>2014</td>\n",
       "      <td>4</td>\n",
       "      <td>3.671630</td>\n",
       "    </tr>\n",
       "  </tbody>\n",
       "</table>\n",
       "<p>530032 rows × 32 columns</p>\n",
       "</div>"
      ],
      "text/plain": [
       "        latitude  longitude  dry_matter climatic_region biome GFEDregions  \\\n",
       "0        -32.375     28.125    1.001038             3.0   1.0         9.0   \n",
       "1         17.875     82.375   27.360060             4.0   5.0        12.0   \n",
       "2        -31.625     28.375    3.641749             3.0   1.0         9.0   \n",
       "3         13.375     37.125   17.883150             4.0   1.0         8.0   \n",
       "4          8.125     -1.625    1.747495             4.0   1.0         8.0   \n",
       "...          ...        ...         ...             ...   ...         ...   \n",
       "530027    10.625    -13.875   36.482942             4.0   1.0         8.0   \n",
       "530028   -15.375     34.625    1.640657             3.0   1.0         9.0   \n",
       "530029    11.875     36.625   13.193764             4.0   1.0         8.0   \n",
       "530030     2.875     19.375  850.061983             4.0   5.0         8.0   \n",
       "530031    57.125     66.375   39.315957             2.0   1.0        10.0   \n",
       "\n",
       "           slope       vod       lai     spi03  ...    dufmcode     drtcode  \\\n",
       "0       0.014507  0.228241  0.222220 -0.398828  ...   13.643188  109.829220   \n",
       "1       0.024084  0.385490  0.555550 -0.349998  ...  -43.599540  -57.730576   \n",
       "2       0.020789  0.275492  0.288886 -0.404686  ...  -13.695341 -106.551190   \n",
       "3       0.042149  0.256732  0.433329 -0.295313  ...  -88.729330   26.709599   \n",
       "4       0.006682  0.199548  0.722215  1.403907  ... -128.986300 -210.755860   \n",
       "...          ...       ...       ...       ...  ...         ...         ...   \n",
       "530027  0.008239  0.415102  1.566651  0.874609  ...  126.336510   63.899292   \n",
       "530028  0.016233  0.205404  1.022212  0.112892  ...  -13.123533   22.029633   \n",
       "530029  0.022857  0.218347  0.377774  1.757421  ...    6.771729   19.831726   \n",
       "530030  0.002305  0.789469  1.566651 -0.131250  ...   62.941635   53.213240   \n",
       "530031  0.000804  0.350035  0.166665  2.015236  ...   -2.222433   46.653778   \n",
       "\n",
       "         infsinx     fbupinx    fdsrte       frp  daysElapsed  timeYear  \\\n",
       "0       1.191657   22.684143  2.530905  0.000000          212      2010   \n",
       "1      -3.418025  -41.623190 -7.454767  0.000000         1520      2014   \n",
       "2      -0.762760  -19.835646 -1.497616  0.000000         1277      2013   \n",
       "3       1.302401  -74.875960  3.221945  0.000000          455      2011   \n",
       "4      -1.751252 -125.311600 -7.706358  0.007889         1492      2014   \n",
       "...          ...         ...       ...       ...          ...       ...   \n",
       "530027  1.229383  116.538080  3.192863  0.015762         1216      2013   \n",
       "530028 -1.279937  -11.235716 -2.089784  0.000000          577      2011   \n",
       "530029  0.491823    4.540405  1.184292  0.000000         1096      2013   \n",
       "530030  3.535935   56.135567  7.314124  0.003937         2191      2016   \n",
       "530031 -0.674004   -3.326023 -0.165738  0.003937         1551      2014   \n",
       "\n",
       "        timeMonth  log_dry_matter  \n",
       "0               8        0.001037  \n",
       "1               3        3.309084  \n",
       "2               7        1.292464  \n",
       "3               4        2.883859  \n",
       "4               2        0.558184  \n",
       "...           ...             ...  \n",
       "530027          5        3.596845  \n",
       "530028          8        0.495097  \n",
       "530029          1        2.579744  \n",
       "530030          1        6.745309  \n",
       "530031          4        3.671630  \n",
       "\n",
       "[530032 rows x 32 columns]"
      ]
     },
     "execution_count": 16,
     "metadata": {},
     "output_type": "execute_result"
    }
   ],
   "source": [
    "train"
   ]
  },
  {
   "cell_type": "markdown",
   "id": "10e1a26d",
   "metadata": {},
   "source": [
    "## STAGE B"
   ]
  },
  {
   "cell_type": "markdown",
   "id": "ea86f0f8",
   "metadata": {},
   "source": [
    "Assuming we will always log-transform the target variable (now `log_dry_matter`), in this stage we assess which features should be transformed and how to transform them."
   ]
  },
  {
   "cell_type": "code",
   "execution_count": 17,
   "id": "43a9545c",
   "metadata": {},
   "outputs": [],
   "source": [
    "# Re-define outcome variable\n",
    "y = 'log_dry_matter'\n",
    "\n",
    "# Skewed features\n",
    "skewed_features = ['slope', 'vod', 'lai', 'frp']\n",
    "all_features = ['latitude', 'longitude', 'climatic_region', 'biome', 'GFEDregions', 'slope', 'vod', 'lai',\n",
    "                'spi03', 'spi06', 'spi12', 'd2m', 'erate', 'fg10', 'si10', 'swvl1', 't2m', 'tprate',\n",
    "                'danger_risk', 'fwinx', 'ffmcode', 'dufmcode', 'drtcode', 'infsinx', 'fbupinx', 'fdsrte',\n",
    "                'frp', 'daysElapsed', 'timeYear', 'timeMonth']\n",
    "\n",
    "trainB = train.drop('dry_matter', axis = 1)\n",
    "testB = test.drop('dry_matter', axis = 1)"
   ]
  },
  {
   "cell_type": "code",
   "execution_count": 18,
   "id": "73a8e72f",
   "metadata": {},
   "outputs": [],
   "source": [
    "train_norm_skew, test_norm_skew = transform(train = trainB, test = testB,\n",
    "                                            features = skewed_features, transformation = \"normalization\")\n",
    "train_norm_all, test_norm_all = transform(train = trainB, test = testB,\n",
    "                                          features = all_features, transformation = \"normalization\")\n",
    "train_stand_skew, test_stand_skew = transform(train = trainB, test = testB,\n",
    "                                              features = skewed_features, transformation = \"standardization\")\n",
    "train_stand_all, test_stand_all = transform(train = trainB, test = testB,\n",
    "                                            features = all_features, transformation = \"standardization\")\n",
    "train_power_skew, test_power_skew = transform(train = trainB, test = testB,\n",
    "                                              features = skewed_features, transformation = \"power\")\n",
    "train_power_all, test_power_all = transform(train = trainB, test = testB,\n",
    "                                            features = all_features, transformation = \"power\")"
   ]
  },
  {
   "cell_type": "code",
   "execution_count": 24,
   "id": "938eb7db",
   "metadata": {},
   "outputs": [
    {
     "name": "stdout",
     "output_type": "stream",
     "text": [
      "Parse progress: |█████████████████████████████████████████████████████████| 100%\n",
      "Parse progress: |█████████████████████████████████████████████████████████| 100%\n",
      "Parse progress: |█████████████████████████████████████████████████████████| 100%\n",
      "Parse progress: |█████████████████████████████████████████████████████████| 100%\n",
      "Parse progress: |█████████████████████████████████████████████████████████| 100%\n",
      "Parse progress: |█████████████████████████████████████████████████████████| 100%\n",
      "Parse progress: |█████████████████████████████████████████████████████████| 100%\n",
      "Parse progress: |█████████████████████████████████████████████████████████| 100%\n",
      "Parse progress: |█████████████████████████████████████████████████████████| 100%\n",
      "Parse progress: |█████████████████████████████████████████████████████████| 100%\n",
      "Parse progress: |█████████████████████████████████████████████████████████| 100%\n",
      "Parse progress: |█████████████████████████████████████████████████████████| 100%\n"
     ]
    }
   ],
   "source": [
    "# Define a list of datasets to work with\n",
    "trainX = [h2o.H2OFrame(train_norm_skew),\n",
    "          h2o.H2OFrame(train_norm_all),\n",
    "          h2o.H2OFrame(train_stand_skew),\n",
    "          h2o.H2OFrame(train_stand_all),\n",
    "          h2o.H2OFrame(train_power_skew),\n",
    "          h2o.H2OFrame(train_power_all)]\n",
    "testX = [h2o.H2OFrame(test_norm_skew),\n",
    "         h2o.H2OFrame(test_norm_all),\n",
    "         h2o.H2OFrame(test_stand_skew),\n",
    "         h2o.H2OFrame(test_stand_all),\n",
    "         h2o.H2OFrame(test_power_skew),\n",
    "         h2o.H2OFrame(test_power_all)]"
   ]
  },
  {
   "cell_type": "code",
   "execution_count": 25,
   "id": "8f6b23dc",
   "metadata": {},
   "outputs": [
    {
     "name": "stdout",
     "output_type": "stream",
     "text": [
      "AutoML progress: |████████████████████████████████████████████████████████| 100%\n",
      "stackedensemble prediction progress: |████████████████████████████████████| 100%\n",
      "AutoML progress: |████████████████████████████████████████████████████████| 100%\n",
      "stackedensemble prediction progress: |████████████████████████████████████| 100%\n",
      "AutoML progress: |████████████████████████████████████████████████████████| 100%\n",
      "stackedensemble prediction progress: |████████████████████████████████████| 100%\n",
      "AutoML progress: |████████████████████████████████████████████████████████| 100%\n",
      "stackedensemble prediction progress: |████████████████████████████████████| 100%\n",
      "AutoML progress: |████████████████████████████████████████████████████████| 100%\n",
      "stackedensemble prediction progress: |████████████████████████████████████| 100%\n",
      "AutoML progress: |████████████████████████████████████████████████████████| 100%\n",
      "stackedensemble prediction progress: |████████████████████████████████████| 100%\n"
     ]
    }
   ],
   "source": [
    "# model fitting and measuring the model metric\n",
    "mae = []\n",
    "for i in range(len(trainX)):\n",
    "    # Define Regressor model\n",
    "    aml = H2OAutoML(max_runtime_secs = 30*60, seed = 1, stopping_metric = \"mae\",\n",
    "                    preprocessing = [\"target_encoding\"])\n",
    "    # Fit\n",
    "    aml.train(y = y, training_frame = trainX[i])\n",
    "    # Get performance\n",
    "    preds = aml.predict(testX[i])\n",
    "    mae.append(mean_absolute_error(obs, np.exp(preds.as_data_frame())))"
   ]
  },
  {
   "cell_type": "code",
   "execution_count": 26,
   "id": "b70b82d5",
   "metadata": {},
   "outputs": [
    {
     "data": {
      "text/html": [
       "<div>\n",
       "<style scoped>\n",
       "    .dataframe tbody tr th:only-of-type {\n",
       "        vertical-align: middle;\n",
       "    }\n",
       "\n",
       "    .dataframe tbody tr th {\n",
       "        vertical-align: top;\n",
       "    }\n",
       "\n",
       "    .dataframe thead th {\n",
       "        text-align: right;\n",
       "    }\n",
       "</style>\n",
       "<table border=\"1\" class=\"dataframe\">\n",
       "  <thead>\n",
       "    <tr style=\"text-align: right;\">\n",
       "      <th></th>\n",
       "      <th>MAE</th>\n",
       "    </tr>\n",
       "  </thead>\n",
       "  <tbody>\n",
       "    <tr>\n",
       "      <th>Normalization - skewed features only</th>\n",
       "      <td>46.512712</td>\n",
       "    </tr>\n",
       "    <tr>\n",
       "      <th>Normalization - all features</th>\n",
       "      <td>46.477336</td>\n",
       "    </tr>\n",
       "    <tr>\n",
       "      <th>Standardization - skewed features only</th>\n",
       "      <td>46.441018</td>\n",
       "    </tr>\n",
       "    <tr>\n",
       "      <th>Standardization - all features</th>\n",
       "      <td>46.350385</td>\n",
       "    </tr>\n",
       "    <tr>\n",
       "      <th>Power transformation - skewed features only</th>\n",
       "      <td>46.567469</td>\n",
       "    </tr>\n",
       "    <tr>\n",
       "      <th>Power transformation - all features</th>\n",
       "      <td>46.508879</td>\n",
       "    </tr>\n",
       "  </tbody>\n",
       "</table>\n",
       "</div>"
      ],
      "text/plain": [
       "                                                   MAE\n",
       "Normalization - skewed features only         46.512712\n",
       "Normalization - all features                 46.477336\n",
       "Standardization - skewed features only       46.441018\n",
       "Standardization - all features               46.350385\n",
       "Power transformation - skewed features only  46.567469\n",
       "Power transformation - all features          46.508879"
      ]
     },
     "execution_count": 26,
     "metadata": {},
     "output_type": "execute_result"
    }
   ],
   "source": [
    "# visualizing the result\n",
    "df = pd.DataFrame({'MAE':mae},\n",
    "                  index=['Normalization - skewed features only',\n",
    "                         'Normalization - all features',\n",
    "                         'Standardization - skewed features only',\n",
    "                         'Standardization - all features',\n",
    "                         'Power transformation - skewed features only',\n",
    "                         'Power transformation - all features'])\n",
    "df"
   ]
  },
  {
   "cell_type": "code",
   "execution_count": 27,
   "id": "645eda84",
   "metadata": {},
   "outputs": [
    {
     "name": "stdout",
     "output_type": "stream",
     "text": [
      "\\begin{tabular}{lr}\n",
      "\\toprule\n",
      "{} &        MAE \\\\\n",
      "\\midrule\n",
      "Normalization - skewed features only        &  46.512712 \\\\\n",
      "Normalization - all features                &  46.477336 \\\\\n",
      "Standardization - skewed features only      &  46.441018 \\\\\n",
      "Standardization - all features              &  46.350385 \\\\\n",
      "Power transformation - skewed features only &  46.567469 \\\\\n",
      "Power transformation - all features         &  46.508879 \\\\\n",
      "\\bottomrule\n",
      "\\end{tabular}\n",
      "\n"
     ]
    }
   ],
   "source": [
    "print(df.to_latex(index=True))"
   ]
  },
  {
   "cell_type": "code",
   "execution_count": 35,
   "id": "31942c8d",
   "metadata": {},
   "outputs": [
    {
     "data": {
      "text/plain": [
       "array([[<matplotlib.axes._subplots.AxesSubplot object at 0x7f39dbf088e0>,\n",
       "        <matplotlib.axes._subplots.AxesSubplot object at 0x7f39dbec08e0>,\n",
       "        <matplotlib.axes._subplots.AxesSubplot object at 0x7f39dcae66a0>,\n",
       "        <matplotlib.axes._subplots.AxesSubplot object at 0x7f39e37d4340>,\n",
       "        <matplotlib.axes._subplots.AxesSubplot object at 0x7f393908b400>],\n",
       "       [<matplotlib.axes._subplots.AxesSubplot object at 0x7f39390e09a0>,\n",
       "        <matplotlib.axes._subplots.AxesSubplot object at 0x7f39390e95e0>,\n",
       "        <matplotlib.axes._subplots.AxesSubplot object at 0x7f3939075250>,\n",
       "        <matplotlib.axes._subplots.AxesSubplot object at 0x7f393906c8b0>,\n",
       "        <matplotlib.axes._subplots.AxesSubplot object at 0x7f3938ff4610>],\n",
       "       [<matplotlib.axes._subplots.AxesSubplot object at 0x7f3938f6a850>,\n",
       "        <matplotlib.axes._subplots.AxesSubplot object at 0x7f3938f206d0>,\n",
       "        <matplotlib.axes._subplots.AxesSubplot object at 0x7f3938f04160>,\n",
       "        <matplotlib.axes._subplots.AxesSubplot object at 0x7f3938e5bd00>,\n",
       "        <matplotlib.axes._subplots.AxesSubplot object at 0x7f3938e959a0>],\n",
       "       [<matplotlib.axes._subplots.AxesSubplot object at 0x7f3938dd96a0>,\n",
       "        <matplotlib.axes._subplots.AxesSubplot object at 0x7f3938d90c10>,\n",
       "        <matplotlib.axes._subplots.AxesSubplot object at 0x7f3938d56e50>,\n",
       "        <matplotlib.axes._subplots.AxesSubplot object at 0x7f3938d2cb50>,\n",
       "        <matplotlib.axes._subplots.AxesSubplot object at 0x7f3938ccaf10>],\n",
       "       [<matplotlib.axes._subplots.AxesSubplot object at 0x7f39386fa280>,\n",
       "        <matplotlib.axes._subplots.AxesSubplot object at 0x7f3938d02fd0>,\n",
       "        <matplotlib.axes._subplots.AxesSubplot object at 0x7f39c355d040>,\n",
       "        <matplotlib.axes._subplots.AxesSubplot object at 0x7f39d75b7820>,\n",
       "        <matplotlib.axes._subplots.AxesSubplot object at 0x7f39d7571220>],\n",
       "       [<matplotlib.axes._subplots.AxesSubplot object at 0x7f39d758b1c0>,\n",
       "        <matplotlib.axes._subplots.AxesSubplot object at 0x7f39e17b28b0>,\n",
       "        <matplotlib.axes._subplots.AxesSubplot object at 0x7f39df8aabb0>,\n",
       "        <matplotlib.axes._subplots.AxesSubplot object at 0x7f39df8aa760>,\n",
       "        <matplotlib.axes._subplots.AxesSubplot object at 0x7f39c56a4c40>]],\n",
       "      dtype=object)"
      ]
     },
     "execution_count": 35,
     "metadata": {},
     "output_type": "execute_result"
    },
    {
     "data": {
      "image/png": "[encoded data removed]",
      "text/plain": [
       "<Figure size 1080x1296 with 30 Axes>"
      ]
     },
     "metadata": {
      "needs_background": "light"
     },
     "output_type": "display_data"
    }
   ],
   "source": [
    "train_stand_all.drop(['log_dry_matter', 'climatic_region', 'biome', 'GFEDregions'],\n",
    "                     axis = 1).hist(figsize = (15,18))"
   ]
  },
  {
   "cell_type": "markdown",
   "id": "2d09e71f",
   "metadata": {},
   "source": [
    "The above test shows that the best result is achieved by standardising the features and that there is no clear improvement in removing redundant features. This is an interesting interim result: ensuring that predictors vary in comparable ranges (standardisation) yields better results than correcting the variable distribution using a statistical transformation. Therefore, the final model makes use of a log-transformed target and all the features (standardised). "
   ]
  },
  {
   "cell_type": "code",
   "execution_count": 36,
   "id": "a610a622",
   "metadata": {},
   "outputs": [],
   "source": [
    "train_stand_all.to_csv(\"/home/moc0/ai-vegetation-fuel/data/inputs/train_interpTrue_preprocessed.csv\")\n",
    "test_stand_all.to_csv(\"/home/moc0/ai-vegetation-fuel/data/inputs/test_interpTrue_preprocessed.csv\")"
   ]
  }
 ],
 "metadata": {
  "kernelspec": {
   "display_name": "Python 3",
   "language": "python",
   "name": "python3"
  },
  "language_info": {
   "codemirror_mode": {
    "name": "ipython",
    "version": 3
   },
   "file_extension": ".py",
   "mimetype": "text/x-python",
   "name": "python",
   "nbconvert_exporter": "python",
   "pygments_lexer": "ipython3",
   "version": "3.8.8"
  }
 },
 "nbformat": 4,
 "nbformat_minor": 5
}
